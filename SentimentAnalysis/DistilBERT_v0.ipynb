{
 "cells": [
  {
   "cell_type": "markdown",
   "id": "2e588082-998c-4f85-b8d7-4522556a8f4e",
   "metadata": {},
   "source": [
    "* Training with DistilBERT\n",
    "* Examining Tokenization"
   ]
  },
  {
   "cell_type": "code",
   "execution_count": null,
   "id": "8ab8cbe2-bdd7-4b95-a473-3c3e82ba6044",
   "metadata": {},
   "outputs": [],
   "source": []
  },
  {
   "cell_type": "markdown",
   "id": "9a82296b-e4da-4fdc-a3b7-3b85dbdb5bb1",
   "metadata": {},
   "source": [
    "# Import libraries"
   ]
  },
  {
   "cell_type": "code",
   "execution_count": 1,
   "id": "3fb25ff3-5482-42ea-8701-0620df9c370e",
   "metadata": {},
   "outputs": [
    {
     "name": "stderr",
     "output_type": "stream",
     "text": [
      "/media/skesava/D/Training/MachineLearning/Pytorch/NLP_using_LLMs/.venv/lib/python3.11/site-packages/tqdm/auto.py:21: TqdmWarning: IProgress not found. Please update jupyter and ipywidgets. See https://ipywidgets.readthedocs.io/en/stable/user_install.html\n",
      "  from .autonotebook import tqdm as notebook_tqdm\n"
     ]
    }
   ],
   "source": [
    "import torch\n",
    "import numpy as np\n",
    "import pandas as pd\n",
    "import lightning as L"
   ]
  },
  {
   "cell_type": "code",
   "execution_count": 2,
   "id": "4f7b8990-5f7a-447c-abef-3a622c986676",
   "metadata": {},
   "outputs": [],
   "source": [
    "from pathlib import Path\n",
    "import os"
   ]
  },
  {
   "cell_type": "markdown",
   "id": "a4a0c69c-4cf1-4948-9097-a630994c4d2e",
   "metadata": {},
   "source": [
    "# Import data"
   ]
  },
  {
   "cell_type": "code",
   "execution_count": 3,
   "id": "d0dfed61-16c3-4119-a1b5-245d7843d70a",
   "metadata": {},
   "outputs": [
    {
     "data": {
      "text/plain": [
       "PosixPath('/media/skesava/D/Training/MachineLearning/Pytorch/NLP_using_LLMs/SentimentAnalysis')"
      ]
     },
     "execution_count": 3,
     "metadata": {},
     "output_type": "execute_result"
    }
   ],
   "source": [
    "Path.cwd()"
   ]
  },
  {
   "cell_type": "code",
   "execution_count": 4,
   "id": "f80d7493-3a44-435b-bf6e-53d818b44556",
   "metadata": {},
   "outputs": [
    {
     "data": {
      "text/plain": [
       "True"
      ]
     },
     "execution_count": 4,
     "metadata": {},
     "output_type": "execute_result"
    }
   ],
   "source": [
    "data_directory = Path.cwd().parent.parent.parent.joinpath('ML datasets/IMDB_SentimentAnalysis_TextData/aclImdb/processed_data/')\n",
    "data_directory.exists()"
   ]
  },
  {
   "cell_type": "markdown",
   "id": "38ad1e52-ef30-4f15-b767-7b0c86ae7ef0",
   "metadata": {},
   "source": [
    "### Pandas dataframe"
   ]
  },
  {
   "cell_type": "code",
   "execution_count": 5,
   "id": "4d9acbf4-d02b-4913-be5f-0b9ec167d520",
   "metadata": {},
   "outputs": [],
   "source": [
    "df_train = pd.read_csv(data_directory.joinpath(\"train.csv\"))\n",
    "df_val = pd.read_csv(data_directory.joinpath(\"test.csv\"))\n",
    "df_test = pd.read_csv(data_directory.joinpath(\"val.csv\"))"
   ]
  },
  {
   "cell_type": "code",
   "execution_count": 6,
   "id": "de7c9e69-1ad8-4931-9d4d-69b779a5c2fa",
   "metadata": {},
   "outputs": [
    {
     "name": "stdout",
     "output_type": "stream",
     "text": [
      "<class 'pandas.core.frame.DataFrame'>\n",
      "RangeIndex: 35000 entries, 0 to 34999\n",
      "Data columns (total 2 columns):\n",
      " #   Column  Non-Null Count  Dtype \n",
      "---  ------  --------------  ----- \n",
      " 0   text    35000 non-null  object\n",
      " 1   label   35000 non-null  int64 \n",
      "dtypes: int64(1), object(1)\n",
      "memory usage: 547.0+ KB\n"
     ]
    }
   ],
   "source": [
    "df_train.info()"
   ]
  },
  {
   "cell_type": "markdown",
   "id": "8b38f5f1-8608-45d6-8b21-2c884de70759",
   "metadata": {},
   "source": [
    "### Using HuggingFace Dataset library"
   ]
  },
  {
   "cell_type": "code",
   "execution_count": 15,
   "id": "237c3d0f-17c8-44ab-93af-d3762924d713",
   "metadata": {},
   "outputs": [],
   "source": [
    "from datasets import load_dataset, Features, Value, ClassLabel"
   ]
  },
  {
   "cell_type": "code",
   "execution_count": 16,
   "id": "10116775-9c24-436c-84a1-9b36c3c470f0",
   "metadata": {},
   "outputs": [],
   "source": [
    "columns_to_select = Features(dict({\"text\": Value(dtype='string', id=None), \n",
    "                                   \"label\": ClassLabel(num_classes=2)\n",
    "                                  })\n",
    "                            )"
   ]
  },
  {
   "cell_type": "code",
   "execution_count": 17,
   "id": "f03e5a86-e2f9-41d3-8f33-ae362d4f36c7",
   "metadata": {},
   "outputs": [
    {
     "name": "stderr",
     "output_type": "stream",
     "text": [
      "Generating train split: 35000 examples [00:00, 68068.01 examples/s]\n",
      "Generating test split: 10000 examples [00:00, 70722.62 examples/s]\n",
      "Generating val split: 5000 examples [00:00, 67154.64 examples/s]\n"
     ]
    }
   ],
   "source": [
    "imdb_dataset = load_dataset(path=str(data_directory), data_files={\"train\": \"train.csv\",\n",
    "                                                            \"test\": \"test.csv\",\n",
    "                                                            \"val\": \"val.csv\"\n",
    "                                                            },\n",
    "                            features=columns_to_select\n",
    "                           )"
   ]
  },
  {
   "cell_type": "code",
   "execution_count": 18,
   "id": "87fcdc12-e46d-402b-85f8-7a3a82431e8d",
   "metadata": {},
   "outputs": [
    {
     "data": {
      "text/plain": [
       "DatasetDict({\n",
       "    train: Dataset({\n",
       "        features: ['text', 'label'],\n",
       "        num_rows: 35000\n",
       "    })\n",
       "    test: Dataset({\n",
       "        features: ['text', 'label'],\n",
       "        num_rows: 10000\n",
       "    })\n",
       "    val: Dataset({\n",
       "        features: ['text', 'label'],\n",
       "        num_rows: 5000\n",
       "    })\n",
       "})"
      ]
     },
     "execution_count": 18,
     "metadata": {},
     "output_type": "execute_result"
    }
   ],
   "source": [
    "imdb_dataset"
   ]
  },
  {
   "cell_type": "code",
   "execution_count": 20,
   "id": "f5de8de3-a39e-4a18-aeec-0189349e9e2a",
   "metadata": {},
   "outputs": [
    {
     "data": {
      "text/plain": [
       "datasets.arrow_dataset.Dataset"
      ]
     },
     "execution_count": 20,
     "metadata": {},
     "output_type": "execute_result"
    }
   ],
   "source": [
    "type(imdb_dataset[\"train\"])"
   ]
  },
  {
   "cell_type": "code",
   "execution_count": null,
   "id": "8b01638a-07a1-46cd-86e5-0b970e24def4",
   "metadata": {},
   "outputs": [],
   "source": []
  },
  {
   "cell_type": "markdown",
   "id": "f63e1717-d556-432a-a429-63e2e83d72e1",
   "metadata": {},
   "source": [
    "# Tokenization"
   ]
  },
  {
   "cell_type": "code",
   "execution_count": 21,
   "id": "33fa68a3-8217-4769-94fe-4ff713310226",
   "metadata": {},
   "outputs": [],
   "source": [
    "from transformers import AutoTokenizer"
   ]
  },
  {
   "cell_type": "code",
   "execution_count": null,
   "id": "338a73f3-b9a4-4ec8-9ffc-62401d8b2e3f",
   "metadata": {},
   "outputs": [],
   "source": []
  }
 ],
 "metadata": {
  "kernelspec": {
   "display_name": "nlp_llm",
   "language": "python",
   "name": "nlp_llm"
  },
  "language_info": {
   "codemirror_mode": {
    "name": "ipython",
    "version": 3
   },
   "file_extension": ".py",
   "mimetype": "text/x-python",
   "name": "python",
   "nbconvert_exporter": "python",
   "pygments_lexer": "ipython3",
   "version": "3.11.9"
  }
 },
 "nbformat": 4,
 "nbformat_minor": 5
}
