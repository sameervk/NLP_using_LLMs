{
 "cells": [
  {
   "cell_type": "markdown",
   "id": "2e588082-998c-4f85-b8d7-4522556a8f4e",
   "metadata": {},
   "source": [
    "* Training with DistilBERT\n",
    "* Examining Tokenization"
   ]
  },
  {
   "cell_type": "code",
   "execution_count": null,
   "id": "8ab8cbe2-bdd7-4b95-a473-3c3e82ba6044",
   "metadata": {},
   "outputs": [],
   "source": []
  },
  {
   "cell_type": "markdown",
   "id": "9a82296b-e4da-4fdc-a3b7-3b85dbdb5bb1",
   "metadata": {},
   "source": [
    "# Import libraries"
   ]
  },
  {
   "cell_type": "code",
   "execution_count": 1,
   "id": "3fb25ff3-5482-42ea-8701-0620df9c370e",
   "metadata": {},
   "outputs": [
    {
     "name": "stderr",
     "output_type": "stream",
     "text": [
      "/media/skesava/D/Training/MachineLearning/PyTorch_Lightning/NLP_using_LLMs/.venv/lib/python3.11/site-packages/tqdm/auto.py:21: TqdmWarning: IProgress not found. Please update jupyter and ipywidgets. See https://ipywidgets.readthedocs.io/en/stable/user_install.html\n",
      "  from .autonotebook import tqdm as notebook_tqdm\n"
     ]
    }
   ],
   "source": [
    "import torch\n",
    "import numpy as np\n",
    "import pandas as pd\n",
    "import lightning as L"
   ]
  },
  {
   "cell_type": "code",
   "execution_count": 2,
   "id": "4f7b8990-5f7a-447c-abef-3a622c986676",
   "metadata": {},
   "outputs": [],
   "source": [
    "from pathlib import Path\n",
    "import os"
   ]
  },
  {
   "cell_type": "markdown",
   "id": "a4a0c69c-4cf1-4948-9097-a630994c4d2e",
   "metadata": {},
   "source": [
    "# Import data"
   ]
  },
  {
   "cell_type": "code",
   "execution_count": 3,
   "id": "d0dfed61-16c3-4119-a1b5-245d7843d70a",
   "metadata": {},
   "outputs": [
    {
     "data": {
      "text/plain": [
       "PosixPath('/media/skesava/D/Training/MachineLearning/PyTorch_Lightning/NLP_using_LLMs/SentimentAnalysis')"
      ]
     },
     "execution_count": 3,
     "metadata": {},
     "output_type": "execute_result"
    }
   ],
   "source": [
    "Path.cwd()"
   ]
  },
  {
   "cell_type": "code",
   "execution_count": 4,
   "id": "f80d7493-3a44-435b-bf6e-53d818b44556",
   "metadata": {},
   "outputs": [
    {
     "data": {
      "text/plain": [
       "True"
      ]
     },
     "execution_count": 4,
     "metadata": {},
     "output_type": "execute_result"
    }
   ],
   "source": [
    "data_directory = Path.cwd().parent.parent.parent.joinpath('ML datasets/IMDB_SentimentAnalysis_TextData/aclImdb/processed_data/')\n",
    "data_directory.exists()"
   ]
  },
  {
   "cell_type": "markdown",
   "id": "38ad1e52-ef30-4f15-b767-7b0c86ae7ef0",
   "metadata": {},
   "source": [
    "### Pandas dataframe"
   ]
  },
  {
   "cell_type": "code",
   "execution_count": 5,
   "id": "4d9acbf4-d02b-4913-be5f-0b9ec167d520",
   "metadata": {},
   "outputs": [],
   "source": [
    "# df_train = pd.read_csv(data_directory.joinpath(\"train.csv\"))\n",
    "# df_val = pd.read_csv(data_directory.joinpath(\"test.csv\"))\n",
    "# df_test = pd.read_csv(data_directory.joinpath(\"val.csv\"))"
   ]
  },
  {
   "cell_type": "code",
   "execution_count": 6,
   "id": "de7c9e69-1ad8-4931-9d4d-69b779a5c2fa",
   "metadata": {},
   "outputs": [],
   "source": [
    "# df_train.info()"
   ]
  },
  {
   "cell_type": "markdown",
   "id": "8b38f5f1-8608-45d6-8b21-2c884de70759",
   "metadata": {},
   "source": [
    "### Using HuggingFace Dataset library"
   ]
  },
  {
   "cell_type": "code",
   "execution_count": 7,
   "id": "237c3d0f-17c8-44ab-93af-d3762924d713",
   "metadata": {},
   "outputs": [],
   "source": [
    "from datasets import load_dataset, Features, Value, ClassLabel"
   ]
  },
  {
   "cell_type": "code",
   "execution_count": 8,
   "id": "10116775-9c24-436c-84a1-9b36c3c470f0",
   "metadata": {},
   "outputs": [],
   "source": [
    "columns_to_select = Features(dict({\"text\": Value(dtype='string', id=None), \n",
    "                                   \"label\": ClassLabel(num_classes=2)\n",
    "                                  })\n",
    "                            )"
   ]
  },
  {
   "cell_type": "code",
   "execution_count": 9,
   "id": "f03e5a86-e2f9-41d3-8f33-ae362d4f36c7",
   "metadata": {},
   "outputs": [],
   "source": [
    "imdb_dataset = load_dataset(path=str(data_directory), data_files={\"train\": \"train.csv\",\n",
    "                                                            \"test\": \"test.csv\",\n",
    "                                                            \"val\": \"val.csv\"\n",
    "                                                            },\n",
    "                            features=columns_to_select\n",
    "                           )"
   ]
  },
  {
   "cell_type": "code",
   "execution_count": 10,
   "id": "87fcdc12-e46d-402b-85f8-7a3a82431e8d",
   "metadata": {},
   "outputs": [
    {
     "data": {
      "text/plain": [
       "DatasetDict({\n",
       "    train: Dataset({\n",
       "        features: ['text', 'label'],\n",
       "        num_rows: 35000\n",
       "    })\n",
       "    test: Dataset({\n",
       "        features: ['text', 'label'],\n",
       "        num_rows: 10000\n",
       "    })\n",
       "    val: Dataset({\n",
       "        features: ['text', 'label'],\n",
       "        num_rows: 5000\n",
       "    })\n",
       "})"
      ]
     },
     "execution_count": 10,
     "metadata": {},
     "output_type": "execute_result"
    }
   ],
   "source": [
    "imdb_dataset"
   ]
  },
  {
   "cell_type": "code",
   "execution_count": 11,
   "id": "f5de8de3-a39e-4a18-aeec-0189349e9e2a",
   "metadata": {},
   "outputs": [
    {
     "data": {
      "text/plain": [
       "datasets.arrow_dataset.Dataset"
      ]
     },
     "execution_count": 11,
     "metadata": {},
     "output_type": "execute_result"
    }
   ],
   "source": [
    "type(imdb_dataset[\"train\"])"
   ]
  },
  {
   "cell_type": "code",
   "execution_count": null,
   "id": "8b01638a-07a1-46cd-86e5-0b970e24def4",
   "metadata": {},
   "outputs": [],
   "source": []
  },
  {
   "cell_type": "markdown",
   "id": "f63e1717-d556-432a-a429-63e2e83d72e1",
   "metadata": {},
   "source": [
    "# Tokenization"
   ]
  },
  {
   "cell_type": "code",
   "execution_count": 12,
   "id": "33fa68a3-8217-4769-94fe-4ff713310226",
   "metadata": {},
   "outputs": [],
   "source": [
    "from transformers import AutoTokenizer, DistilBertTokenizer"
   ]
  },
  {
   "cell_type": "code",
   "execution_count": 13,
   "id": "338a73f3-b9a4-4ec8-9ffc-62401d8b2e3f",
   "metadata": {},
   "outputs": [],
   "source": [
    "tokenizer = AutoTokenizer.from_pretrained(\"distilbert-base-uncased\")"
   ]
  },
  {
   "cell_type": "code",
   "execution_count": 14,
   "id": "455fe7ab-bb56-4a67-9006-413482f00f27",
   "metadata": {},
   "outputs": [
    {
     "data": {
      "text/plain": [
       "510"
      ]
     },
     "execution_count": 14,
     "metadata": {},
     "output_type": "execute_result"
    }
   ],
   "source": [
    "tokenizer.max_len_single_sentence"
   ]
  },
  {
   "cell_type": "code",
   "execution_count": 15,
   "id": "d6baae3d-aa9d-4ba7-8d28-65ef39ae6816",
   "metadata": {},
   "outputs": [
    {
     "data": {
      "text/plain": [
       "30522"
      ]
     },
     "execution_count": 15,
     "metadata": {},
     "output_type": "execute_result"
    }
   ],
   "source": [
    "tokenizer.vocab_size"
   ]
  },
  {
   "cell_type": "code",
   "execution_count": 16,
   "id": "b27722dc-2496-4e08-9ee3-d2e1ad9fea7b",
   "metadata": {},
   "outputs": [
    {
     "data": {
      "text/plain": [
       "False"
      ]
     },
     "execution_count": 16,
     "metadata": {},
     "output_type": "execute_result"
    }
   ],
   "source": [
    "tokenizer.verbose"
   ]
  },
  {
   "cell_type": "code",
   "execution_count": 17,
   "id": "3acf66ef-7a4b-4690-929a-48a3deea19dd",
   "metadata": {},
   "outputs": [
    {
     "data": {
      "text/plain": [
       "512"
      ]
     },
     "execution_count": 17,
     "metadata": {},
     "output_type": "execute_result"
    }
   ],
   "source": [
    "tokenizer.model_max_length"
   ]
  },
  {
   "cell_type": "code",
   "execution_count": 18,
   "id": "1019d375-7210-4a8d-9b0e-496844c89c94",
   "metadata": {},
   "outputs": [
    {
     "data": {
      "text/plain": [
       "['input_ids', 'attention_mask']"
      ]
     },
     "execution_count": 18,
     "metadata": {},
     "output_type": "execute_result"
    }
   ],
   "source": [
    "tokenizer.model_input_names"
   ]
  },
  {
   "cell_type": "code",
   "execution_count": null,
   "id": "70cafa45-85a2-441b-9ef4-667c016c3d58",
   "metadata": {},
   "outputs": [],
   "source": []
  },
  {
   "cell_type": "code",
   "execution_count": 19,
   "id": "4b6eccf3-b3d0-4523-97bf-648a1b625bb7",
   "metadata": {},
   "outputs": [],
   "source": [
    "def tokenize_text(batch):\n",
    "\n",
    "    return tokenizer(batch[\"text\"], truncation=True, padding=True)"
   ]
  },
  {
   "cell_type": "code",
   "execution_count": 20,
   "id": "541244b5-6883-426a-8bac-2630081d8fd2",
   "metadata": {},
   "outputs": [
    {
     "name": "stderr",
     "output_type": "stream",
     "text": [
      "Map: 100%|███████████████████████| 10000/10000 [00:03<00:00, 2985.70 examples/s]\n"
     ]
    }
   ],
   "source": [
    "imdb_tokens = imdb_dataset.map(tokenize_text, batched=True, batch_size=None)\n",
    "# batch_size=None, provides the full dataset"
   ]
  },
  {
   "cell_type": "code",
   "execution_count": null,
   "id": "27db3fc5-c94d-4ac1-b486-2fb7ca8fedeb",
   "metadata": {},
   "outputs": [],
   "source": []
  },
  {
   "cell_type": "markdown",
   "id": "3c947795-9e5b-425d-ae83-013f7c22705f",
   "metadata": {},
   "source": [
    "### Deleting the dataset after tokenization"
   ]
  },
  {
   "cell_type": "code",
   "execution_count": 21,
   "id": "1128f150-bea8-4dbe-8eb8-915932eeb520",
   "metadata": {},
   "outputs": [],
   "source": [
    "del imdb_dataset"
   ]
  },
  {
   "cell_type": "code",
   "execution_count": 22,
   "id": "5574f899-763c-4e66-9751-c765eb3d228c",
   "metadata": {},
   "outputs": [
    {
     "data": {
      "text/plain": [
       "{'train': [{'filename': '/home/skesava/.cache/huggingface/datasets/processed_data/default-afc46ccbcdb7d983/0.0.0/316f5994c628c49b/cache-dbda72b584173fd4.arrow'}],\n",
       " 'test': [{'filename': '/home/skesava/.cache/huggingface/datasets/processed_data/default-afc46ccbcdb7d983/0.0.0/316f5994c628c49b/cache-3dad57f397a21204.arrow'}],\n",
       " 'val': [{'filename': '/home/skesava/.cache/huggingface/datasets/processed_data/default-afc46ccbcdb7d983/0.0.0/316f5994c628c49b/cache-842e0b75e7af8836.arrow'}]}"
      ]
     },
     "execution_count": 22,
     "metadata": {},
     "output_type": "execute_result"
    }
   ],
   "source": [
    "imdb_tokens.cache_files"
   ]
  },
  {
   "cell_type": "code",
   "execution_count": 23,
   "id": "87e851f3-12eb-485d-a4b5-280cf0588e47",
   "metadata": {},
   "outputs": [
    {
     "data": {
      "text/plain": [
       "{'train': ['text', 'label', 'input_ids', 'attention_mask'],\n",
       " 'test': ['text', 'label', 'input_ids', 'attention_mask'],\n",
       " 'val': ['text', 'label', 'input_ids', 'attention_mask']}"
      ]
     },
     "execution_count": 23,
     "metadata": {},
     "output_type": "execute_result"
    }
   ],
   "source": [
    "imdb_tokens.column_names"
   ]
  },
  {
   "cell_type": "markdown",
   "id": "61b435a6-3ad2-4829-8bfb-22c67db4ed3d",
   "metadata": {},
   "source": [
    "### Setting framework format for training"
   ]
  },
  {
   "cell_type": "code",
   "execution_count": 24,
   "id": "67dc63d5-97e0-4648-999b-f700b6b1a87a",
   "metadata": {},
   "outputs": [],
   "source": [
    "imdb_tokens.set_format(type=\"torch\", columns=[\"input_ids\", \"attention_mask\", \"label\"])"
   ]
  },
  {
   "cell_type": "code",
   "execution_count": 25,
   "id": "0bf72311-38e9-46f8-94ea-bc60200654f4",
   "metadata": {},
   "outputs": [
    {
     "data": {
      "text/plain": [
       "{'train': [{'filename': '/home/skesava/.cache/huggingface/datasets/processed_data/default-afc46ccbcdb7d983/0.0.0/316f5994c628c49b/cache-dbda72b584173fd4.arrow'}],\n",
       " 'test': [{'filename': '/home/skesava/.cache/huggingface/datasets/processed_data/default-afc46ccbcdb7d983/0.0.0/316f5994c628c49b/cache-3dad57f397a21204.arrow'}],\n",
       " 'val': [{'filename': '/home/skesava/.cache/huggingface/datasets/processed_data/default-afc46ccbcdb7d983/0.0.0/316f5994c628c49b/cache-842e0b75e7af8836.arrow'}]}"
      ]
     },
     "execution_count": 25,
     "metadata": {},
     "output_type": "execute_result"
    }
   ],
   "source": [
    "imdb_tokens.cache_files"
   ]
  },
  {
   "cell_type": "markdown",
   "id": "029e73e6-2a22-4cf9-84da-7ed41c8427fd",
   "metadata": {},
   "source": [
    "* Nothing changed"
   ]
  },
  {
   "cell_type": "markdown",
   "id": "f7e1f764-359f-4408-8982-3c187e635392",
   "metadata": {},
   "source": [
    "### *Exploring tokenized data*"
   ]
  },
  {
   "cell_type": "code",
   "execution_count": 26,
   "id": "2c5f218f-d5e9-4bad-a5ad-0dd694bea19f",
   "metadata": {
    "scrolled": true
   },
   "outputs": [
    {
     "data": {
      "text/plain": [
       "{'train': MemoryMappedTable\n",
       " text: string\n",
       " label: int64\n",
       " input_ids: list<item: int32>\n",
       "   child 0, item: int32\n",
       " attention_mask: list<item: int8>\n",
       "   child 0, item: int8\n",
       " ----\n",
       " text: [[\"Robert Duvall is a direct descendent of Confederate General Robert E. Lee, according the IMDb.com movie database. After seeing this film, you may think Duvall's appearance is reincarnation at it's best. One of my most favorite films. I wish the composer, Peter Rodgers Melnick had a CD or there was a soundtrack available. Wonderful scenery and music and \"all too-true-to-life,\" especially for those of us that live in, or have moved to, the South. This is a \"real moment in time.\" Life moves on, slowly, but \"strangers we do not remain.\"\",\"The Railway Children, at least this 1970 movie version written and directed by that long-time British character actor, Lionel Jeffries, is an unmitigated...classic. It tells a childhood story with great simplicity and charm; the sentimentality is muted; the evocation of childhood adventures is involving; and Jeffries brings cleverness and style to his production. <br /><br />The Waterbury family is leading an idyllic life in Edwardian London. The father is prosperous, the mother is beautiful and loving, the children are well-mannered and affectionate, their home is warm and cozy. Then one night during the Christmas holidays two men appear at the doorstep, talk quietly to the father, and then take him away. In a moment the lives of Mrs Waterbury (Dinah Sheridan) and Bobbie, 14 (Jenny Agutter), Phyllis, 12 (Sally Thomsett) and young Peter (Gary Warren), have been changed. Only their fortitude and good spirits are going to see them through. Now teetering into poverty, Mrs. Waterbury takes her children to live in a musty old brick house in the countryside near a rail-line, not too far from a small village with a train station. The children discover the rail and regularly sit on a small hill to wave at the passengers as the train chugs by. One day an old gentleman, going to his business in the city, looks up from his newspaper and finds himself waving back. It's not long before he will play an important part in the story. <br /><br />As time passes, Mrs. Waterbury brings all her love and intelligence to bear on her children. She begins to write stories to earn money. She teaches them their lessons and provides a home of warmth and security for them. The story, however, is about these three children, especially Bobbie. At 14, she is old enough to want to share her mother's worries, yet young enough to enjoy the adventures she has with her sister and brother. They find a poor man at the station who cannot speak English. They discover he is a Russian refugee who no longer knows where his wife and child are. They insist he must come home with them, and their mother takes him in. Before long the children have written a large sign to the old gentlemen on the train asking for his help. They help a young man taking part in a steeplechase who breaks his leg in a train tunnel. Soon, he is at their home recuperating. They decide to have a birthday party for the station master, a man with few friends and several children who is a stickler for his dignity. It's not long before the children help him realize the difference between friendship and charity. In other words, the three children encounter all sorts of problems in their childhood adventures, and manage to be instrumental in seeing that all the problems have happy endings. <br /><br />But what of their own problems? Bobbie finally learns from her mother that her father was taken away because he had been accused of treason, of giving state secrets to the Russians. Will Bobbie be able to find a way to help? Will the old gentleman be something more than simply an old gentleman on a passing train? Will their father's case be reopened? Will there be a happy ending? <br /><br />Jenny Agutter was almost 18 when she filmed her part; she plays the 14-year-old Bobbie with great naturalness and charm. As important as the other players are, especially Dinah Sheridan as the mother, Agutter is the heart of the story. For me, it is Jenny Agutter's talent and Lionel Jeffries' style and restraint that make this movie so memorable. The story's problems come with no serious doubt but that they will be solved. And Jeffries does not just give us an expertly adapted and directed movie, he adds touches that are barely noticed but which charm us. This might include just a split second of a freeze frame as two people talk; or a slow close-up of a small, yellow wildflower in the grass outside Bobbie's home, then a slow pull-back from a yellow oil lamp being turned up inside; or the realization that a delightful interior shot or a view of the green countryside or a look at the train station from a hill...all suddenly recall those charming Edwardian hand-tinted drawings of a perfect by- gone time. <br /><br />Perhaps this gentle story can't compete for the time kids need nowadays to perfect their Nintendo monster-splatting skills. I'm almost positive it would never capture the attention of most of their parents, especially those weaned on Batman and Leone. Still, it's a perfectly put together movie and shouldn't be forgotten. As an aside, 19 years later the story was retold as a television program. This time, Jenny Agutter played the mother.\",\"Anatomie was a German made Movie and subtitled.It was also overlong and boring.If it was supposed to be a horror movie,it failed miserably for me.The actors went through their paces looking more like they wanted to be some where else.The film work was ok but more attention should have been applied to the awful banal script.I paid nothing to see the video and I still feel cheated.Go read a book and save your money.\",\"This film makes Clooney. All his films combined before this have all been based on the same character. This film he transcends his previous body of work and proves his capability as a top notch actor. The soundtrack defeats most one-handedly. The brothers have truly made a classic. One to own and watch repeatedly.\",\"This is easily the best cinematic version of William Faulkner's fiction that I've ever seen, and I've seen several of the most prominent ones. Filmed in Faulkner's hometown of Oxford, Mississippi, it really captures the feeling of Jefferson and Yoknapatawpha County. Intruder in the Dust is not one of Faulkner's best novel, but, even if it is a cliché to say this, it would be the crown jewel in any one else's career. It beats Harper Lee's good but simplistic To Kill a Mockingbird fifty feet into the ground (I read that one in ninth grade, and that's exactly where it belongs). Two of Faulkner's most prominent characters play major parts in the film, Gavin Stevens and Lucas Beauchamp. Stevens is probably the single most common character in all of Faulkner's fiction. He's a lawyer and he works easily as a narrator, because, unlike many of his other characters, Stevens is a man of logic, not emotion (at least when he's older). Lucas Beauchamp may be the most prominent of all of Faulkner's black characters (he plays a major part in one of Faulkner's out-and-out masterpieces, Go Down, Moses); unlike all of the other black folks in Yoknapatawpha, he refuses to bow down to any white man. He has pride, and many in the white population find that an execrable quality in a black man. One day, Lucas is found standing over a dead white man with a recently-fired pistol in his possession. Most of Jefferson and the surrounding areas don't see the need for a trial, and everyone's pretty sure that Beauchamp will be lynched before the evening's over, or at least the next day, as the murder and arrest occurred on a Sunday. Beauchamp, on the other hand, declares his innocence and tries to get Stevens to help him. Stevens refuses; the case seems open and shut. But his young nephew, Chick Mallison, because Lucas had helped him in the past, is willing to help him now.<br /><br />As far as I know, no Hollywood film of this period deals with racism as overtly as this one. Hollywood films rarely persecute the black population, but instead prefer to relegate them to servant roles. If you're an African American actor, you might as well give up and accept that role as either the mammy, the maid, the servant, or the porter, because that's the only way you'll work. In Intruder in the Dust, there is to be found one of the most memorable non-porter roles a black actor ever had, Lucas Beauchamp. And Beauchamp, as I described above, is no stereotypical character, and might have been hard for audiences to accept. Even today, black characters are usually simple, magical, and kind. The recent arthouse hit Far from Heaven is a great example of that. Beauchamp is kind of a jerk, and he's very stubborn. Although he's perhaps a little less so here than he is in the novel, he's not any kind of stereotype. He's a complex human being. Juano Hernandez plays Beauchamp extraordinarily well. I haven't seen the film in a while, but he also appears in Robert Aldrich's 1955 film, Kiss Me Deadly, as well as the cinematic adaptation of Faulkner's final novel, The Reivers.<br /><br />All the actors are great in the film. I should also praise quickly Claude Jarman Jr., who has the great role of Chick Mallison. The novel takes place from his point of view, and he is the conventional hero of the picture. Jarman is quite an actor; he captures the character (who also appears elsewhere in Faulkner's fiction, narrating, for example, events that happened a decade or more before he was born in the 1957 novel The Town) perfectly. He would appear in another great role the next year in the underrated John Ford film Rio Grande. The only other film of Clarence Brown's that I've seen is National Velvet, quite a different picture than Intruder in the Dust. His job here is exceptional; I really have to credit him with capturing Faulkner perfectly. Other famous Faulkner adaptations are too melodramatic (The Long Hot Summer, filmed in 1958, which I really like despite that) or too cold (Tomorrow, filmed in 1972, which I do not like; that coldness is a complete misunderstanding of Faulkner). The only other one that really does well according to its source material is Douglas Sirk's great 1958 filming of Pylon (really a different sort of Faulkner novel altogether), Tarnished Angels. 10/10.\",...,\"A family traveling for their daughter's softball league decide to take the 'scenic route' and end up in the middle of nowhere. The father is an avid photographer, and when he hears of an old abandoned side show in the town, he decides to take another detour to take some photographs.<br /><br />Of course, the side show is filled with inbred freaks, who promptly kidnap the women and leave the young son and father to fend for themselves.<br /><br />The only cool thing about this film is how the family actually fights back against their inbred captors. Other than that, there's nothing worthwhile about the film.\",\"The 1960's were a time of change and awakening for most people. Social upheaval and unrest were commonplace as people spoke-out about their views. Racial tensions, politics, the Vietnam War, sexual promiscuity, and drug use were all part of the daily fabric, and the daily news. This film attempted to encapsulate these historical aspects into an entertaining movie, and largely succeeded.<br /><br />In this film, two families are followed: one white, one black. During the first half of the film, the story follows each family on a equal basis through social and family struggles. Unfortunately, the second half of the movie is nearly dedicated to the white family. Admittedly, there are more characters in this family, and the story lines are intermingled, but equal consideration is not given to the racial aspects of this century.<br /><br />On the whole, the acting is well done and historical footage is mixed with color and black and white original footage to give a documentary feel to the movie. The movie is a work of fiction, but clips of well-known historical figures are used to set the time-line.<br /><br />I enjoyed the movie but the situations were predictable and the storyline was one-sided.\",\"Sure, we all like bad movies at one time or another, and we in fact enjoy them, This however, wasn't even a guilty pleasure, it was just crap. Some guy, vince offer, who is conceited enough to make himself the main character while probably got drunk/high--probably both--and thought it was a great idea to make a movie. He then proceeded to show his script to equally high/drunk individuals. Overall, this movie was so bad, predictable, and unoriginal I couldn't get through 20 minutes of it before I turned it off. It makes You Got Served look like Citizen Kane. Bat Man? WTF...Some guy that walks around with a bat, real original. Almost as good as calling him Fat Man, and having a fat guy walk around in a superhero outfit.\",\"Except for the Brady Variety Hour, this was some of the hokiest television I've seen in a while. The video production qualities weren't too bad, but the overall look and feel were unmistakeably early 80's. And Marie Osmond looks like she did battle with the Avon Lady.. and lost big time. WAY too much eyeliner.<br /><br />It was kind of embarrassing to watch veterans Danny Kaye and Eric Severeid take part in this. Even more interesting was watching Alex Haley talk about the African Pavillion in World Showcase that would be opening 'in about a year.'<br /><br />As of this writing it is 17 years later and it hasn't opened yet (Unless you count Disney's Animal Kingdom.) All in all though, for all the shortcomings, this still an interesting visual piece of Disney history.\",\"Hotel Du Nord is a gripping drama of guilt in which Marcel Carne portrayed an entertaining tale of ill-fated love which also functions as a revolt against the cruel world.The film is based entirely on a pair of hapless lovers.Pierre and Renee were mistaken when they believed that suicide would put an end to their misery.Hotel Du Nord has its own inimitable charm as its inhabitants have become an essential part of the establishment.There is an element of togetherness as everyone flocks to Hotel Du Nord to eat,chat etc.Marcel Carne has remained true to the spirit of the films produced in 30s and 40s as Hotel Du Nord has a certain kind of nostalgic feel.Carne,while recreating the life of Parisian roads was able to create a sort of nostalgia for black and white giving a unique genre of poetic realism to his oeuvre.Hotel Du Nord can be termed as a quintessence of cinematographic populism.The 14th July ball scene on the banks of Saint Martin canal remains a magnificent sequence.The film's immense popularity can be judged from the fact that Hotel Du Nord has been declared as a national monument.\"],[\"It really impresses me that it got made. The director/writer/actor must be really charismatic in reality. I can think of no other way itd pass script stage. What I want you to consider is this...while watching the films I was feeling sorry for the actors. It felt like being in a stand up comedy club where the guy is dying on his feet and your sitting there, not enjoying it, just feeling really bad for him coz hes of trying. Id really like to know what the budget is, guess it must have been low as the film quality is really poor. I want to write 'the jokes didn't appeal to me'. but the reality is for them to appeal to you, you'd have to be the man who wrote them. or a retard. So imagine that in script form...and this guy got THAT green lit. Thats impressive isn't it?\",\"I do regret that I have bought this series. I expected more action, more objective picture and more consistency. This is just a pure propaganda series, very dark, without any charm, or romanticism, it is just boredom itself. I find the actors work quite weak as well. O'Donnell might seem charming as Robin (with Batman), but in this picture he lacks any charm. Probably while he becomes older, he is loosing his childish charm but does not gain any charm of a grown up. It comes as no surprise, that it was not shown in a lot of countries and is being sold in the UK for 40% of the recommended price and was not even released in the Netherlands.\",\"As a fan of old warner brothers gangster movies i had to check this out,its the 2nd best movie in the adventure classics DVD set that also had one of my favorite movies;Scott of the Antarctic on it.this was made in 1939 a good year for a lot of warner brothers movies,it boasts a great cast;John Garfield,Claude Rains,Ann Sheridan,and the dead end kids,who would be later known as the Bowery boys at monogram pictures. well a boxer(Garfield)gets framed for a murder he did'nt commit and is on the run and being tailed by a tough new york detective(Claude Rains) he ends up at a fruit picking place run by a pretty woman(Gloria Dickson)and the dead end kids(Huntz Hall,Leo Gorcey,Benard Punsley, Billy Halop,Bobby Jordan,Gabreil Dell)he later returns to boxing but tries to keep a low profile.this was directed by famed director Busby Berkley who directed timeless classics like 42nd street,goldiggers of 1933,and 35,footlight parade and many others.i would like to give a shout out to platinum DVD/video for putting out a lot of good budget priced DVD's like adventure classics(see my Scott of the Antarctic review)i give they made me a criminal 10 out of 10,great movie. ill have to point out that i have only seen 2 john Garfield movies,this one and body and soul.i thought he was a very good actor.\",\"The basic plot is good and can be engaging. The music is so great that it became the theme music for the TV show IRON CHEF (though it is WAY overused and too intrusive in the movie). So, how did this movie end up so poor?!?! Well, the plot was about 95% predictable and the characters were about as 1-dimensional as possible. And the dialog?! What person would actually allow themselves to receive credit for coming up with the STUPID macho bull-crap that purports to be dialog? You get much greater realism from most cartoons! The bottom line is that this movie has some good points but is so marred by hackneyed clichés and rotten dialog that it quickly becomes tiresome. And, this is a shame, because firemen deserve a better tribute than this mess! If you don't believe me, look at the number of goofs listed on IMDb for this movie--WAY in excess of what you'd expect to find. They just didn't care enough to work out all the kinks and problems. So, as a result the movie seems rushed and in need of a re-write and re-editing.\",\"This is the worst italian movie ever, quite possibly the worst movie of all time! Joe D'Amato is of course no cinematic genius but many of his movies are interesting and watchable. Unfortunatly this is not one of them. Its cheesy and boring....waaaaay boring. If you want a movie to MST3k, get Troll 2, if you want a movie to put someone into a coma, get deep blood!\",...,\"It's my opinion that when you decide to re-make a very good film, you should strive to do better than the original; or at least give it a fresh point of view. Now the 1963 Robert Wise telling of Shirley Jackson's remarkable novel \"The Haunting of Hill House\" is worth the price of admission even today. Now fast forward to 1999 and the re-make. I was left shaking my head and asking, why? The acting is wooden, the story unrecognizable and the whole point seems to be to replace the subtle horror of the original with as many special effects computers can generate. I had heard that this update was bad; but couldn't believe it was that bad, considering the source material. I was wrong. After watching this and saying to my wife how awful it was, she said; \"Well they got your money!\" She's right, don't let them get yours. If there's no profit in making lousy re-makes, maybe they'll stop making them or come up to a higher standard that doesn't insult their audience\",\"This has just been broadcast on BBC and I am absolutely delighted to have seen it. As the credits rolled, the cast alone made certain that I would give it a go. After just five minutes I was completely immersed in this beautiful film.<br /><br />Yes it was formulaic and predictable, but that somehow added to it's charm. The flashbacks to the forties were wonderfully placed and captured a feeling equalled in few productions.<br /><br />A real feel-good film, punctuated throughout with outstanding music. When it's released, I'll buy it!\",\"Operation Scorpio (AKAThe Scorpion King) doesn't slip into top gear until the last 25 minutes or so, but when the action does hit top speed, it delivers some truly amazing martial arts scenes that demand the viewer's attention. That is not to say that the first hour is worthless just that compared to the final fight-fest, it seems a bit underwhelming.<br /><br />The plot revolves around Yuk-Su, a talented comic artist who dreams of being a herojust like those he depicts in his drawings. When Yuk-Su rescues a young maid, Siu-Yu, who is being sold into prostitution, he incurs the wrath of her evil boss, Wa. Led by Sonny, master of scorpion style kung fu, Wa's henchmen give chase to Yuk-Su and the maid. Yuk-Su's father intervenes but he is injured. After being rescued by some friendly bodybuilders, the three eventually hide out at a noodle restaurant, owned by their friend, Master Yat.<br /><br />Yuk-Su learns to cooks noodles, but also regularly sneaks out in order to secretly build his strength and learn kung fu under the tutelage of Jean, the teacher of the musclebound hulks who rescued them. When Master Yat must leave on business, Yuk-Su is left in charge of the kitchen; however, he pops out to practise his skills with Jean, leaving Siu-Yu to serve the customers. Sonny and his men visit the restaurant and, disgusted by the noodles they are served, trash the restaurant.<br /><br />When Master Yat learns that Yuk-Su has been sneaking out, he tells him that he should have learnt kung fu from him; it transpires that Master Yat used to be a top Triad assassin, until he decided to try and change his ways. Under the guidance of Master Yat, Yuk-Su improves his skills, even learning the art of the shadowless kick! Yuk-Su eventually gets a chance to try and become a real hero when his friend, Fatty, announces that his maid has also been sold into prostitution. With Jean, they visit Wa posing as French brothel keepers looking for new women. When Fatty's maid is presented to them, she accidentally blows their ruse and at last the action kicks off big style. Despite his best efforts, Jean is badly beaten by Sonny and he and Yuk-Su are forced to flee. On returning to the restaurant, Yuk-Su finds it ablaze; and worst of all, the bad guys have found Siu-Yu! Yuk Su, accompanied by Master Yat, returns to Wa's place to try and rescue Siu-Yu...<br /><br />Despite some fairly entertaining training scenes, the slow build up to the final action at Wa's house is rather too drawn out and devoid of any serious fight scenes. It is a shame that the tedium wasn't broken up by a decent scrap midway, rather than saving all of the juicy stuff until the end.<br /><br />The last fight, however, is worth the wait in the end; Won Jin gives a jaw dropping performance as the high kicking Sonny who scuttles, flips and spins with amazing skill and dexterity, and Chin Kar-Lok gives a solid performance as Yuk-Su, the artist-turned-fighter. Also particularly good is old-school kung fu star Lau Kar-Leung (AKA Liu Chia Liang) as Master Yat, proving that this old-timer has still got what it takes to kick ass! Although not a perfect film, Operation Scorpio has enough standout action in its finale to definitely warrant a viewing.<br /><br />NB. I may have got some of the names wrong. My DVD calls characters by different names than those listed on IMDb.\",\"This typical teenagers movie is one of the best, beside the story is good, the music is well accompany the movie all along. <br /><br />Although i do not enjoy classic movie unless it is classic and better written script, this one is exceptional. Maybe the hair style and language should be change a bit, in the 80's i believe offensive language is still rarely heard.<br /><br />\",\"For once a Barbie movie that is good. I'm 18 and a embarrassed to say this but I'm hooked on these movies. I hated Barbie when I was younger but the movies I love. Shiver is so cute and I've fallen in love with him. He's so cute as the polar bear and totally in love with Aiden. Oh man I'm in love with Shiver. I love Annika determination not to give up on hope and eventfully it works. I love this movie and hopefully they will be other good ones. Barbie & Swan Lake is other brilliant movie. I would recommend this movie to children of all ages (even boys) because the movie is that good and I'm hard to please. Barbie and the Magic of Pegasus is a movie that is enchanting and exciting.\"],...,[\"As far as films go, this is likable enough. Entertaining characters, good dialogue, interesting enough story. I would have really quite liked it had I not been irritated immensely whilst watching at the utter disrespect it shows the city it is set in.<br /><br />Glasgow. In Scotland. Yet every character is English (save for Sean's girlfriend, who is Dutch). Scottish accents are heard only fleetingly in menial jobs & roles. As a Scottish woman (& as a viewer who likes her \"real life\" films to be a bit more like real life) I really don't think it would have hurt to use any one of the countless talented Scottish actors...or at least got English ones who could toss together a decent accent! The futile attempt at using the word \"wee\" a few times did nothing but to further the insult.\",\"I didn't expect much when I decided to watch this movie, so I was surprised to find myself thoroughly enjoying it. A couple of scenes had me laughing almost uncontrollably. The characters were engaging (no pun intended); however, the story is predictable. The fun of it comes from watching Crawl (Shore's character), a ditzy-yet-wise California dude a country college girl brings home for Thanksgiving, trying in his awkward (yet endearing) way to fit in to their lifestyle. I was also surprised that in all this there was a message. If you have a chance, see this movie!\",\"This is one of those religious horror films which never explain why the forces of \"evil\" are 10,000 times stronger than those of \"good\". We've got here a Satanic cult which can: 1) \"beam away\" people (like in \"Star Trek\"), 2) kill through little children's dolls, 3) transfer a soul from one body into another, 4) hypnotize telepathically from a bigger distance, and 5) cause drastic car-crashes in which selected persons turn into spaghetti while others (kids, in this case) survive unscathed.<br /><br />On the other hand, the forces of \"good\" can: 1) sit around helplessly, 2) stand around cluelessly, 3) panic, 4) laugh hysterically, 5) waste time by doing nothing, 6) read comics while people get slaughtered by the dozens, and 7) arrive too late to Satanic rituals.<br /><br />In every religious horror movie I have to assume that that movie's world is inhabited by God and by Satan. I also have to assume that Satan can't be 1,000,000 times more powerful, unless the movie has a world order resembling that of Hell. In other words, where were the priests in this film who knew something? The best that this movie's priest could do is guess that there are some witches about - nothing else - from reading all those books in his study. At the first sight of violence this priest becomes catatonic, then laughs hysterically, only to finish in a major panic attack. So this is supposed to be God's contribution to fighting Satan? Ridiculous. Every good religious horror film has the powers of \"good\" equipped with some form of (more-or-less) supernatural power, or at least SOME concrete knowledge of how to fight \"evil\". In that sense this movie is quite idiotic. As is the casting of the droll Martin to play the high priest(!) of the cult. There is very little menace or awe in watching the quirky Martin lead a Satanic ritual. I mean, it didn't have to be Christopher Lee or Langhella, but couldn't they have found someone less funny-looking? Also, why does the couple go back to the town after their car is put out of the running? After their \"friendly\" encounter with the town's folk no sane person would have gone back; they should've just walked on. The man's explanation to his girlfriend (and the viewer) is that \"who knows what's in that direction\".\",\"I remember the events of this movie, the ill fated cruise of Donald Crowhurst in 1968, in the Golden Globe single handed around the world yacht race. I was a 13 year old, living in England. The previous year Francis Chichester (later Sir Francis; he was knighted for his exploits) had completed the first solo circumnavigation of the globe. I remember it mostly because we were given time off school to watch his return (on a grainy black and white TV!) and then his knighting by the Queen. It provoked a huge outpouring of patriotic fervor in the UK. It all seems so quaint now. Chichester became a national hero, but he had stopped half way, in Australia, to re-fit his yacht, so the next logical step for yachtsmen was to attempt the journey without stopping.<br /><br />It's important to remember that this was a world pre-GPS, when communications on land were still pretty erratic, never mind in the middle of the ocean. Now with GPS receivers that fit on a key chain and calculate a position within a metre anywhere on earth, it's hard to recall a time when you could go to sea and quite literally, vanish. As Donald Crowhurst did. <br /><br />A number of yachtsmen signed up (all men back then), including mystery man, Crowhurst. Essentially a weekend sailor, Crowhurst had not been a spectacular success in any previous enterprise, including careers in the British Army, the Air Force and as an electronics entrepreneur selling navigation aids. He wanted to do something big with his life, and he saw the five thousand pound first prize (well over $100,000 in today's money) and the ensuing publicity as a means of kick starting his business. He signed a deal with a sponsor that proved more watertight than his boat, and which meant failure would bankrupt him, and soon found himself a popular figure with journalists as he prepared for the race. Now the Brits always love the idea of the gutsy amateur taking on the 'pros'. (Think Eddie the Eagle losing endless Olympic ski jump competitions, and the amateur riders who regularly start the Grand National horse race.) The public queued up to see him set off, but his boat wasn't really ready, and even as he started (the last competitor to leave the UK) Crowhurst must have known he didn't seriously have a chance. But too much was riding on him to quit.<br /><br />In the wonderful archive footage we see doubt written all over his poor wife's face. Left behind with their 4 children, she is interviewed movingly throughout the film, together with one of Crowhurst's sons. She was in a no-win situation. Had she attempted to stop him, she would have been considered a spoiler, but afterward she was riven with doubt, as to whether she could have saved his life by stopping him. Faced with the certain truth that his boat was leaking and would never make it through the southern oceans, and unable to turn around and face ridicule, bankruptcy and ignominy, Crowhurst devised a plan to cheat. Laid up offshore Argentina and Brazil, out of radio contact, he waited for the leaders to round Cape Horn and start back up the Atlantic, thinking he could sneak in at the end of the line and pretend he had sailed all the way around the globe. He elaborately falsified his logs, and made 16mm films and audio recordings to back up his plan. But as one after another the other competitors dropped out, he realized that in fact he would come in 2nd and his logs would be scrutinized. Unable to face certain detection, his journal suggests he lost his grip on reality and eventually committed suicide. His yacht was found. He never was. <br /><br />This beautifully edited film also follows the journey of Bernard Moitessier, an experienced and enigmatic French sailor, who was in second place and certain of the fastest journey prize, when he abruptly left the race, unable to deal with the clamour and publicity he knew he would face, and sailed into the wide blue yonder, eventually pulling up some 10 months later in Tahiti. Having spent some seven years working at sea myself, (albeit on very different ships to these) I well understand the pull of the ocean. Standing on deck, seeing water in every direction to the horizon, knowing there's a couple of miles of water below you, nothing between you and oblivion but a thin metal hull, without easy access to TV or radio (even nowadays on most working ships, you feel pretty isolated), it's possible to truly escape from the responsibilities of everyday life for a while. There is some thoughtful analysis of what drives people to attempt this kind of very long, lonely journey and the effect it has on the human mind. Most people would think that attempting to raise 4 children is adventure enough, but much is made of the need for self discovery in the hardships at sea, the search for self. <br /><br />I strongly suspect that Robin Knox Johnston, the ex navy guy who won the race (and many since) probably knew pretty well who he was before he set off, which was why he succeeded not just in winning the race but also retaining his sanity en route. Those who went searching for something profound within themselves, may not have entirely liked what they found. <br /><br />The marvelous archive footage of Britain in the late 60s is almost reason enough to watch this, (did it really look quite that bad? I don't remember it looking quite so dowdy, but perhaps we blot out the worst aspects of the past?) but overall, it is an excellently well made and engrossing movie. Highly recommended.\",\"To put it simply, this was a pompous piece of canine poopie. Overly stagey and everyone being the total melodramatic drama queen at every single moment. After a while, i was starting to wish that every character in the movie wasn't such a stuffed-up anal retentive.<br /><br />And, this movie has another one of those truly annoying things that has recently come into vogue and shouldn't have: all the scenes are in a sort of washed-out, blue-steel-greyishness. Hmmm, the last time i checked, candles and torches are quite capable of putting a fairly wide spectrum of colors. In fact, the light they put out tends to be more in the warmish, yellowish-orange range of the spectrum. So where's all the blue-steel-grey light coming from?<br /><br />This movie has fancy sets and glitzy cgi fx, but it's still dreck. It's pathetic junk put out for today's movie-goers who are easily placated by pathetic junk.<br /><br />I very much enjoy vampires and werewolves as movie plot devices, but this was a total hack job.<br /><br />Universal Studios' 1941 \"The Wolfman\" is infinitely superior to this even though its fx is pretty primitive compared to what could be done nowadays.<br /><br />I'm done with this franchise. The first movie was reasonably decent. The second still somewhat entertaining. But this one i couldn't even finish all the way to the end because it was so boring.\",...,\"Potential viewers be warned, the current IMDb viewer rating for \"Tomorrow at Seven\" is an anomaly of low voter turnout. It has an interesting premise, a killer leaves an Ace of Spades calling card at the scene of his crimes, while alerting the victim in advance. The execution falls flat however, and to say that the movie has it's share of plot holes would be to imply that there actually is a plot.<br /><br />Chester Morris portrays mystery writer Neil Broderick, weaving elements of actual murders by the Ace of Spades killer into his latest novel. Broderick intends to interview a wealthy businessman for his book, but first he has to get past the man's eccentric secretary - \"If you line his relatives up, you'd have enough nuts to hold a Ford together\". That line unceremoniously endears him to the \"nut's\" daughter Martha (Vivienne Osborne), who offers to make the introductions.<br /><br />Broderick meets Thornton Drake (Henry Stephenson) just as the latter is about to complete a jigsaw puzzle delivered by a courier that morning. The only remaining pieces, as we learn in the following scene, form the bold, black shape of the Ace of Spades containing the words \"At Seven Tomorrow Night\". Now what person putting together a puzzle doesn't use the pieces with contrasting colors FIRST! <br /><br />Initially I was intrigued by the appearance of Frank McHugh and Allen Jenkins in their roles as a pair of police detectives summoned to the Drake residence. Generally, their characters are colorful enough to offer genuine comic relief, but here they're just plain annoying. McHugh's Clancy in particular winds up shouting objections to inane comments made by his partner Dugan, and both usually head in the opposite direction when real trouble might turn up.<br /><br />Now here's a question - in light of the identity of the Ace killer, why would he have invited a novelist and a pair of cops that he just met, on a flight to his Louisiana plantation? Especially when at seven o'clock, all parties would be a captive audience aboard the plane when the first murder is committed. It's not Drake however who's dead, but his secretary Austin Winters (Grant Mitchell). The early suspicion falls on pilot Henderson (Cornelius Keefe) following a lights out scene, but Henderson still hasn't reported the murder to his supervisor until well after he arrives at Drake's plantation with everyone else. Can you imagine anyone trying to get away with that today, unless your name was Ted Kennedy?<br /><br />With the cause of death yet to be determined, the local coroner is called in, but the first one that shows up (a Broderick accomplice) is a phony. Yet, when the real coroner shows up, he simply disappears immediately after! In a second dark out scene, a letter from the murder victim Austin Winters is about to be read. It winds up missing when the lights return, and because it may point to the murderer, it becomes a clue that must be retrieved. So where was the letter? Winters' daughter Martha grabbed it and placed in on the mantle of the living room! How much thought was put into this?<br /><br />Obviously, the entire affair is so inane that Morris' character solves the case rather easily. Even though the film comes in at just about an hour, it becomes almost a chore to watch with all the nonsense going on. There's really only one humorous moment worth repeating; while aboard the plane, the detectives have this exchange: Dugan - \"Hey Clancy, how often do these things fall?\" Clancy - \"Once!\" <br /><br />Except for McHugh and Jenkins, I can't say I've seen any of the other players in films of the era, though I'm a fan of most \"B\" grade mystery movies from the '30's through the '50's. Fortunately, the pair fares much better backing up Humphrey Bogart in a goofy 1938 gem - \"Swing Your Lady\", where the laughs are intentional. The best I can offer about \"Tomorrow at Seven\" is a quote from Martha Winters about midway though this turkey - \"This is just a silly waste of time\".\",\"`Our Song' gives us the lives of the three teenagers Lanisha, Maria and Joycelyn - best girlfriends hanging at the end of summer. Adolescent summer - even if we don't know the signals and landmarks of this particular terrain, Crown Heights, Brooklyn - is/was the same for us all. A lazy respite from the pressures and tumult of school. Welcome heat and idleness.<br /><br />But if this experience of adolescence is universal, the inner city of the 90s is a different place than most of us know - maybe as foreign a country as any. Young bodies carving new silhouettes...beckoning new territory...the maze towards adulthood. The young mind coming into itself, speaking for itself, saying this is who I am, this is who I want to try to be. It is/was always thus. But this is how it plays out in Brooklyn in the late 90s.<br /><br />Jim McKay is the writer/director of this film project but he acknowledges all who have shouted suggestions at him. The opening title slide `A film by' seems to list everyone in the universe. It's a gesture but by the end of the film, we know it to be a genuine one. [The closing titles also have some of the most on-the-money and appreciative credits I've read.] The vivid sound recording by Jan McLaughlin deserves to be especially noted. McKay's a modest leader who knows who is telling this story - it's his three graces Lanisha, Maria and Joycelyn. They're the real thing, their interactions have the fire of real friendship and the focus of reality. This ain't no music video shorthand telling of teenage life. It has the seriousness of the long unblinking stare.<br /><br />Hanging out with them, we don't quite feel included but we do feel privileged to be listening in. These are real voices speaking with plainness about the crises and dullness of daily life. We are witness to the modern math of teenage life - how its problems are interpreted, calculated and summed and solved. Small scenes illustrate large thoughts throughout. Lanisha hangs with her dad at his security job - it's the only way she gets to spend time with him. We see the love that exists between them but also the failures of family and fatherhood. In a connected scene, Lanisha defends her dad to her mom, and we see how desperately she needs to love them both and for them to love her in return. Later, the three friends lay in the dark sharing visions and dreams - and we remember how crazy/funny kids are and more tragically, how realism hammers idealism these days. And at the end, Maria simply walking down the street is a short story in itself. We see her gather up the courage to hold all her fears and doubts at bay. She demonstrates for us the strength one needs to have to be able to embrace the fragility that makes life livable.<br /><br />`Our Song's greatest gift is that we really feel deeply the terribly ephemeral nature of friendship - how, one day, alive and enlivening, that intimacy can, in the next, just turn and drift away. It's awful, but that's just the way it is, isn't it?\",\"In this era when almost everything makes it on to DVD (I'm expecting to see the My Mother the Car collection any day now) this film has been unfairly neglected. There are innumerable stupid comedies from the 60's as well as many other eras that have received at least a cursory DVD treatment. This one wasn't even released on VHS to my knowledge, despite the talents involved in the making (Arthur Hiller, Eli Wallach, Anne Jackson, Murray Shisgal (notable later for co-writing Tootsie), even Dustin Hoffman in his debut). It's obviously a product of the sixties but so is just about everything else from that era. All films reflect the tastes and customs of the times in which they are made. This was released the same year as The President's Analyst, another absurd masterpiece. That film was finally released on DVD and has developed a cult following. This film has many memorable bizarre, goofy, wacky moments. Sure, it's painted in broad strokes and has silly go-go music throughout but that's part of its charm. It creates its own absurd universe. If whoever is in charge of DVD production for Columbia Pictures releases (I believe Columbia released it) takes polls for new releases this gets my vote.\",\"There were at least a half dozen silent-film versions of Shakespeare's \"The Merchant of Venice,\" and there have been several television productions. But no one has ever gotten around to making a big-budget theatrical feature from the play . . . until now. Given the nature of the play/s most memorable character, Shylock the Nasty Jew, it's a good guess that the little unpleasantness that transpired in Europe in the late 1930's and 1940's may have dampened filmmakers' enthusiasm. Sure the main motivation for Michael Radford's new film is to provide Al Pacino with a chance to shout, bray, brood, mutter, and be tormented - all of which he is quite good at. Like Richard III, the role of Shylock is a scenery-chewer's dream. It is ridiculous to call Shakespeare an anti-Semite, since he never met a Jew. Jews were banned from England from 300 years before his time to some decades after his death; and its unlikely that he ever traveled abroad. On some level, Jews might as well have been a mythological race to him. But, while Shakespeare may not have been anti-Semitic, his play certainly is. Pacino gives Shylock a strange accent that is probably meant to suggest the slightest hint of Yiddish. Unfortunately, the result is a 16th-century moneylender with the unmistakable diction and cadences of Fozzie Bear. Radford's version begins with a crawl about the wretched teratment of Jews and then spot Antonio (Jeremy Irons) gratuitiously spitting on Shylock (Pacino), who's really just standing around, minding his own business. Will buy it when it comes out on DVD, for sure! Sarge Booker\",\"Very rarely does one come across an indie comedy that leaves a lasting impression. Cross Eyed is a rare gem. The writer director not only tackled the challenge of directing his own work, but gives a hilarious performance as an evil roommate. The script takes an interesting look at not only the plight of the struggling writer, but mixes so much comedy into the desolate world of the writer that you can't help but commit to Ernie as a character. Very funny stuff. Despite the tiny budget Adam Jones manages to give the film a serious look. He's not messing around when it comes to making a good movie. I can't wait to see what he comes up with next. This guy can make people laugh and think; that's special.\"],[\"I would not hesitate to put this adaptation of 'Death Trap\" in a top 5 list of the best stage-to-movie adaptations ever. Caine and Reeves (an underrated actor who never really got a chance to do more than soggy romances and \"Superman\") play off each other extremely well here. Even Dyan Cannon - who I normally don't care for - is perfectly cast in a role that exploits her annoyance value as an actress.<br /><br />I'm not sure that comparisons of \"Deathtrap\" with \"Sleuth\" - another brilliant stage-to-screen adaptation featuring Michael Caine - are valid, or even fair. Yes, the two stories have a lot in common. But \"Sleuth\" is as much about class warfare as the battle of wits, and the house in \"Sleuth\" is set is at least as much a character in the movie as the two actors - the house doesn't really have an equivalent in \"Deathtrap\". And \"Deathtrap\" isn't so much a battle of wits as it is a pointed vignette about how people are no damned good (and never as smart as they think they are) and deserve everything they get. I'll just say that both movies are superb examples of the genre, and well worth your time and money. This is America, after all. You don't have to choose! <br /><br />I won't give away the twists and turns of the plot, but I don't think it matters anyway. I've watched the DVD eight or nine times in a dozen years, and still enjoyed the chemistry and the timing and the mean, scary moments when things go \"all pear shaped\". It's all done so well that the ride becomes more important than the actual destination.<br /><br />Anyone who likes black-hearted comedy and suspense in the Hitchcock style of film-making will probably enjoy \"Deathtrap\" immensely.\",\"This is such a fantastic movie, a Western about a self-concerned man (Jimmy Stewart) going up to the Klondike for gold. On the way, he gets hassled by a local sheriff in Alaska (John McIntire, giving a wonderfully evil performance), whom he hassles back. McIntire threatens that he'll be a dead man if he ever comes back through his town, which is, unfortunately, the only way back to the States. The main chunk of the story is about the peaceful Klondike town of Dawson being turned upside down by new residents from McIntire's town. Ruth Roman, for instance, who has come with Stewart and his two companions (Jay C. Flippen and Walter Brennen, who plays Stewart's best friend), builds a saloon (a Hollywood front for a whorehouse) and tries to run the town's restaurant and hang-out place out of business. She paves the way for McIntire and his goons to come up, too. In 1953, Jimmy Stewart and director Anthony Mann made one of the peaks of the Western genre, The Naked Spur. The Far Country is just the tiniest bit less, and it contains 99.9% of what made that film so special without, of course, feeling like a cheap copy. Like The Naked Spur, The Far Country boasts beautiful, on-location cinematography. The landscape is gorgeous. Stewart gives one of his best performances (nearly equal to his biggest success of 1954, Rear Window). I suppose it could be considered cliche, as he starts out a selfish loner and learns how that kind of existence plays out in the end. Still, Stewart plays it so damn well, he makes this character very human. And the supporting performances are universally fantastic. In addition to those I've mentioned, the adorable French actress Corinne Calvet is very good. And I ought to single out Walter Brennen, as well. He seems to have specialized in playing best friends. His relationship with Stewart is very touching, since he is, at first, the only character who is able to bring out any humanity in the cynical man. The screenplay is very well written, and Mann's direction is impeccable. A masterpiece. 10/10.\",\"This movie is actually FUNNY! If you'd like to rest your brain for an hour so then go ahead and watch it. It's called blonde and blonder, so don't expect profound and meaningful jokes. What this movie and enjoy all the stereotypes we have about two blondes. It's just a funny movie to watch on a date or with a company of friends (especially if you're not too sober. Lol ) Pamela and Denise are still pretty hot chicks. It's a mistake to judge this movie as a piece of art. C'mon, this movie is about BLONDES! It's supposed to be light, funny and superficial. One more thing, I do not think that girls will appreciate and like this movie but guy definitely will.\",\"hello all Denver fans!<br /><br />i couldn't agree more with you guys! This show was so cool and cute, i i watched it as a kid in the late 80s. Among Denver are other favourite too, such as Care Bears and Rainbow Brite. I am 24 now, but it is still one of my favourite shows, and my favourite cartoon from the 80s. It brings back all the memories. The theme tune was great too, i get goosebumps whenever i hear it. It is sad that it lasted such a short time, but it has remained a firm favourite. Its great that i am not alone and that there are people out there who liked it too. This is one of the cartoon shows i shall keep for future generations. <br /><br />Viva Denver! :)\",\"This film looked promising but it was actually pretty bad. The premise was O.K, but the plot itself was terrible. The actors tried their best with limited material, but they could not rise above the mean spiritedness of this tacky college film. Jason Schwartzman was once again immensely irritating - even more so than in Rushmore, the rest of the cast were quite non-eventful. Scenes that should have been fun turned out to be off-putting & incredibly juvenile. Tries to be a Road Trip/American Pie but fails dismally on all levels. A total waste of everyone's time.\",...,\"This movie is well done. It really attempts to show what the dinosaurs had to contend with in their daily lives. The animation is very well done and the film makers have done a great job of giving scientific fact in such a way that it is entertaining. This is a great movie.\",\"Ever wonder where the ideas for romance novels and other paper back released come from? According to 'Jake Speed' they are based on real people, living out the adventures they write about and publish. This movie is quality family entertainment, moderate amounts of violence, and skimpy clothes at the worst. The language is is also not a problem, and the jokes are funny at all levels. This is a 'Austin Powers' look at 'Indian Jones', without the over-the-top antics of Michael Myers. I highly recommend this film for kids in the 10 to 15 range.\",\"How truly friendly, charming and cordial is this unpretentious old serial; I rejoiced in seeing old Lugosi. It is disarmingly friendly and lively. It's the document of a longlost craft. (The best TV series today can hardly compete with these old moderately good serials.) CHANDU is deeply, deeply optimistic and hedonistic . It refreshes the mind. It's not stupid; stupid are those who do not get the terms on which such serials work. CHANDU has an irresistible sense of simple, unpretentious and friendly fun.<br /><br />Without giving away too muchChandu is an Occidental sorcerer who goes also by this Eastern name and who also loves and protects his niece against a sect of killers.<br /><br />Chandu exerts his supernatural gifts in a rather discreet and moderate way.<br /><br />As to the quite sexy niece, Nadji, she is kidnapped by the priest of Ubasti: the sordid Vindhyan. The poor sexy girl is in fact multiply kidnappedin a sarcophagus after being sent asleep with a flower; almost kidnapped from a boat; by a phony policeman; the temple of Lemuria and its strange, creepy ceremonies resemble the KING KONG imageryand are a barbaric mockery of the RCC ceremonies and rituals. <br /><br />Would you protect a girl as bravely as Chandu does?<br /><br />Lugosi looked like an old libidinous and quite heartless, mean drunk, and this only contributed to his performances. He is the prototypical mean drunk uncle, mischievous and cunning and oblique. This might sound like a rather crooked homage to Lugosiyet Burton's biopic of Wood left me this impression about Lugosi and allied to it a strong sympathy for the decrepit actor. I enjoy Lugosi' fancy performances.<br /><br />This serial is unjustly bashed.\",\"Very good 1939 film where John Garfield plays another boxer who becomes a victim when everyone thinks he has committed a murder. Trouble is that the killer and Garfield's girl, Ann Sheridan, in a brief but good performance, get killed while trying to elude the police.<br /><br />A crooked attorney persuades Garfield to flee N.Y. He lands in Arizona and meets up with the Dead End Kids.. They've been sent there by a funding program to keep them out of further trouble.<br /><br />Of course, Garfield finds a new love interest but must conceal his identity as everyone thinks he was not only the killer but was the victim in the car crash.<br /><br />May Robson is fabulous as the grandma type running the place for the wayward youth. Claude Rains is also effective in the role of the detective who suspects that Garfield is still alive and pursues him when a picture is snapped of him in Arizona.<br /><br />The film really deals with Garfield's relation to the boys. While the ending is good, you want to see Garfield go back to N.Y. to proclaim his innocence.\",\"I couldn't disagree more with those who says this is a lousy movie. Me and my friend went to see it during the Stockholm film festival and this was actually one of my favorite movies during the festival. Dolls being used in horror movies aren't something new but I haven't seen that many movies were it has been as well carried out as it is in this movie. The atmosphere, the setting, the actors, the camera-work.. everything is just beautiful. And they really work well with each other. Now if you expect this film to be another Grudge or Ring then you probably won't like it. But if your out for a good, stylized scare then it's perfect. Even though it's pretty predictable and at some times laughable I still recommend this to anyone who likes horror flicks. Go see it. Now.\"]]\n",
       " label: [[1,1,0,1,1,...,0,0,0,0,1],[0,0,1,0,0,...,0,1,1,1,1],...,[0,1,0,1,0,...,0,1,1,1,1],[1,1,1,1,0,...,1,1,1,1,1]]\n",
       " input_ids: [[[101,2728,23929,2140,2003,...,0,0,0,0,0],[101,1996,2737,2336,1010,...,5234,1012,2574,1010,102],...,[101,3272,2005,1996,10184,...,0,0,0,0,0],[101,3309,4241,13926,2003,...,0,0,0,0,0]],[[101,2009,2428,17894,2229,...,0,0,0,0,0],[101,1045,2079,9038,2008,...,0,0,0,0,0],...,[101,2023,5171,12908,3185,...,0,0,0,0,0],[101,2005,2320,1037,22635,...,0,0,0,0,0]],...,[[101,2004,2521,2004,3152,...,0,0,0,0,0],[101,1045,2134,1005,1056,...,0,0,0,0,0],...,[101,2045,2020,2012,2560,...,0,0,0,0,0],[101,2200,6524,2515,2028,...,0,0,0,0,0]],[[101,1045,2052,2025,16390,...,0,0,0,0,0],[101,2023,2003,2107,1037,...,0,0,0,0,0],...,[101,2200,2204,3912,2143,...,0,0,0,0,0],[101,1045,2481,1005,1056,...,0,0,0,0,0]]]\n",
       " attention_mask: [[[1,1,1,1,1,...,0,0,0,0,0],[1,1,1,1,1,...,1,1,1,1,1],...,[1,1,1,1,1,...,0,0,0,0,0],[1,1,1,1,1,...,0,0,0,0,0]],[[1,1,1,1,1,...,0,0,0,0,0],[1,1,1,1,1,...,0,0,0,0,0],...,[1,1,1,1,1,...,0,0,0,0,0],[1,1,1,1,1,...,0,0,0,0,0]],...,[[1,1,1,1,1,...,0,0,0,0,0],[1,1,1,1,1,...,0,0,0,0,0],...,[1,1,1,1,1,...,0,0,0,0,0],[1,1,1,1,1,...,0,0,0,0,0]],[[1,1,1,1,1,...,0,0,0,0,0],[1,1,1,1,1,...,0,0,0,0,0],...,[1,1,1,1,1,...,0,0,0,0,0],[1,1,1,1,1,...,0,0,0,0,0]]],\n",
       " 'test': MemoryMappedTable\n",
       " text: string\n",
       " label: int64\n",
       " input_ids: list<item: int32>\n",
       "   child 0, item: int32\n",
       " attention_mask: list<item: int8>\n",
       "   child 0, item: int8\n",
       " ----\n",
       " text: [[\"I have to say, when \"Pushing Daisies\" came out I was immediately won out by the fairy-tale like setting of such grimness. The narrator made a cake out of the whole ordeal by making death seem as routine as, well, Ned (Lee Pace) baking pies. And that bringing them back to life was just as routine.<br /><br />The trio of Ned, Emerson Cod (Chi McBride) and Charlotte \"Chuck\" Charles (Anna Friel), plus sometimes-sidekick Olive Snook (Kristin Chenoweth, who made the musical Wicked such a delight) made for some fantastic dialogue and silliness. It definitely deserves the title of a (romantic) comedy/drama.<br /><br />Ned and Chuck made for a shy and not-quite-ready-for-love couple who are still exploring their feelings even though they cannot touch - an obstacle that seems to be truly no obstacle with aids such as gloves, cellophane, and quirky schedules around the apartment. But despite the awkwardness presented as they work their feelings around a strange secret which only a few know, they still manage to show their on screen chemistry in touching scenes like when Ned gives Chuck the beehives. The presence of Olive, though, makes for some break-out-in-song moments in the pie shop and unforeseen complications for the couple.<br /><br />Second season sharply declined, putting a damper on a show that had real potential. On some of the episodes, the plot line was rushed and awkward, making you ask \"what just happened?\" in both the overall dead-person-of-the-week plot and in the overriding plot line. The addition of Chuck's father plus two half-brothers for Ned didn't help, and at least one of the plot lines felt almost recycled (didn't the episode \"Comfort Food\" feel like the episode \"Bitter Sweets\" in the fact that the dead-person-of-the-week died in food?). A few touching moments (the beehives) happened to help advance the relationship between Chuck and Ned, but every time they got close, the writers decided to throw in another monkey wrench rather than let the relation develop (Oliver comes back from the monastery, Chuck's dead father comes back to life and doesn't go back, you get the picture).<br /><br />Shame it didn't work out, but the concept was good and seemed surreal in a good way, just enough Pleasantvillesque color/happy-smiley going on and implausible scenarios to remind you that it's not \"Dead Like Me.\" Then again, it's in \"Pushing Daisies time,\" according to Creator Bryan Fuller, so it makes it plausible again.<br /><br />It should have lasted longer, but it's merely wistful thinking at this point. Kudos to whatever new show attempts to replace this short-lived gem.\",\"Bah. Another tired, desultory reworking of an out of copyright work never designed to be filmed.<br /><br />On the plus side, Toni Collette is superb as always (being an actual actress, you see), and there are some nicely handled handover cuts between scenes. There are even a few genuinely funny lines, and the filmwork, score and editing is competent, apart from a bizarre lapse into voiceover and speaking to the camera towards the conclusion.<br /><br />But, ah, but. Much of the cast seems to be on autopilot, and they are almost all very clearly too old (and in one case too young) for their declared ages. Worse, they are all speaking \"Austinese\", that peculiar falsetto self satisfied sing song that couldn't be further from the way people actually spoke in Austen's day (think Yosemite Sam, I kid you not). This is particularly sad, considering that we seem to finally be seeing the demise of the equally farcial \"Fakespearan\" that Olivier and his cronies were so fond of bellowing at the top of their lungs.<br /><br />And worst of all is Gwyneth Paltrow. She's only ever played one character in her films, and she stays true to form here, running through her entire range (smirking to sulking) in the first ten minutes, then just repeating herself for the rest of the overlong film. There is absolutely no chemistry between herself and any of her admirers, nor any apparent reason why they would be interested in her apart.<br /><br />In short, there is very little reason to watch Emma. It's an amiable enough adaptation, but if you're going to pack a film full of anacronisms (i.e. an appalingly thin lead who can't shoot a bow or handle a period accent) then you might as well do it properly, as with the vastly superior \"Clueless\".\",\"It's a shame that Asterix and his buddy Obelix do not get the world wide recognition that other cartoon comic characters get.<br /><br />This is another funny Asterix cartoon jammed with entertainment. The animation is excellent and the voice Characterization good, even if the synchronization is a little out. The music and score fit well within the story and the slotting in of some modern musical numbers is a nice touch.<br /><br />The running time seems short and while it's not the best Asterix story or the most developed cartoon, it's good clean fun. The modern (Disney like) animation will capture children, Asterix fans and new comers... Enjoy the Gaul adventure!\",\"this is the worst movie ive ever seen. And i have seen lots of movies. Me and my friends rented this one a wendsday evening. Man we had lots of fun. This movie is the worst most boring crap ive ever seen. But it makes you laugh! U will lay on the floor rolling around tryin to get some air. You wonder why? Just rent it and check for the keyboard playing girl at that sleazy russian bar. My mother would make a 1000 times better movie about her feedin the cats.\",\"The comments for Commune make it sound like a very interesting film, one that I would be deeply interested in. Unfortunately, the producers didn't see fit to include closed captions for the hearing impaired and deaf. That leaves me and countless others like me, who depend on closed captions to follow a movie, completely out. <br /><br />This is inexcusable for any film produced in the year 2005. In a world where all manner of handicaps and disabilities are accommodated, it's infuriating and ironic that the ever sanctimonious entertainment industry fails to demand that all productions and movie theaters be closed captioned.\",...,\"I somehow missed this movie when it came out and have discovered it as late as last week thanks to a friend's recommendation. I can honestly say that I cannot remember another intimate dramatic film, which does so many things so well. The writing is crisp, realistic, nuanced, and even restrained. The cinematography and editing are understated but inspired, enabling the visual storytelling to dominate through marvelous close-ups and framing of images, capturing loneliness and alienation in most memorable ways. The acting is also wonderful, with all of the characters becoming painfully real and vulnerable in the most compelling ways that a film can offer. They reveal their innermost weaknesses with unprotected, raw vulnerability. A real triumph for Roger Michell and Hanif Kureishi, and the rest of the team. A must see for serious film lovers.\",\"Not much to say beyond the summary, save that this is an example of J. Edgar's Hoover's constant attention to maintaining a good \"PR\" profile. They don't make movies this bad very often, especially with the likes of Jimmy Stewart and Vera Miles in the blend. Too bad. <br /><br />\",\"Didn't care for the movie, the book was better. Does anyone know where it was filmed? *** this was my first visit to your site...just found the answer to my question. so now I look like a dummy, but I think I'll still submit my comments. and yes, British Columbia is lovely ***Or why they took it from its South Carolina Coastal setting?(this question stands) The place was essential to the fabric of the book and its change was part of my disappointment with the movie. Oh, I just read where I need to write at least ten lines. Here's my other main issue with the film. Kim Bassinger was too vapid and not at all what I pictured from the book. I know, the book was the book and the movie; well not so good. I found the character in the book much more empathetic. Also the book evoked rustic, almost primitive images of the monastery. While the \"castle\" in the film was much more visually impressive, it distorted the feel of the story and seemed at odds with the characters.\",\"Honestly awful film, bad editing, awful lighting, dire dialog and scrappy screenplay.<br /><br />The lighting at is so bad there's moments you can't even see what's going on, I even tried to playing with the contrast and brightness so I could see something but that didn't help.<br /><br />They must have found the script in a bin, the character development is just as awful and while you hardly expect much from a Jean-Claude Van Damme film this one manages to hit an all time low. You can't even laugh at the cheesy'ness.<br /><br />The directing and editing are also terrible, the whole film follows an extremely tired routine and fails at every turn as it bumbles through the plot that is so weak it's just unreal.<br /><br />There's not a lot else to say other than it's really bad and nothing like Jean-Claude Van Damme's earlier work which you could enjoy.<br /><br />Avoid like the plaque, frankly words fail me in condemning this \"film\".\",\"Recap: Full moon. A creature, a huge werewolf, is on the hunt. Not for flesh, not for blood (not that it seem to mind to take a bite on the way though), but for a mate. He is on the hunt for a girl. Not any girl though. The Girl. The girl that is pure (and also a werewolf, although she doesn't know it yet). Three, well check that, two cops (after the first scene) and an old bag lady is all that can stop it, or even knows that the thing killing and eating a lot of folks around full moon is a werewolf. This particular powerful werewolf, Darkwolf, is closing in on the girl. If he gets her, mankind is doomed. Now the cops has to find the girl, convince her not only that there is someone, a werewolf nonetheless, that wants to rape her, and perhaps kill her, but that she is a werewolf herself. And then they got to stop him...<br /><br />Comments: This is one for the boys, the teenage boys. A lot of scenes with semi-nude girls more or less important for the plot. Mostly less. Well I guess you need something to fill some time because the plot is (expectedly) thin. And unfortunately there is little besides the girls to help the plot from breaking. One usually turns to two main themes. Nudity. Check. And then special effects. Hmm... Well there are some things that you might call effects. They're not very special though. In fact, to be blunt, they are very bad. The movie seems to be suffering of a lack of funds. They couldn't afford clothes for some of the girls ;), and the effects are cheap. Some of the transformations between werewolf and human form, obviously done by computer, are really bad. You might overlook such things. But the Darkwolf in itself is very crude too, and you never get to see any killings. Just some mutilated corpses afterwards. And there is surprisingly little blood about, in a movie that honestly should be drenched in blood.<br /><br />I'm not sure what to say about actors and characters. Most of the times they do well, but unfortunately there are lapses were the characters (or actors) just looses it. A few of these lapses could be connected with the problems mentioned above. Like the poor effects, or the poor budget(?). That could explain why there is precious little shooting, even if the characters are armed like a small army and the target is in plain sight (and not moving). But hey, when you're in real danger, there nothing that will save your life like a good one-liner...<br /><br />Unfortunately that can't explain moments when the Cop, Steve, the only one who knows how to maybe deal with the problem, the werewolf that is, runs away, when the only things he can be sure of, is that the werewolf is coming for the girl, who is just beside him now, and that he cannot let it have her. But sure, it let the makers stretch the ending a little more...<br /><br />But I wouldn't mind seeing none of the lead actors/actresses get another try in another movie.<br /><br />Well. To give a small conclusion: Not a movie that I recommend.<br /><br />3/10\"],[\"Before I start...let me say that I fully believe in God. I believe in Heaven and in Hell. Kay now that thats out of the way, I just wanna say that What in the world do these morons that call themselves \"hosts\" think they are doing?? The last time I checked a host doesn't discriminate, spew hatred filled rants on TV, or try to shove their own beliefs down every unfortunate soul that ventures onto the channel. ALl of these that crazy, idiotic, conservitive, bible thumping, Fred Phelps lover Pat Robertson does daily. I am all for free speech, but since when does that cover a guy who pretty much says that if you venture off his ideal way of life you are right away sent to hell? This is just a perfect example of why religion is the cause of SOOOO many problems. One day in my class room we had a substitute teacher in so we decided to watch some TV since the teach didn't give us any work. And we (against many of us's will) watched 700's Club, and of course that jerk Pat was on ranting and raving about the bible, and he said Simon along the lines of \"God says Homosexuality is a sin\" and I actually heard a kid go \"Hmm I guess he's right.\" WTF??? Seriously, if the host is trying to make people think that someone else's sexual orientation is a huge sin, then they seriously need to take that host, duct tape them, and throw them off of a cruise liner in the middle of the arctic.\",\"After Highlander 2 (which I am still in denial about), I thought is was impossible to make a sequel that could make me cry because it was so bad. I was wrong. I loved the original Wargames, however, this movie is inaccurate with computer details and details about the original movie. The original Wargames at least had some hacks that worked. Whoever wrote this movie knew NOTHING ABOUT COMPUTERS except how to use a word processor. I doubt he or she even watched the original movie. The acting isn't even convincing. Please save yourselves, under no circumstances watch this movie. I don't care if the channel is stuck on the TV and you can't turn the TV off. THIS MOVIE WILL RUIN YOUR LIFE.\",\"Even worse then the incredibly boring \"the Exorcism of Emily Rose\". It started off decently, and right up until the mom said to the dad, \"See I knew she was possessed\", in an I told you so voice. It was a terrible line, spoken badly and it foreshadowed the rapid demise of this amazingly bad movie. Every family member has an issue from the past with the priest. The dad starts to accuse everyone of either liking his wife, or actually having an affair with her, culminating with him killing his buddy, then himself in the obvious instant lucidity after he realizes his friend hadn't slept with his wife after all. People are dying, others are coming under possession, and by this point most viewers don't even care anymore. Except for their employee Miguel, none of the characters in this movie was actually likable, making it hard to care, about any of them. The acting was terrible and the writing even worse. Glad I saw it for free; although I feel that for a movie this bad someone owes me money for the time I lost.\",\"The Midnight Hour AKA: Tell Me No Lies (as found in some video stores) can be judged in two different ways. One by it's Merritt as a movie, complete with a plot (no holes), good story and believable conclusion and the other is by the skin flick it is trying to be. This is certainly no more than a B-Movie skin flick, whose sole purpose is to show every girl in the movie in an overly long sex scene at least once.<br /><br />If you try to rate this as a regular movie, then this is bottom of the line drivel. HUGE plot holes ruin whatever storyline it has going for it. For instance, if a co-worker is killed, would you call the police or head home and hit the hot tub? Judging this movie by it's skin content, it's watchable... barely. The girls, for the most part, are all beautiful but quite obviously enhanced. The sex scenes were all long and overdone, though, and that made it's only redeeming quality a little boring.<br /><br />Amber Smith could probably be a decent actress if she wanted. She was not as horrible as you could imagine or maybe next to the rest of the cast, she seemed a lot better than she was.<br /><br />Zoe Anderson, who played Detective Arraya, should not even be watching a movie, much less acting in one. She looked good though, so we know why she was there.<br /><br />Overall, I would not really recommend this to anyone. Even if you're looking for a good skin flick, there are much better one's out there. I rate this 4 out of 10\",\"I try to catch this film each time it's shown on tv, which happily is quite often. But I keep forgetting to video it. As it is, I practically know the script by heart, but that doesn't stop me having a good cry, in fact it probably adds to it as I cry knowing what's coming next. It's such a lovely film - well made, well cast, good photography. I love it. One of my top ten films.\",...,\"Fans of the Pink Panther, Naked Gun, or Get Smart will certainly enjoy this farce that won one César and was nominated for four more.<br /><br />Jean Dujardin is Agent OSS 117, a man who wouldn't know a clue if it hit him upside the head. He is also a reflection of the colonialist attitude indicative of the West.<br /><br />All of the Russian spies, Nazis, and Muslim radicals around him are just as stupid, but there is Larmina (Bérénice Bejo) and the Princess (Aure Atika) to keep things interesting.<br /><br />OSS 117's uncanny ability to pick up languages, play musical instruments the first time he picks them up, and sing like a native are all more impressive than Bond's tricks, but he is still stupid.\",\"All right, here's the deal: if you're easily offended then you might want to stay far, far away from this one. There are some painfully funny moments in the movie, but I probably blushed about as much as I laughed. Actually, I probably blushed MORE than I laughed. And if I wasn't literally blushing on the outside, then I was blushing on the inside. If there is absolutely nothing in this movie that embarrasses you then you simply have no shame. Whether that's a badge of honor or not is in the eye of the beholder I suppose.<br /><br />I will not deny that I laughed quite a bit, but this is a movie that I simply cannot give a blanket recommendation due to its subject matter. If I were to say, \"This movie is hilarious, go check it out!\" and some sweet, little old church-going lady heads to the theater and has a heart-attack during one of the graphically explicit sex situations, well, that's just something I don't need on my conscience.<br /><br />So how raunchy is it? Hmm, try about 100 times worse than The Wedding Crashers. Honestly. My mom would've walked out during the first scene. I feel it's my duty to at least warn you of what to expect.<br /><br />There is some cleverly intelligent comedy here, but that's what I come to expect from the man (Judd Apatow) who had a hand in both Freaks and Geeks and Undeclared. I'm all for making fun of Michael McDonald; the only man whose hair and beard are white enough to give Kenny Rogers a run for his money. Paul Rudd proclaiming, \"If I hear Ya Mo Be There one more time I'll Ya Mo burn this place down,\" is hilarious, but it's one of those things that the majority of the audience won't appreciate.<br /><br />And when we see a quick 3-second flashback of Steve Carrell singing along to Cameo's Word Up, I laughed for a good two minutes after the joke was over, whereas most everybody chuckled and then forgot about it.<br /><br />Strangely enough, despite the raunch, there's an admirable moral to the story. The movie doesn't portray Carrell as some freaky loser just because he's a virgin. He's really portrayed as a likable, admirable character. Sure, he's a little weird. After all, he has a framed Asia poster, \"more videogames than an Asian kid,\" and a toy collection that features the Million Dollar Man's BOSS, but we're never led to believe that there's actually anything wrong with the fact that he's a virgin. As odd as it may seem, there's a bit of an \"it's OK to wait\" message.<br /><br />But man, oh man, please be warned that this pushes its R rating about as far as it can go. That was certainly Apatow's intention. According to him, he just let some of the guys (particularly Rogen and Malco) improv and talk the way they normally talk, all in an effort to find lots of new ways to be dirty. If you can handle that or talk that way yourself, then you'll love the movie.<br /><br />I'm not a big fan of excessive profanity and sex jokes. I find that subtle, clever humor is much more entertaining than about 200 uses of the f-word or fratboy sex discussions. But that's me. Like I said, there are some absolutely hysterical moments here, but you have to ask yourself if they're worth sitting through one of the most vulgar movies you're likely to ever see at the theater. I just don't know how interested most women will be in what's discussed by men while playing poker. Honestly ladies, you might not want to know. If you've ever been curious why some girls think guys are gross, well, this gives you a good idea.<br /><br />There you go - my humble, honest take on what to expect. Be that your guide. It definitely should not be seen with your Sunday School class, mama, grandmama, any family members of the opposite sex, children of any age, or anybody who is easily offended by excessive profanity or explicit sex discussion. If you'd see it with any of the above then you apparently do not have any concept of what it means to be uncomfortable.\",\"Just because someone is under the age of 10 does not mean they are stupid. If your child likes this film you'd better have him/her tested. I am continually amazed at how so many people can be involved in something that turns out so bad. This \"film\" is a showcase for digital wizardry AND NOTHING ELSE. The writing is horrid. I can't remember when I've heard such bad dialogue. The songs are beyond wretched. The acting is sub-par but then the actors were not given much. Who decided to employ Joey Fatone? He cannot sing and he is ugly as sin.<br /><br />The worst thing is the obviousness of it all. It is as if the writers went out of their way to make it all as stupid as possible. Great children's movies are wicked, smart and full of wit - films like Shrek and Toy Story in recent years, Willie Wonka and The Witches to mention two of the past. But in the continual dumbing-down of American more are flocking to dreck like Finding Nemo (yes, that's right), the recent Charlie & The Chocolate Factory and eye-crossing trash like Red Riding Hood.\",\"This movie gets it right. As a former USAF Aviation Cadet, I can tell you this movie has it all. The tedium of the application process. The waiting for word. The joy of acceptance. The worry about making it through the course. The sorrow of watching one's buddies (perhaps the best of them)wash out. The anguish of paying the ultimate price - the death of fllow student airmen. The glory of graduation. Always the flying, the flying, the flying. Many are called but few are chosen. We did for pay what we would have eagerly paid to do.\",\"If this is not my favorite movie of all time, it definitely is in the top five. I love this. Everything about this is perfect--the clothes, the set, the lines--yes, they're not how normal people talk, but... Right down to the small scenes, especially at the beginning of the office girls changing their shoes, picking a wedgie, watering the office ivy plant, putting lunch in the fridge... Identical to what us office girls do today in the year 2005. I think all the minor characters are wonderful. If someone like Joan Crawford is over the top, it's all part of the package. If you pick out many things in the movie, it is very evident that this was the beginning of the sixties as women were starting to not \"take it lying down,\" at least not if they didn't want to. As far as characters being contradictory, for instance, Suzy Parker's character acting like she's all for flings, but then getting too attached to Louis Jourdan's character, isn't that what many people are like--contradictory? They mix in real stuff with scenes like Diane Baker's character finding the love of her life after miscarrying her illegitimate baby in an accident--lying in the hospital with a big old bandage around her head. This is part of the package too, it's charm--glossy escapism. I like the mix of real stories pertinent today (the stereotypical career woman who only has affairs with married men, therefore doesn't have a family when she is older) with ones that make you wish, \"ah, if only I could fall in love with a doctor and he'll love me even though he knows my sordid past, and saw me all messed up after the scandalous accident!!\" Also, I just got the DVD, widescreen, it's yet even more beautiful than full screen... Yay!\"],...,[\"The adaptation of Will Eisner's SPIRIT to the TV screen followed many other offerings developed from comic strip pages or comic books. (Remember, the two aren't exactly the same medium) It is indeed ironic that this is the one and only adaptation (as of the time of this writing)of Eisner's smart alec, wise cracking, tongue-in-cheek super hero.<br /><br />Story has it that Republic Pictures was interested in doing a film version and was in negotiation with the copyright owner in the mid '40's, but they were never able to close the deal. The left over screen play became the serial, THE MASKED MARVEL, one of Republic's best. Perhaps that it was just as well, for that studio had a penchant for tinkering with material adapted from the comic strips, pulp mags, radio and the comic books.<br /><br />As for this 1987 made for TV movie, it's pretty obvious that it was a failed pilot for a proposed television series. Whereas an old, long time comic reader,like myself, can be a little harsh in criticism of an adaptation, a viewer unfamiliar with the character may be able to give some fresh observations, clear of any preconceived notions of what this screen version should look like.<br /><br />Well, while sitting and watching the story unfold, with the characters interacting amid some crime wave, the Little Lady (my wife, Mrs. Ryan) nailed it with one statement. \"This can't make up its mind if it's serious or not!\" That pretty well describes both THE SPIRIT and his creator, Mr. Will Eisner, the true creative genius in the comics.<br /><br />The film is a sincere attempt to put Eisner's world on the screen. The casting of Denny Colt/The Spirit, Commissioner Dolan and Ellen was really quite well done. Though in a contemporary setting, it was still in the tradition of \"the good old days\" as far as the costuming goes, you know, when men and women still wore hats! That brings up this one final (and meandering) point, and that is that the director and the production made a conscious effort and succeeded in giving the characters a Will Eisner look as far as facial expressions and body language. We say,Kudos to them for their efforts.<br /><br />It's just too bad that no series followed! Oh, well in today's motion picture world, comic adaptations seem to be a hot item. Maybe some big timer producer and director could do a really 1st class SPIRIT production for the Big Screen. We can only hope.<br /><br />UPDATE: Dateline, Chicago, Illinois. 6/4/2008. By now, everyone who goes to the Movies at the Shopping Centre Multiplexes has seen the poster advertising the new film of THE SPIRIT, (subtitled, MY CITY SCREAMS); which is to be released Christmas Day, 2008. Well, we'll see then just what we've been talking about. Just keep your fingers crossed! TO BE CONTINUED.............<br /><br />UPDATE II: We saw the new film, Writer-Director Frank Miller's rendition of THE SPIRIT a couple of days ago. Well, we got our wish; but is this a good thing or another case of \"Be careful what you ask for; because you may get it?\" Please read our write-up elsewhere in IMDb.com. THANX!\",\"I have to say I was pleasantly surprised by this movie. Other than the mother being a complete moron on a few occasions and the youngest daughter being idiotic enough to go out at night, into woods that scared her in the daytime, this movie was pretty good. Had the director had the sense to treat us as if we had brains, maybe he'd have given us a movie where the people didn't have to behave idiotically, but still manage to get into danger. It worked for the plumber and the fellow in the trailer, but apparently the teenagers and the mother needed to be idiots, for the director to get closure in ending this film.<br /><br />Atmosphere was great, scenery was awesome and the undead kids scared the crap out of me... I live in a wooded area, so taking out the trash will creep me out for quite a while. The movie works for me accept for what I already mentioned. Raise the mom's IQ a bit and I'd give it a ten...\",\"Definitely, definitely the worst film I've ever seen, no questions asked! Contradictors of this opinion might argue that this title should not be judged by the same criteria as others, since it's an independent, low-budget film, but c'mon already  the amateurism and meager innovation is horrifying.<br /><br />Agreeing with everything that has been said about this film, for example the mind numbingly weak acting (when it's this bad you take another go at shooting the scene, god damn it), the thing I found the most annoying was the total lack of common sense in the script, assuming such a thing existed during the production. There was an obvious absence of a dialogue with respect for the viewers, the girls switched personalities several times and they seemed to show absolutely no sing of any rationality or even brains - five relatively fit girls against one slight female psychopath  gang up on her, why don't you?<br /><br />The only thing that can be regarded as somewhat of a conquest for this title is the camera not leaving the van at any time thus the viewer seeing everything from inside it - which is, as the rest of the film, a good idea executed exponentially dreadfully.<br /><br />\n",
       " oh and by the way, this movie is NOTHING like The Blair Witch Project or Cloverfield or any other title filmed with a hand-held camera  this is an effect and not a trait! Used cleverly it can be breathtaking, but in this case it's an excuse for inadequate cinematography.\",\"The word impossible has led many to select a particular view concerning any incredible task. In 1927, it was believed no man could fly the breath of the Atlantic Ocean. Many had tried but failed and some even gave their lives to the effort. Nevertheless, it had to be done as every challenge needs to be met with equal determination. Such then is the heart of this movie called \"The Spirit of St. Louis.\" The actor chosen for this historic film is none other than America's own James Stewart who convincingly plays Charles Lindbergh. Although there are many facets of Lindbergh's life, the segment featured here is his efforts to be the First Man to fly across the Atlantic. The story is an interesting one and for Stewards' fans compelling to say the least. Seeking enough funds to build a special aircraft, to the fateful decision to began the journey on a gloomy day in May 1927, 'Luck Lindy' as he was christened, endured enormous risks, which are featured in this superb film. Other notables which helped make this film believable are Murray Hamilton who plays Bud Gurney, Bartlett Robinson as Ben Mahoney, Arthur Space and Charles Watts as O.W. Schultz. The sum total of this now famous movie is that despite poor endorsement on its debut, it has since become a Classic in it's own right. Well done! ****\",\"Most people will consider that Yul Brynner's greatest performance was as the ruler of Siam in THE KING AND I. Certainly it gave him a wide variety of moods to test his abilities in, from comic, to tragic, from eager to learn to dominating to hateful. It also showed him to advantage as a \"talk singer\" and a dancer. Finally, as it was also his Tony Award winning performance from Broadway, the film allowed us to capture something of the great Broadway performance as well.<br /><br />But he did other movies that showed his talents as well as THE KING AND I. His comic turn in ONCE MORE WITH FEELING was quite nice. So was his performance as General Bunin in ANASTASIA, or his Ramses in THE TEN COMMANDMENTS. Yet he came terribly close to being a 1950s successor to Eric Von Stroheim as \"the man you love to hate.\" A certain vulnerability in his acting and roles endeared him to the movie public, even after his best years as a star were behind him - and he retreated more and more to repeating the King of Siam on television and the stage.<br /><br />To me, his finest performance is in this 1959 drama with Deborah Kerr, Jason Robards Jr., Robert Morley, E. G. Marshall, Anne Jackson, and Ronnie Howard. The film is set in pretty modern times - the powder-keg that was Hungary in 1956, when briefly it looked like the Iron Curtain was about to collapse there under the reforms of Hungarian patriot Imre Nagy and his supporters. But the Hungarian Revolution collapsed due to bad timing. The Russians and their Polish and East German allies sent tanks in to crush the revolt (and arrested and executed Nagy and other reformers). The West stood by and let this happen: England and France had gotten caught in the Suez crisis, and the U.S. had berated them and Israel for attacking Egypt. Due to the actions of three close allies of the U.S., the West found it hard to condemn the overkill of the Soviet Union. It was an unfortunate situation, and the Hungarians have never forgotten how they were abandoned in it.<br /><br />In the film Brynner is Major Surov, a Russian intelligence officer who is watching for some of the leaders of the Hungarian revolt, one of whom is Paul Kedes (Jason Robards). Kedes may be getting assistance from some westerners on a bus tour through Hungary, led by Robert Morley (including Marshall, Jackson, and Howard, and Kerr). The latter are being kept in a hotel while their bus is being repaired, and Brynner mingles with them, hoping for a lead to the whereabouts of Robards. But Brynner is human - he tries to be ingratiating with these people (all of whom see him as a monster), and in sequence, when he has drunk a little too much, he confronts them with the questions that has bothered historians since 1945: How is it (even if one notes that Russia had Stalin in charge) that relations between Russia and the West collapsed so quickly? The allies, on the whole, had worked well together from 1941 to 1945, but after Yalta and Potsdam all types of mutual suspicions just erupted. Did they have to? Surov is a good officer, but he is torn in half by loyalty to the Communist regimes in the Soviet Union and in Hungary that he supports, and his growing fondness towards Kerr, who is hiding Robards but is also willing to note the more human side of the Russian major. And as the film reaches it's tragic climax, we watch as Surov has to decide if he will follow his sense of duty, or take pity on Kerr, Robards, and the other westerners who want to leave. It becomes a true struggle for him - and one that he may win far too late. It was a great film about a tragedy of post war Europe, and possibly the most thoughtful role Yul Brynner ever portrayed.\",...,\"First I have to say that I really love Udo Kier and have always had respect for Armand Assante but nothing could save this train wreck of a movie. Udo does not even appear till much later in the movie and the acting from Everyone is just terrible. The script is all over the place, the dialog is wooden, the \"action\" is laughable and the plot could be summed up on a dirty cocktail napkin. I really wanted to find something redeeming in this movie but found myself holding my hands over my eyes, shaking my head and repeating over and over to myself, \"Oh Udo.....why???....Why?????..\". If you are a fan of Udo or Armand, please don't watch this movie. It will only make you sad for them.\",\"The author sets out on a \"journey of discovery\" of his \"roots\" in the southern tobacco industry because he believes that the (completely and deservedly forgotten) movie \"Bright Leaf\" is about an ancestor of his. Its not, and he in fact discovers nothing of even mild interest in this absolutely silly and self-indulgent glorified home movie, suitable for screening at (the director's) drunken family reunions but certainly not for commercial - or even non-commercial release. A good reminder of why most independent films are not picked up by major studios - because they are boring, irrelevant and of no interest to anyone but the director and his/her immediate circles. Avoid at all costs!\",\"Ed Wood is eclipsed and becomes Orson Welles. This film is fantastic. Vampire witches who fight in terribly choreographed scenes and dialog that could have breaking ribs with laughter. Plan 9 From OUterSpace dons't stand a chance against this. Described by the writer and psychic Stephen Armourae on the Vampire Forum as a masterpiece- he's from England and thoroughly sarcastic.<br /><br />It has Stephanie Beaton and the producers know whats going to save them from bankcrupcy by repeatedly using her. Though she leaves me cold as she looks more like the undead than all the devil raisers. And Eileen Daly is just a lower rate Elvira. The whole thing is badly done.<br /><br />Watch it for the script though\",\"The story was well plotted and interesting by itself. However, it is difficult for me to write the review of this film without spoiling you. To avoid that, I am not going to talking the story here.<br /><br />I regard this film as a good adaption of Sarah Water's book, as compared with the previous one \"Tipping the velvet\". I read the book first and then watched the DVD later. The film did retain most of spirits of the main characters in the book. Of course, due to the time limitation, the film in the last 30 min seemed to be in a rush to cover the part III of the book. Therefore, it couldn't illustrate well the scene when they all met in the the kitchen of Mr. Ibbs's place and those after that (even the book seemed to me to be a rush on that kitchen scene). Despite that, the film actually did a good job in representing the story. It really worth watching. It's still unclear when BBC-America can broadcast this film. That's pity.<br /><br />PS: noticed that the ages of Maud and Sue were set to be 20-21 instead of 17-18 in the book; the latter is more reasonable while the former is more close to the ages of actresses.\",\"Every great gangster movie has under-currents of human drama. Don't expect an emotional story of guilt, retribution and despair from \"Scarface\". This is a tale of ferocious greed, corruption, and power. The darker side of the fabled \"American Dream\".<br /><br />Anybody complaining about the \"cheesiness\" of this film is missing the point. The superficial characters, cheesy music, and dated fashions further fuel the criticism of this life of diabolical excess. Nothing in the lives of these characters really matter, not on any human level at least. In fact the film practically borderlines satire, ironic considering all the gangsta rappers that were positively inspired by the lifestyle of Tony Montana.<br /><br />This isn't Brian DePalma's strongest directorial effort, it is occasionally excellent and well-handled (particularly the memorable finale), but frequently sinks to sloppy and misled. Thankfully, it is supported by a very strong script by Oliver Stone (probably good therapy for him, considering the coke habit he was tackling at the time). The themes are consistent, with the focus primarily on the life of Tony Montana, and the evolution of his character as he is consumed by greed and power. The dialogue is also excellent, see-sawing comfortably between humour and drama. There are many stand-out lines, which have since wormed their way into popular culture in one form or another.<br /><br />The cast help make it what it is as well, but this is really Pacino's film. One of his earlier less subtle performances (something much more common from him nowadays), this is a world entirely separate from Michael Corleone and Frank Serpico. Yet he is as watchable here as ever, in very entertaining (and intentionally over-the-top) form. It is hard to imagine another Tony Montana after seeing this film, in possibly one of the most mimicked performances ever. Pfeiffer stood out as dull and uncomfortable on first viewing, but I've come to realize how she plays out the part of the bored little wife. Not an exceptional effort, but unfairly misjudged. The supporting players are very good too, particularly Paul Shenar as the suave Alejandro Sosa.<br /><br />Powerful, occasionally humorous, sometimes shocking, and continually controversial. \"Scarface\" is one of the films of the eighties (whatever that might mean to you). An essential and accessible gangster flick, and a pop-culture landmark. 9/10\"],[\"Ashley Judd, in an early role and I think her first starring role, shows her real-life rebellious nature in this slow-moving feminist soap opera. Wow, is this a vehicle for political correctness and extreme Liberalism or what?<br /><br />Being a staunch feminist in real life, she must have cherished this script. No wonder Left Wing critic Roger Ebert loved this movie; it's right up his political alley, too.<br /><br />Unlike the reviewers here, I am glad Judd elevated herself from this moronic fluff to better roles in movies that entertained, not preached the heavy-handed Liberal agenda.\",\"In the year 2000 (keep in mind, this is two years ago, not four), two men had the motivation to create the most miraculous piece of art on this side of the Mississippi.<br /><br />Thanks to Jere Cunningham and Tom Flynn, the world can now enjoy Second String, a delicious TV movie depicting a tale of a rag-tag gang of second stringers (thus the title) who are thrust into the position of starters due to an order of bad oysters.<br /><br />Because of the motivational direction of both the director Robert Lieberman and the Buffalo Bills' last minute QB, Dan \"Give 'em hell\" Heller (portrayed by Canadian actor, Gil Bellows) the oft Super Bowl snake-bitten Bills find themselves in the ultimate position.<br /><br />With an intriguing mix of internal and external conflict, a love story, comraderie that only the fine sport of football can bring, and an overall theory that the underdog can compete, Second String is an excellent movie worthy of viewing every possible moment that it appears on TNT.<br /><br />The only thing potentially bad about this production is the spelling of the Costume Designer's first name, Jenifur Jarvis.<br /><br />\",\"The problem with THE CONTRACTER is summed up by the opening scene . The CIA want an international terrorist dead so contact black ops assassin James Dial . The terrorist is appearing at the Old Bailey court in London which begs the question why do they want to bump off a terrorist if he's going to spend the rest of his life in jail ? He's going to be out of circulation either way . Didn't the CIA have a chance before he was arrested ? If by some chance he gets a not guilty verdict then kill him . There's no logical reason to kill someone who is going to spend life in a maximum security prison <br /><br />Since the premise sets up the story an audience might be choose to ignore the plot hole but the assination itself pours fuel upon the fire . Dial's colleague is killed by a police bullet and the taxi they're driving in crashes but Dial manages to escape . So the police were close enough to shoot someone but too far away to apprehend someone from a car crash ? The film of this type of plot connivance . Later Dial finds a police inspector pointing a gun at him saying \" this airport is surrounded by armed coppers \" yet Dial manages to escape very easily without explanation . The whole film cheats its audience by relying on things that are never explained . This includes an important supporting character called Emily Day . Why does she help Dial even though he's a wanted fugitive ? Your guess is as good as mine <br /><br />This is a fairly poor thriller and don't be taken in by the \" big name \" cast . Wesley Snipes used to qualify as a film star but killed his career by starring in more and more inconsequental films . Charles Dance also appeared in big budget Hollywood productions such as LAST ACTION HERO and ALIEN 3 but again he's someone best known for appearing in straight to DVD fare these days , and he's basically playing a cameo role anyway . The likes of Lena Headey may go on to become big players in cinema but they'l certainly fail to put THE CONTRACTER on their resume\",\"An absolute classic of 80's scare flix. This one isn't like any other as it pits pint-size, wild-eyed, psychotic youngsters with an urge to kill against all the grown-ups in town. Bud from JUST ONE OF THE GUYS (80's gold again) plays one of the killer-kids and he's paired up with one of the little girls Jake Blues tries to purchase in the BLUES BROTHERS. There is a third blond boy, but he keeps disappearing from the movie for whatever reason. The violence is hilarious at times and also surprisingly gruesome in spots. The demonic gang of smiling kids, though somehow possessed by extra-planetary means, bear little resemblance to the droid-ish Children of the Damned, who never thought to use pistols, crossbows and shovels to kill those pesky adults. Julie Brown (not Downtown Julie Brown-the other one) shows her rack, like three times, as she dances around in her bedroom. This movie is a rarity that I cannot believe I missed growing up in the 80's. This would have been my absolute favorite movie as a kid if I had seen it. Where is the sequel the ending begs for? This movie is just incredible. Seek it out at all costs.\",\"Some comments here on IMDb have likened Dog Bite Dog to the classic Cat III films of the 90s, but although it is undoubtedly brutal, violent and very downbeat, this film from Pou-Soi Cheang isn't really sleazy, lurid or sensationalist enough to earn that comparison. However, it still packs a punch that makes it worth a watch, particularly if gritty, hard-edged action is your thing.<br /><br />Edison Chen plays Pang, a Cambodian hit-man who travels to Hong Kong to assassinate the wife of a judge; Sam Lee is Wai, the ruthless cop who is determined to track him down, whatever the cost. With Wai closing in on his target, Pang will stop at nothing to ensure his escapeuntil he meets Yue, a pretty illegal immigrant who needs his help to escape her life of abuse.<br /><br />A relentlessly harsh drama with great cinematography, amazing sound design, a haunting score, and solid performances from Chen and Lee (as well as newcomer Pei Pei as Pang's love interest), Dog Bite Dog is one for fans of hard-hitting Asian hyper-violence (think along the lines of Chan-wook Park's Vengeance trilogy). Stabbings, shootings, merciless beatings: all happen regularly in this film and are caught unflinchingly by director Cheang.<br /><br />Of course, this is the kind of tale that is destined to have an unhappy ending for all involved, and sure enough, pretty much everyone in this film dies (rather nasty deaths). Unfortunately, there is a fine line between tragedy and (unintentional) comedy, and in its final moments, Dog Bite Dog crosses it: in a laughably over-dramatic final scene, Pang and Wai are locked in battle as a pregnant Yue looks on. Eventually, after all three have suffered severe stab wounds during the fracas, a wounded Pang performs a DIY Ceasarean on (a now dead) Yue, delivering their baby moments before he himself dies.<br /><br />Whilst this film might not be a 'classic' slice of Hong Kong excess, with its deliriously OTT action and stylish visuals, it's still worth seeking out.\",...,\"This film, for what it was set out to be, succeeded. It's a short tragic film. Although my choice of film are ones that really develop characters and their relationships, this film is meant to just give a taste, leaving you with the \"what happens next\" factor. After watching it, I really was wanting more, more of the characters back story, what influences they had to make them into the people they were. I think thats what the makers intended the viewing audience to think. The acting is amazing. There aren't many lines in the film so their body language, facial expressions, and overall presence needed to be powerful enough to withhold a scene. Both Franco and Miner have that element and it shows. For them (especially Franco) to take the time to make this, obviously says they believed in this film and wanted to be apart of it and for that, I appreciated the film for what it was. Also I'm happy I own it so I can share it with other people that would've never known it existed.\",\"I love this movie so much. It always makes me cry. If you appreciate Drew Barrymore half as much as I do, you'll love this movie. It's got all the essentials I look for in a movie. It has good actors, good characters, good humor...a lot of heart-warming moments too. The flash-back moments when we see Josie in high school make me cry though. Every single time. I'm sure you'll like this one, don't judge based on the fact that it looks like a teen movie, even though it is, in a way, a teen movie. Sure, if you're a guy, and all you watch are hardcore special effect movies only in the top 250 movies of all time, then this isn't for you. But if you like romantic comedies you will not forget after seeing it, pick it up at a video store and enjoy: Drew Barrymore is great in this one!\",\"I was on a mission to watch Uwe Boll movies to see if they were really as bad as all that. The first one I saw, BloodRayne, was not a complete loss. I liked it more than most people, and actually rated it a 4 out of 10. Next up was the first House of the Dead movie. Now THAT was horrifically bad. I could stand watching ten minutes of it, and fast-forwarding a bit, and that was it. I could see where it was going and I didn't need to see any more of it in order to rate it a just 1 out of 10.<br /><br />But I had access to the sequel, too (which however is not by Uwe Boll, but, mysteriously, written by the same guys who so incompetently wrote the first one), and since it got a higher rating at IMDb than the original, I thought I'd give it a chance. And I actually managed to watch all of it. It started out with some funny references and cool lines (like how the president got his orders from the vice-president!), and acting-wise it is light-years better than the first. Here we have cool muchachas like the ultra-hot Emmanuelle Vaugier, whose coolness is in league with Carrie-Anne Moss, Claudia Black and Evangeline Lilly. Man, I hope some Matrix-style movie comes along for her sometime. And the always delectable, super-aerobicized Victoria Pratt. I love athletic women. And, there was also Nadine Velazquez (Catalina on \"My Name Is Earl\"), who performed quite well.<br /><br />The story wasn't much, and the action wasn't great, either, and the ending was a disappointment, as they didn't succeed in their mission. Oh well, at least the two mains survived. Guess that's some small victory, too.<br /><br />Good cast, but a pretty bad movie. The actors make it watchable, but there's no real substance there.<br /><br />3 out of 10.\",\"I haven't laughed so much in a theater in years. The only problem is that it was not the intent of the movie to make my throat raw from laughter.<br /><br />This movie is absolutely overflowing with bad CGI, absolutely terrible duologue, absolutely terrible *acting*, and enough geek references to make the whole thing come off as nothing but complete cheese.<br /><br />As a gamer and a geek-type girl myself, I did recognize all of the obvious game references in this movie as well as the geek STUFF that was just thrown into the background as eye candy (the Steamboy poster, the t-shirts from thinkgeek.com and j-list.com), and that didn't redeem the movie at all.<br /><br />The only thing that might have been good at ALL were the ghost children type characters that were purposefully badly done in CGI to make it look like they were from a game, and who were OBVIOUSLY stolen from Japanese horror movies.<br /><br />To be honest, it was hilariously bad, and something I'd expect from a midnight showing of a made-for-TV b grade Sci-Fi channel movie. Don't expect more than that and you'll have a great time. Just don't get a soda or you'll spit it everywhere when you get great lines like: \"Why did you bring that game into our lives?! WHY?!\"\",\"The story for Hare Rama Hare Krishna actually came to Dev Anand's mind when he saw hippies and their fallen values in Kathmandu where he was on a visit after the protests against his previous Prem Pujari in Calcutta. He was low in spirits because his film had been opposed and some had burnt Prem Pujari's posters. But the life of hippies re ignited a story in Dev's mind to be made into a film.<br /><br />This was Dev Anand's perhaps best directorial effort. The film was a blockbuster super hit at the box office and Zeenat Aman as Dev's sister made a tremendous impact.<br /><br />This film was Dev Anand's call to the nation to keep up their moral values.<br /><br />It is about a Montereal based Indian family and the brother's role is a very affectionate one for his sister. But the parents quarrel and separate leaving Prashant(Dev) with mother and Jasbir(Zeenat) with father. She is repeatedly told that her mother and brother are dead and she eventually believes that she will never see Prashant again.<br /><br />She is ill treated by her step mother and she runs away from home. Dev grows up to be a pilot and he learns that Jasbir is in Kathmandu with certain hippies.<br /><br />To reunite with his sister, Dev travels to Kathmandu and meets Shanti(Mumtaz) who was to later marry him and also Janice who in reality is Jasbir with a new name and new identity. She has forgotten her childhood and Dev too.<br /><br />Dev has to get his sister back amongst all other happenings which include his being suspected as a thief in Kathmandu and the people are after his life.<br /><br />This was a story well directed and acted-both by Dev Anand. We see more of Zeenat Aman than of Mumtaz. But the music by Rahul Dev Burman was well composed. Dev had first offered the music to be composed by Sachin Dev Burman but Burman Da did not want Dev to do the film. He was very close to Dev and his earlier film Prem Pujari, though was good, but had been opposed in Calcutta. Burman Da wanted Dev to try a lighter subject as he thought hippie cultist film might reignite people's anger against Dev. But Dev continued with the film reassuring Burman Da and the film was indeed a success.<br /><br />R D Burman had Asha Bhosle sing the award winning Dum Maro Dum. Kanchi re Kanchi re was another good number.<br /><br />Overall it is a good film.\"]]\n",
       " label: [[1,0,1,0,0,...,1,0,0,0,0],[0,0,0,0,1,...,1,1,0,1,1],...,[1,1,0,1,1,...,0,0,0,1,1],[0,1,0,1,1,...,1,1,0,0,1]]\n",
       " input_ids: [[[101,1045,2031,2000,2360,...,7987,1013,1028,9467,102],[101,8670,2232,1012,2178,...,0,0,0,0,0],...,[101,9826,9643,2143,1010,...,0,0,0,0,0],[101,28667,9331,1024,2440,...,3896,1010,2030,1996,102]],[[101,2077,1045,2707,1012,...,0,0,0,0,0],[101,2044,10983,2121,1016,...,0,0,0,0,0],...,[101,2023,3185,4152,2009,...,0,0,0,0,0],[101,2065,2023,2003,2025,...,0,0,0,0,0]],...,[[101,1996,6789,1997,2097,...,4073,1012,1026,7987,102],[101,1045,2031,2000,2360,...,0,0,0,0,0],...,[101,1996,2466,2001,2092,...,0,0,0,0,0],[101,2296,2307,20067,3185,...,1996,3152,1997,1996,102]],[[101,9321,20128,1010,1999,...,0,0,0,0,0],[101,1999,1996,2095,2456,...,0,0,0,0,0],...,[101,1045,4033,1005,1056,...,0,0,0,0,0],[101,1996,2466,2005,14263,...,8754,2923,2143,2453,102]]]\n",
       " attention_mask: [[[1,1,1,1,1,...,1,1,1,1,1],[1,1,1,1,1,...,0,0,0,0,0],...,[1,1,1,1,1,...,0,0,0,0,0],[1,1,1,1,1,...,1,1,1,1,1]],[[1,1,1,1,1,...,0,0,0,0,0],[1,1,1,1,1,...,0,0,0,0,0],...,[1,1,1,1,1,...,0,0,0,0,0],[1,1,1,1,1,...,0,0,0,0,0]],...,[[1,1,1,1,1,...,1,1,1,1,1],[1,1,1,1,1,...,0,0,0,0,0],...,[1,1,1,1,1,...,0,0,0,0,0],[1,1,1,1,1,...,1,1,1,1,1]],[[1,1,1,1,1,...,0,0,0,0,0],[1,1,1,1,1,...,0,0,0,0,0],...,[1,1,1,1,1,...,0,0,0,0,0],[1,1,1,1,1,...,1,1,1,1,1]]],\n",
       " 'val': MemoryMappedTable\n",
       " text: string\n",
       " label: int64\n",
       " input_ids: list<item: int32>\n",
       "   child 0, item: int32\n",
       " attention_mask: list<item: int8>\n",
       "   child 0, item: int8\n",
       " ----\n",
       " text: [[\"This is one of the funniest movies I've ever saw. A 14-year old boy Jason Shepherd wrote an English paper called \"Big Fat Liar\". When his skateboard was taken, he had to use his sister's bike to get to the college on time and he hit a limo. When he went into the limo, he met a famous producer from Hollywood, Marty Wolf. When he left the limo, he forgot one thing: his paper! So Marty Wolf took it and he turned Jason's English paper into a movie! When Jason admitted that he left his paper in the limo and Marty took it, his parents and his English teacher didn't believe him! So Jason and his friend Kaylee had to fly to Los Angeles to go to Hollywood to make Marty admit he stole his story to Jason's parents. When Jason told Marty to call his dad that Marty stole that paper, Marty tricked him and burned his paper! Jason got so angry that Marty burned that paper so Marty called security to get Jason out of his site! Jason and Kaylee realized Marty isn't going to admit the truth. In order to take Marty down in Phase 2: The Takedown, Jason and Kaylee put permanent blue dye into the pool and when Marty jumps in, his body turns all blue and it wouldn't come off! Then they put permanent orange dye in Marty's shampoo and when he uses it, his hair turns all orange and it wouldn't come off too! Finally, they put lots of glue on Marty's earpiece to make him call Jason's father and when Marty uses it, it sticks to his ear! It was funny when Marty's hair and body turns all blue and orange and his headset is glued to his ear! After that, they tricked Marty by telling Monty, who is Marty's assistant, that Duncan moved to a house where there's a party going on. When Marty went in to see Duncan, he was at the wrong house and all the kids at the party beat him up! When Marty was in the house, Jason and Kaylee switched the controls of his car. When Marty drove his car, he knew all the controls were switched and he didn't know which button to push. He's stupid enough to fall for it. When Marty hit the rear end of the masher, the masher wrecked his car! It was so funny. So Marty starts to call Jason's dad and tricked him again! He was on the phone, but it wasn't his father, he called security! After the security got Jason and Kaylee out of Marty's site, they suggested them to go home. Monty was going to be on Jason and Kaylee's side cause she knew that Marty was a liar and a jerk so she told Rocco, who is one of the security guards that she will take care of the kids. Jason told his father the truth of what he's been up to for the past 2 days and had his parents come to L.A. When Monty came to the kids, she's going to help the kids move into Phase 4: The Payback. Jason splits the crew into 3 teams for Phase 4. One team will distract and trick Marty until Jason's parents get to the set. Marty first rode with Frank Jackson, but his car broke down so he rode with Jaleel, but he took him into the desert and leave him there. When Marty was in the desert, a helicopter came to rescue him. After that, one of the blades are jammed so Marty and the pilot got off the helicopter. After that, he was on the way to the set and when Jason saw him, Marty stopped and saw what Jason has: his monkey! So Marty went after Jason and Kaylee and when they saw Lester, he released the water and when the water came, it pushed Marty away. Marty was still after the kids and when Kaylee went the other way, Jason led Marty to the top of the apartment building. At the top, Jason was challenging Marty by making him admit the truth and Marty will never ever tell the truth. When the crew caught Marty in surprise, all the people including Jason's parents who were at the set knew what Marty did. Marty was going to kill Jason but the only way for Jason to escape is jump down from the top! After that, his parents believed him that Marty took his story. When the people who were on the set left, this is the end of Marty. At the end, Jason's story, Big Fat Liar was a movie. I cant get enough of it.\",\"One of my favorite westerns and one of John Ford's best in my opinion. No major stars, but Ben Johnson shines in most everything he appears, and here he gets a rare lead as the title character. Matching him is Ward Bond as the crusty Mormon elder leading his people west. John Ford's stock of character actors, including Harry Carey, Jr., Jane Darwell, Russell Simpson and Hank Worden, provide ample support, as does eerily silent James Arness, a member of the outlaw Clegg clan that joins up with the wagon train. The Mormon trail into Utah was one of the most arduous and demanding enterprises ever undertaken. We can't really get the feel of that, but we do see ordeals that had to be overcome by pioneers on the way west; river crossings, long stretches of dry, waterless desert, encounters with Indians and the like, all set to glorious song by the Sons of the Pioneers. The Mormons actually did dig sections of the trail with picks and shovels, as depicted in the movie. My main regret is that it wasn't made in color, but I believe there is a colorized version. By the way, those craggy rocks featured in various scenes are called the Fisher Towers, located near Moab. Highly recommended viewing.\",\"I felt I had to add a comment after seeing the breathless gushing of the other comment. I was taken to see this film as a child by my unknowing parents, expecting a normal Norman Wisdom jolly romp comedy. Instead, what you get is this insipid British sex comedy of the worst kind where Norman (Norman!) plays a swinger aiming to get off with as many 'birds' as possible. Absolutely typical of the genre - poorly filmed and acted, no semblance of a script beyond the worst kind of double-entendre, and very vague hints of 'naughtiness'. And all seemingly on that special grainy film stock that is reserved for 1960's-1970's British low budget films. About the only memorable thing is the annoyingly catchy theme tune, which still pops up in my brain after 30-odd years.<br /><br />Finally, in the last scene you also get to see Norman naked - running across the sand and looking frozen. I think so anyway- at that point my mother hauled me out of the cinema. I saw it again, many years later, and guess what, it was still dire.<br /><br />If you're any fan or take any interest in the little man and his career, you'll apply the '10-foot-bargepole' rule to this. Believe me, you do not need to see Norman Wisdom's backside.\",\"Not to be mistaken as the highly touted Samuel L. Jackson vehicle SNAKES ON A PLANE; SNAKES ON A TRAIN is low budget, features no actors(to speak of), but some pretty decent visual effects. An attractive young woman(Julia \"Rayanne\" Ruiz)does not want to marry someonelse's choice for her husband; so she is put under a powerful Mayan curse that has snakes hatching inside her body, slowly devouring from the inside out. Her only hope for survival is a shaman who lives across the border in Texas. Time is running out for her; and she is put on a train from El Paso to Los Angeles. Before long the snakes are leaving her pain wrecked body and rapidly growing in size. The passengers aboard the train are now trapped and soon to be snacks for the snakes. The finale sequence is no doubt the best of this 91 minute flick. Also receiving acting credit are: Alby Castro, Al Galvez and Giovanni Bejarno.\",\"I watched the entire movie recognizing the participation of William Hurt, Natascha McElhone, and Desiree Nosbusch. I'm glad that I had no idea of the presence of Peter Weller. At the end of the movie I said \"THAT was Peter Weller?\" Kudos to Mr. Weller for an outstanding performance. Weller played a major character, and his performance was such that I didn't even recognize him.<br /><br />Overall the plot was bad, the writing was bad, and the performances, aside from those of Nosbusch and Weller, were subpar. The scenery and setting were interesting, and Weller was amazing.<br /><br />4 stars, of a possible 10.\",...,\"I thought this movie was horrible. I was bored and had to use all the self control I have to not scream at the screen. Mod Squad was beyond cheesy, beyond cliche, and utterly predictable.\",\"Things to Come is an early Sci-Fi film that shows an imagined world, or \"Everytown\" through 100 years. You can break it up into about 4 different scenes or parts. The film spans from 1940 to 2036 and is mainly about how this ruler or the \"Boss\" wanted to get the capability to fly in airplanes again, after Everytown was bombed and war broke out.<br /><br />This film only has about 3 faults: it's audio is muddy and video had some quirks, the characters aren't deep at all, and the overall plot isn't altogether solid. The plot is lacking something that I can't put my finger on... it just seems a little \"fluffy.\" But if you love sci-fi and are interested in what H.G. Wells though might happened in the next hundred years, this is a must see. It's worth seeing just to learn of what everyone was fearing: a long, drawn-out war, because they were just about to go to war with Germany, and there was a threat of biological weapons and everything.<br /><br />Things to Come is a pretty good movie that most people need to see once.\",\"Well, there's no real plot to speak of, it's just an excuse to show some scenes of extreme violence and gratuitous sex (which can sometimes be fun, too, but it's not in this case). What else can I say about this...? The action, when happening, is inventive and there's a cool scene where two characters are falling from a skyscraper (one that has to be several miles high), but overall there's not much to recommend \"Kite\". Watch it if you want, but you're not missing much if you skip this one...\",\"This film infuriated me for the simple fact that it was made only because Shepherd was gay. The men who murdered him are clearly wicked. What happened to the poor man was truly horrible and a tragedy. However, where was Hollywood when four religious white kids were executed, after being forced to perform a host of sex acts on their killers and each other, by two evil black men in Wichita just two years ago? The celebrities only mug for the camera when it serves a political purpose. Also, Laramie is portrayed in a poor light by this pseudo-documentary, which of course is hardly surprising because they are the backward hicks who must be educated by omniscient and enlightened Californians. Still, it's always a treat to see Laura Linney.\",\"While the British produced some hilarious and slick sitcoms in the 1990s - Ab Fab, Men Behaving Badly, One Foot in the Grave, etc. - the 70s were the real golden age.<br /><br />In the 1970s there were whole new territories to explore, including the sexual revolution, feminism, and the slowly evolving awareness of a need for \"sensitivity\" that would, twenty years later, become Political Correctness. Attempts to grapple with the confusion of this thoroughly modern world were the subtle and not-so-subtle themes in everything from the skits of Monty Python's Flying Circus to sitcoms like Man About the House. (By the late 70s this \"grappling\" resulted in more meditative and bitter-sweet sitcoms such as the masterpiece Butterflies.)<br /><br />Man About the House is a perfect example of the good Britcoms of the time - slightly genteel, cheeky, fresh, ingenuous, sometimes outrageous, with some well made observations on contemporary life. Compare it to a cynical 90s show such as Ab Fab, and it is hard to believe the two were created in the same country.<br /><br />Man About the House is one of the great Britcoms of the 70s, right up there with Good Neighbors (The Good Life), and About the House's spin off George and Mildred. Its quality is attested to by the fact that - as with Good Neighbors - its creators, writers, and many of its cast have had continued success in British television.\"],[\"I loved The Real Mc Coys (1957-1963) It is too bad that Lydia Reed has decided to be forgotten and not appear. She was excellent in the show. Of course Walter Brennan was great as well as Tony Martínez. I loved it when he called Amos Señor Grampa.I have purchased Season I on DVD and I cannot wait to buy Seasons 2-6.If only there would be more shows on television like this one, everything would be better. This show appeared briefly in the summer of 1999 but then disappeared. God bless all the departed members of the cast and please,Llydia Reed, make yourself known again to the public. You are loved and respected. The Real Mc Coys will live forever.\",\"This film has a powerful philosophical ending. But that ending has meaning only if you watch the movie from the beginning.<br /><br />Youth alienation in the late 1960's, from the viewpoint of a young man and a young woman, is the obvious theme of \"Zabriskie Point\". Neither Mark Frechette nor Daria Halprin had much acting experience, a fact that actually enhances the film's message. Having untrained actors conveys a sense of realism, as both players seem emotionally detached from the turmoil around them.<br /><br />This is not a script-driven film. Except for the first ten minutes, it is mostly visual, with stunning cinematography. The beautiful naturalistic images seem other-worldly, and perfectly in sync with the emotional detachment of Mark and Daria.<br /><br />I would have replaced the thematically weak Pink Floyd music with the more cogent music of The Doors. Many scenes cry out for \"Riders On The Storm\".<br /><br />Even so, I like this film. It's different; it's unique; it is artistic and imaginative. And the desert badlands are beautiful.<br /><br />As the years go by, \"Zabriskie Point\" seems more and more attractive. It conveys the mood of the late 1960's in America. It is amazingly artistic, in a bohemian sort of way. And the film's last eight minutes are philosophically mesmerizing.\",\"There are plenty of reviews on this page that will explain this movie's details far more eloquently than I could; but I would like to offer a simple review for those who occasionally go to the movies for more than entertainment. Raising Victor Vargas is so true you will believe it. This flick gets inside your head.\",\"I rented this movie roughly 4-5 years ago and was instantly disappointed.<br /><br />I wanted to see a b-movie slasher flick, but ended up with a fecal matter for my eyes. The acting was similar to watching grass dry. I've seen better acting in a softcore film...<br /><br />The idea that a crazy killer comes out of nowhere baffled me. How was this a horror movie?<br /><br />this movie's production value, was laughable at best. There were no scares. It seemed like a high school student got a new video camera for Christmas. The plot was all over the place, if existent. If you are bored looking for a bad horror movie to rent, skip this one. There are much better b-movies out there.\",\"Working girl Kitty (Sothern) is engaged to Bill (Kelly), who neglects her by working long hours at his garage in order to save money for their marriage. After being stood up on her birthday, Kitty goes on a double-date/blind date, where she meets department store heir Bob Hartwell (Hamilton). She falls in love, but leaves him when his protestations of love appear to cover a desire for her to be his mistress, rather than his wife. Faithful Bill rallies 'round to comfort her, and at last she gives in to his repeated requests to reinstate their engagement, pressured in part by Bill's support of her family after she loses her job. When Bob returns, however, convinced that he wants marriage after all, will Kitty follow her heart or her conscience? <br /><br />This film was a lot better than I'd expected it to be. The character of Bill at first comes off as the sort of loud comic Irishman type that Jack Carson played so often. But Kelly (and the script) infuse the character with real compassion and love, and Bill turns out to be the best person in the entire group. Viewers may find themselves rooting for him against the feckless Hartwell! The tone of the film wavers, however, between light-hearted romance and a much darker side, especially in the depiction of a dance marathon and a rather horrific accident at Bill's garage.<br /><br />The cast is rounded out by the dependable Jane Darwell as Kitty's mother, an impish but not yet thoroughly obnoxious Mickey Rooney as Kitty's younger brother, and Spencer Charters as Kitty's ne'er-do-well father.\",...,\"I'm a big fan of the demonic puppets. Looking at the surface of this one, it looks pretty good! You've got Decapitron, the puppets, and a new villain in THE TOTEM! Unfortunately, the little punk that's doing this project to animate, inanimate objects, can't act. He stinks! His girlfriend is worse. If they were left out, it would probably be cool, BLADE VS. THE TOTEM. I'd watch that for 2 hours. But instead, the puppets role is down played, and the whole movie suffered because of it. The mystical Skull guy who created the totem is corny at best, and Decapitrons appearance is long awaited, short, and really quite disappointing. You'd be better off watching the first one again.\",\"This early John Wayne Lone Star western has a bit more going for it than the run-of-the-mill oaters Wayne had been making for Lone Star up until that time. For one, it has his old friend Paul Fix in it; Fix, being a much better actor then the standard Lone Star villain, brings a much needed professionalism to the surroundings instead of the usual hesitant line-readings often delivered in these oaters. The plot, about mistaken identity, payroll robbery and murder, is as trite and perfunctory as you'd expect it to be in a 1930s low-budget western, but Wayne's strapping good looks, easygoing charm and way with a line go a long way to making this more enjoyable. Plump, balding Eddy Chandler isn't quite believable as Wayne's womanizing \"partner\", and there's a running gag about something that happens whenever Chandler and Wayne are about to get into a fistfight that grows tiresome. On the other hand, Wayne's love interest is played by none other than Mary Kornman, the little \"Mary\" of the early \"Little Rascals\" fame. She is a grown-up 20-year-old now, blonde and cute as a button. Most of Wayne's leading ladies in these Lone Star/Monogram \"B's\" were fairly bland and colorless, but Mary is perky, cute and, yes, sexy. There's a scene in the general store, where she works, in which Wayne asks her to get him a bottle of \"nerve tonic\", which happens to be on the top shelf, so she has to get a ladder and climb up to the top shelf. Wayne's ogling her pert little backside as she ascends the steps, then again as she comes down, then again a few minuter later when he asks her to climb up and get him another bottle is surprisingly racy for a film made in 1935. Wayne makes no attempt to hide the fact that he is definitely checking out her butt. Anyway, it's an interesting little \"B\", not great, but not as choppy and random as many of his LoneStar productions of the time. The final gunfight isn't handled all that well, and Chandler gets somewhat irritating after a while, but all in all, it's worth a look, if only to see a cute and sexy Mary Kornman.\",\"It's hard to comment on this movie. It's one of the few movies Dimension actually has not shelved (it's hard to come up with a reason why) and it was rushed into a an unimpressive 500 theaters it's opening day. Maybe Dimension was afraid of how people would respond to a swamp creature using his tow truck to pull a house apart piece by piece.<br /><br />Ray Sawyer is just a tow truck driver, until he rescues a Voodoo priestess from a bad car accident, and in return, he gets attacked by a bag full of snakes and drowns. At the morgue, Ray comes back to life, and stalks a group of teenagers who witnessed the awful crash occur. <br /><br />What brings this movie down is it's paper thin characters. I didn't care for one moment about any of them. Also, the dialog was less than ho-hum. Also, it was very predictable. Characters did the typical stupid horror movie character things, like check creaky noises, call out people's names, and trip on a rock while being chased. I also could immediately pick out who the final girl would be. And why did the camera have those quick white flashes whenever somebody died or whenever the killer was shown?<br /><br />What's good? Well, there is an impressive suspense scene where the killer walks underneath swamp waters to get to his victims and a tense sequence where the final girl must camouflage herself with bunch of other dead bodies while the killer looks on.<br /><br />But other than that, It's another August/September disappointment. I was looking forward to it, but I did not get what was expected.\",\"As a great admirer of Marlene Dietrich, I had to (finally) watch this very, very dull picture. It is Miss Dietrich's first color film, and the world's most beautiful blond is a redhead! Bad start. The story is a tremendous bore, involving a subject which itself bores bores me stiff: religious guilt. (Who needs it???) Suffice it to say, perhaps, that of all Dietrich's films (and I have seen most, including \"Pittsburgh\") this is the only one where even her performance is barely worth watching. The color photography is OK (this is a very early Technicolor release), but to no purpose. Ridiculous casting: C. Aubrey Smith, Basil Rathbone (enough said?). The only thing of any interest at all is John Carradine's outlandish caricature of a performance as \"The Sand Diviner,\" who foretells all that will happen. The supposed \"happy ending\" is one of the most depressing ever conceived. Yet another example of David O. Selznick's highly inflated reputation (did he ever make a really good film? -- other than That One?) And, for one final annoyance, the soundtrack of the MGM DVD is a mess, with volume levels seemingly randomized. Highly unrecommended.\",\"In what could have been an otherwise run of the mill, mediocre film about infidelity in the sixties (the subtle \"free-love\" period), the creators of this film pile on ridiculous scenario after ridiculous scenario and top it all off with a trite little cherry on top, happily ever after ending. At no time did I ever feel sympathy for Diane Lane or Anna Paquin in their troublesome middle-class care free life, nor did I feel for the emasculated Liev Shrieber. The story line plods along slowly to its predictable, pathetic conclusion and the only thing interesting and watchable about this film is the stunning Diane Lane topless. Here's a hint, it occurs about 30 minutes into the film. Fast forward to that part and skip the rest.\"],...,[\"I've seen Lonesome Dove, Dead Man's Walk, and The Streets of Laredo, and now The Return to Lonesome Dove. If you are hungry for more after watching Lonesome Dove, this'll fill yer belly. Great cast, great story. Most definitely a close second to Lonesome Dove. I will be purchasing this movie to add to my collection. This is the best, or at least my favorite performance by Jon Voight. He is Captain Call. Lou Gossett Jr. playing Isom Pickett is not somebody I'd mess with, he is a bad ass with perspective. William Peterson does a great job as well. Rick Schroder is back as Newt with an angst filled performance that reminds me of his stint on NYPD Blue. My only problem with this film (and it's really picking nits) is that I had the impression that Call wanted to be \"the first man to graze cattle in Montana\", and it's obvious that Dunnigan had already been there a while. A little inconsistent, but easily overlooked as you lose yourself in the fantastic tale. I especially love the apparent character growth of Jasper Fant and July Johnson. I've watched this movie several times and am ready for another sequel.\",\"this film really tries to hard. if your going to make a horror film, at least give it a reason to believe in to hook the viewer. <br /><br />you wait and wait through the film expecting for some grand explanation but it doesn't. instead it tries to be too clever ending and not revealing anything. <br /><br />what was the point of the movie ? where it's actually going ? and more importantly what the hell was going on . . . <br /><br />why were they there and how does it tie into anything? just another weak sci-fi horror. i love the fake reviews on IMDb saying how great it is by related press releases to bump the movie (either that or people have low horizons). it's not worth your 2hrs at all.<br /><br />i'm not saying the film is better than the fragile, but at least that gave you reasoning and why things happened and has an end result. this doesn't and it just waffle's on with tons of padding to make everything feel scary. this film is about as low as when a stranger calls. god that was lame too. <br /><br />big tip, if your gonna make a horror, make it believable with reasoning and explain to the viewer what's going on, so they have a hook into your story. because if there's no reasoning or believability then there's no firm hold on anything and it can't be scary. no disrespect to the cast or crew cause they did a good job. it's just the poor writing.\",\"Every motion picture Bette Davis stars in is worth experiencing. Before Davis co-stars with Leslie Howard in \"Of Human Bondage,\" she'd been in over a score of movies. Legend has it that Davis was 'robbed' of a 1935 Oscar for her performance as a cockney-speaking waitress, unwed mother & manipulative boyfriend-user, Mildred Rogers. The story goes that the AFI consoled Davis by awarding her 1st Oscar for playing Joyce Heath in \"Dangerous.\" I imagine Davis' fans of \"Of Human Bondage\" who agree with the Oscar-robbing legend are going to have at my critique's contrast of the 1934 film for which the AFI didn't award her performance & the 1936 film \"Dangerous,\" performance for which she received her 1st Oscar in 1937.<br /><br />I've tried to view all of Bette Davis' motion pictures, TV interviews, videos, advertisements for WWII & TV performances in popular series. In hindsight, it is easy to recognize why this film, \"Of Human Bondage,\" gave Davis the opportunity to be nominated for her performance. She was only 25yo when the film was completed & just about to reach Hollywood's red carpet. The public began to notice Bette Davis as a star because of her performance in \"Of Human Bondage.\" That is what makes it her legendary performance. But, RKO saw her greatness in \"The Man Who Played God,\" & borrowed her from Warners to play Rogers.<br /><br />I'm going to go with the AFI, in hindsight, some 41 years after their astute decision to award Davis her 1st Best Actress Oscar for \"Dangerous,\" 2 years later. By doing so, the AFI may have been instrumental in bringing out the very best in one of Hollywood's most talented 20th century actors. Because, from \"Of Human Bondage,\" onward, Davis knew for certain that she had to reach deep inside of herself to find the performances that earned her the golden statue. Doubtless, she deserved more than 2 Oscars; perhaps as many as 6.<br /><br />\"Dangerous\" provides an exemplary contrast in Davis' depth of acting characterization. For, it's in \"Dangerous\" (1936) that she becomes the greatest actor of the 20th century. Davis is so good as Joyce Heath, she's dead-center on the red carpet. Whereas in \"Of Human Bondage,\" Davis is right off the edge, still on the sidewalk & ready to take off on the rest of her 60 year acting career.<br /><br />Perhaps by not awarding her that legendary Oscar in 1935, instead of a star being born, an actor was given incentive to reach beyond stardom into her soul for the gifted actor's greatest work.<br /><br />It is well known that her contemporary peer adversary was Joan Crawford; a star whose performances still don't measure up to Davis'. Even Anna Nicole Smith was a 'star'. Howard Stern is a radio host 'star', too. Lots of people on stage & the silver screen are stars. Few became great actors. The key difference between them is something that Bette Davis could sense: the difference between the desire to do great acting or to become star-struck.<br /><br />Try comparing these two movies as I have, viewing one right after the other. Maybe you'll recognize what the AFI & I did. Davis was on the verge of becoming one of the greatest actors of the 20th century at 25yo & achieved her goal by the time she was 27. She spent her next 50 plus years setting the bar so high that it has not been reached . . . yet.<br /><br />Had the AFI sent her the message that she'd arrived in \"Of Human Bondage,\" Davis' life history as a great actor may have been led into star-struck-dom, instead.\",\"This movie starts off on the wrong foot and never really gets it going. The first scene shows a Life Flight helicopter landing and just outside the window you can distinctly see mountains in the background. For those of you who might not ever have been to Houston there is no elevation change. The city sits just above sea level and a 5 ft. incline is considered a big hill. To go along with that scenery, any shots outside of the hospital immediately tell the viewer that they are not in Houston. The trees are all missing leaves or are pine trees, neither of which Houston has very much of. Even the hospital itself, on the outside, is very unbelievable. Memorial Hermann Hospital is one of the top hospitals in the United States and sits smack dab in the middle of the Medical District just miles from downtown Houston, yet every outside shot of the hospital makes it appear that the hospital is out in the suburbs or even the countryside.<br /><br />It is obvious that whoever was in charge of the actual tropical storm part of the movie skimped out because the numerous shots of radar are all wrong. The first radar image in the movie is that of Hurrican Hugo hitting South Carolina. We later see Kris Kristofferson leaving his job and one of his assistants tells him that Alison is moving back south across Houston yet the radar image he shows has Alison clearly moving north off of the Gulf of Mexico into Houston...probably the initial landfall of Alison.<br /><br />As for the acting, it isn't all that bad. JoBeth Williams, Kris Kristofferson and Rick Schroder all do a decent job considering that this is a straight-to-TV movie. The plot of the story is decent and the fact that it is based on a true story makes it a bit more entertaining. My one problem with the acting is the portrayal of Houstonians with big thick Southern accents...the actors all sound like they are from Birmingham, Alabama and not Houston, Texas.<br /><br />The movie gets its point across and to the general audience it does exactly what it is meant to: entertain. If you are looking for a factual account of what happened to the city of Houston in June of 2001 then you will be disappointed. One thing to keep in mind before viewing this movie is that it is based solely on the evacuation of Memorial Hermann Hospital and not on Tropical Storm Alison and the impact on Houston metro itself. If you are looking for a factual account of Tropical Storm Alison's impact on Houston metro might I suggest watching The Weather Channel's Storm Stories for Tropical Storm Alison.<br /><br />*1/2 out of *****\",\"This movie's one redeemable quality (besides Ator's barely-there loincloth) is the hilarious acting on the part of the bad guy, Zor. This wonderfully overplayed villain has a certain...oh, Shakespearean presence that made this movie bearable (hence the 2). I just giggled every time he pirouetted, lifting an incredulous eyebrow to henchman or hero. A true example of someone not getting paid enough. (And that BEARD!)<br /><br />Now really, what was with the 12-minute hang-glider scene? Really, really, really bad. I can't emphasize that point enough.<br /><br />So, seriously, if you even deign to see this movie, watch the Mystery Science Theater 3000 version. With those dear silhouettes has many a horrendous movie been tolerated.\",...,\"That movie while slightly flawed was entirely entertaining. About half an hour into Be Cool, I started to have Hollywood Homicide flashbacks. But guess what? This is worse. Even the dance number is bad. I like most of the cast in this movie, so that makes me feel bad about writing a negative review of it but I feel obligated. The Rock, Andre 3000, and Vince Vaughn were in a comedy. No one else seemed to decide what movie genre they were acting in. I feel bad for Travolta because he brought the same Chili Palmer from Get Shorty to this movie. He was totally consistent in the role, but this movie is so different from the original that the character sticks out like a sore thumb. I was going to give this movie 4/10 because I like the actors so much but there is a conversation in the movie about a certain song that is so asinine I couldn't believe the performers actually said it. If you want to go to the movies this weekend there should still be some Oscar contenders out there. That would be a much better way to spend your time.\",\"I love bad movies. Not only, because they often are as entertaining as 'really' 'good' films (like Pirates of the Caribbean series and other Hollywood pathos), but they often are far better than those films. And that's the reason why I love Italian rip off cinema of 1970s and 1980s. And that's the reason why I especially love this movie, The Barbarians & the Company.<br /><br />Director Ruggero Deodato has made some actually very good movies, like House on the Edge of the Park, and also his Atlantis Interceptors and Live Like a Cop, Die Like a Man are enjoyable action movies. But this is really bad. The Barbarians is so idiotic movie. Peter and David Paul as the Barbarian Brothers Kutchek and Gore are very funny, because of their lack of charisma and acting skills. But if they can't act, they yell and scream every time they do something important. In one scene people try to hang the Barbarian Brothers, and they escape very extraordinary way.<br /><br />Bad acting, bad special effects, very stupid story, bad direction, actually everything is bad in this movie. I can't describe how much I laughed when I watched this first time. The Barbarians & the Company is camp classic everybody should see once. If you thought Plan 9 From Outer Space is fun camp, this will be a real killer.\",\"It´s all my fault. They all told me I should avoid seeing this movie because I´m a huge fan of the old TV-series. They were right. While production values are good and the actors themselves (including \"don´t look now\") Julie Christie aren´t that bad, the whole film displays a cheekiness and self-conciousness that clearly is without any justification. A comparison between the Karloff \"Mummy\" and \"The Mummy Returns 2000\" comes to my mind. In fact Belphegore 2000 owes much more to the new Mummy films than to the old series. But then, scripting is terrible, speed there is none and sometimes the film is full of unintentional jokes (The first scene in the tomb looks plain stupid), with cats clearly being thrown when they´re supposed to jump (landing with their backfeet first). Belphegore moves around like a statue on wheels neither impressive nor scary and the psychological drama that unfolded in the old tv series when the heroine had to learn that she´s a villain is completely neglected. This movie is so WASTED (wasted money, wasted actors, wasted blueprint) that it hurts. It´s a below-par Mummy-rip off that´s only good for some laughs but has nothing at all to do with the Greco classic (She has a small role in this movie too - on the graveyard).\",\"This was basically an attempt to do the same thing with \"Batman\" that was done with \"Gilligan's Island\" in \"Surviving Gilligan's Island.\" For those of you who missed it (and shame!) \"Surviving Gilligan's Island\" (full title: \"Surviving Gilligan's Island: The Incredibly True Story of the Longest Three Hour Tour in History\") was a special from a few years back, where Bob Denver (\"Gilligan\"), Dawn Wells (\"Mary Ann\") and Russell Johnson (\"The Professor\") related the story of the show's creation, cancellation, rediscovery & rebirth. Along the way, stories were dramatized with actors portraying the original cast and crew. It was very well done. It was funny, well cast and came across as a genuine document of the show.<br /><br />\"Return to the Batcave: The Misadventures of Adam and Burt\" is in a similar style. The re-telling of the history of the show, the re-enactments, the general feel are all the same. What's missing is the straightforward approach that \"Surviving\" took.<br /><br />In \"Return\", Adam West and Burt Ward both receive invitations to a car show to which they were not meant to be invited. After being allowed to stay, Adam and Burt witness the theft of the centerpiece of the show: the legendary Batmobile! Adam and Burt decide to chase after it themselves, leading them through clues that cause them to think about the history of the show. This eventually leads to the revelation of who stole the Batmobile and why.<br /><br />Choosing to use this conceit (actually having a plot) is the biggest letdown of this show. Unlike \"Surviving\", \"Return\" forces the viewer to follow a less interesting storyline (the theft of the Batmobile) instead of focusing all its attention on what the audience would most be interested in (the history of the show.) It is the historical sections that work the best. The casting (as in \"Surviving\") is excellent. Jack Brewer (\"Adam West\") and Jason Marsden (\"Burt Ward\") capture the feel of the actors without looking *too* much like them. Brett Rickaby (\"Frank Gorshin\") bears a stronger resemblance to his subject, but captures none of the late Gorshin's charm, only his characterizations. Other actors' portrayals are short and functional, with none standing out as especially good or bad. Many of the stories have been told before, but they mostly play out amusingly, with only the occasional clunky presentation. Another wonderful bit from the historical sections was the use of audition footage of Lyle Waggoner's tryout for the part of Batman. The only place where the flashbacks fail is when they insert obviously made up plot points to advance the main story. This downgrades the accuracy of the flashbacks needlessly.<br /><br />The \"main plot\" (if that is what we must call it) is, of course, ludicrous. This is not really a fault in and of itself, but it's just not carried off well enough to cover up the shortfall. Strong performances and good writing can make up for a silly plot (especially in these kinds of things) but we really get neither, here. The performances by West and Ward seem somewhat flat (even for them); the dialog too carefully written for it to feel natural. Again, I think the comparison to \"Surviving Gilligan's Island\" can be seen in that the dialog is mostly just there to set up a flashback. In \"Surviving\", that's all it intends to be. In \"Return\" it tries to do double duty and, unfortunately, often fails. Gorshin and Newmar do well (although I agree with others that Gorshin had not aged well and that Newmar had - and what's Waggoner taking to look that good?) but aren't given enough to do. Again, I think they all would have been better served by a more straightforward presentation than the one chosen here.<br /><br />Another odd point about \"Return\". This special is about the \"Batman\" TV series and its history, yet all the clips shown are from the theatrical movie. Even the Waggoner footage is technically movie footage. If you know you're \"Bat-history\", then you know that the movie was originally planned to be made first, only to be delayed in favor of the TV show when CBS needed to fill time fast. So when Waggoner and West were testing for the role, it was for the movie, not the TV show. Why \"Return\" only uses movie footage is unclear. It most probably has to do with rights issues, but it is a distinct distraction to those in the know: seeing Julie Newmar in the present, but only footage of Lee Meriwether as Catwoman in the past.<br /><br />Overall, I liked the show, mainly for the flashbacks. I would have preferred the style used in \"Surviving Gilligan's Island\", but I can understand why they'd want a more story-oriented piece given the subject matter. Besides, I like these people. It's nice to see them out and about, still having fun with one of the great pieces of entertainment history. I just wish they had done it a little better and when more of the original cast was still alive to be there.\",\"\"CIA Codename:Alexa\" is an absolute horrible rip off of Luc Besson's classic film \"La Femme Nikita\"(1990). The film is basically about a woman who is taken in and trained by the CIA and is forced to do a secret mission for them. (Pretty much the same story structure of La Femme Nikita) The acting combo of Lorenzo Lamas and O.J. Simpson is perhaps the worst in cinema history. Lamas' \"acting\" is simply a bad Steven Segal impersonation. Watching Orenthal act in this film is an excruciating experience.<br /><br />The writing and acting is so poor in this film at times it is laughable. There are so many action movie \"conventions\" in the film it is ridiculous: unnecessary car explosions, people flying thru glass windows, terrorists, bad ponytails, etc. The musical score resembles David Michael Frank's score for \"Hard to Kill\" (1990), which furthers the Steven Segal theme of this movie. There is plenty of martial arts in the film, and it is pretty well done for a low budget American production. The mindless action and over the top acting never lets up, and I have to admit I was mildly entertained. <br /><br />Lorenzo Lamas had the look of an action star back in the early 90's but he is certainly no action star, that is why he is doing soap operas and not action blockbusters. My recommendation is that you skip \"CIA Codename:Alexa\" and check out \"La Femme Nikita\" instead.\"],[\"Originally supposed to be just a part of a huge epic The Year 1905 depicting the Revolution of 1905, Potemkin is the story of the mutiny of the crew of the Potemkin in Odessa harbor. The film opens with the crew protesting maggoty meat and the captain ordering the execution of the dissidents. An uprising takes place during which the revolutionary leader is killed. This crewman is taken to the shore to lie in state. When the townspeople gather on a huge flight of steps overlooking the harbor, czarist troops appear and march down the steps breaking up the crowd. A naval squadron is sent to retake the Potemkin but at the moment when the ships come into range, their crews allow the mutineers to pass through. Eisenstein's non-historically accurate ending is open-ended thus indicating that this was the seed of the later Bolshevik revolution that would bloom in Russia. The film is broken into five parts: Men and Maggots, Drama on the Quarterdeck, An Appeal from the Dead, The Odessa Steps, and Meeting the Squadron.<br /><br />Eisenstein was a revolutionary artist, but at the genius level. Not wanting to make a historical drama, Eisenstein used visual texture to give the film a newsreel-look so that the viewer feels he is eavesdropping on a thrilling and politically revolutionary story. This technique is used by Pontecorvo's The Battle of Algiers.<br /><br />Unlike Pontecorvo, Eisenstein relied on typage, or the casting of non-professionals who had striking physical appearances. The extraordinary faces of the cast are what one remembers from Potemkin. This technique is later used by Frank Capra in Mr. Deeds Goes to Town and Meet John Doe. But in Potemkin, no one individual is cast as a hero or heroine. The story is told through a series of scenes that are combined in a special effect known as montage--the editing and selection of short segments to produce a desired effect on the viewer. D.W. Griffith also used the montage, but no one mastered it so well as Eisenstein.<br /><br />The artistic filming of the crew sleeping in their hammocks is complemented by the graceful swinging of tables suspended from chains in the galley. In contrast the confrontation between the crew and their officers is charged with electricity and the clenched fists of the masses demonstrate their rage with injustice.<br /><br />Eisenstein introduced the technique of showing an action and repeating it again but from a slightly different angle to demonstrate intensity. The breaking of a plate bearing the words \"Give Us This Day Our Daily Bread\" signifies the beginning of the end. This technique is used in Last Year at Marienbad. Also, when the ship's surgeon is tossed over the side, his pince-nez dangles from the rigging. It was these glasses that the officer used to inspect and pass the maggot-infested meat. This sequence ties the punishment to the corruption of the czarist-era.<br /><br />The most noted sequence in the film, and perhaps in all of film history, is The Odessa Steps. The broad expanse of the steps are filled with hundreds of extras. Rapid and dramatic violence is always suggested and not explicit yet the visual images of the deaths of a few will last in the minds of the viewer forever.<br /><br />The angular shots of marching boots and legs descending the steps are cleverly accentuated with long menacing shadows from a sun at the top of the steps. The pace of the sequence is deliberately varied between the marching soldiers and a few civilians who summon up courage to beg them to stop. A close up of a woman's face frozen in horror after being struck by a soldier's sword is the direct antecedent of the bank teller in Bonnie in Clyde and gives a lasting impression of the horror of the czarist regime.<br /><br />The death of a young mother leads to a baby carriage careening down the steps in a sequence that has been copied by Hitchcock in Foreign Correspondent, by Terry Gilliam in Brazil, and Brian DePalma in The Untouchables. This sequence is shown repeatedly from various angles thus drawing out what probably was only a five second event.<br /><br />Potemkin is a film that immortalizes the revolutionary spirit, celebrates it for those already committed, and propagandizes it for the unconverted. It seethes of fire and roars with the senseless injustices of the decadent czarist regime. Its greatest impact has been on film students who have borrowed and only slightly improved on techniques invented in Russia several generations ago.\",\"ANCHORS AWEIGH is an entertaining MGM musical that fans of the genre will enjoy but I wouldn't rate it up there with classics like SINGIN IN THE RAIN or THE BAND WAGON. This was the first of three musicals that Gene Kelly and Frank Sinatra appeared in together. Kelly and Sinatra play Joe Brady and Clarence Doolittle, two sailors on leave in Hollywood who befriend a young boy (Dean Stockwell)who introduces them to his attractive young aunt (Kathryn Grayson) a struggling actress who is working as an extra at MGM. Though both guys are initially attracted to Grayson, she eventually voices a preference to Joe but Clarence later hooks up with a waitress (Pamela Britton)who, he learns is from his hometown of Brooklyn. The paper-thin plot leaves room for several great musical numbers including \"We Hate to Leave\", Joe and Clarence's lament to their fellow sailors as they're leaving the ship; Grayson's torrid rendition of \"Jalousie\"; Sinatra's dreamy rendition of \"I Fall in Love Too Easily\" (a number which is sadly deleted from some prints of this film), and \"The Worry Song\", a fantasy dance that Kelly does with animated Jerry the Mouse from Tom and Jerry fame. Kelly also does a sort of Kissing Bandit fantasy ballet which rivals his Pirate's Ballet in the later THE PIRATE. Kelly is in peak form here, in a robust and energetic performance that earned him his only Oscar nomination for Best Actor and Sinatra's endearingly shy character here is undeniably sexy. An entertaining diversion for fans of the MGM musical factory.\",\"I haven't seen a film in a long time that moved me and gripped me in such a way; that I couldn't take my eyes off the screen. I was busting for the loo; and I didn't even want to pause it because I was drawn right in. Emotive; powerful; very moving; horrific and heart-breaking. It gives you an amazing insight to South Africa; their struggles and their lives. The acting by the leads were mind-blowing and the script was incredible. Despite the terrible events that unfold in this film and how horrific the story is; I was captivated. I don't want to even try and explain the story; it's way too complex and I wouldn't do it justice. Please see this; you'll understand why when you do. Cheers, Hol\",\"WORTH IT FOR: If not for Mick Molloy's work, then for Judith Lucy. She brings her usual classy style of unbridled foul-mouthery to the role, and steals the show in parts.<br /><br />IMHO: I'm not much of an autograph hunter, but I have collected 3. The first is Samuel L. Jackson's, the other 2 are in this movie: Tony Martin and Mick Molloy. Altho Martin only makes a cameo appearance, Molloy not only stars but co-wrote and co-produced this flick. I've been a fan of their for years now (apparently I was the only one laughing during the on-set urination in the first episode of the short lived The Mick Molloy Show), so I went in to this with high expectations. I'm happy to say I wasn't disappointed. With Mick doing a lot of the work on this thing there's plenty of his usual trademarks. Phrases like \"blow it out your arse\" and \"these bowls are s***house\" are all over the place, aswell as plenty of Winnie Blues being sucked down. It's also the sort of stupid, original story you'd expect from someone like him. This is like one of those cliqued, American, sporting comedies where they make a baseball team out of prisoners or something. But rather than trying to make a dull American sport like baseball or gridiron interesting, this movie focuses on a sport usually left to grey army: Lawn Bowls. But the main difference between this and other sporting type comedies is that this is actually very, very funny. What's even better is that even tho the subject of this movie is a young lout joining an old folks game, it's never insulting to the elderly, and it never gets sickeningly soppy or anything. It's just good laughs at genuine 1972 prices. Mick is great in the first real acting role I've ever seen him in, as is Judith Lucy and the rest of the cast, but then most of them have had a lot of practice... This is the best Australian comedy I've seen in a long time. Go see it and learn the joys of Lawn Bowls!<br /><br />IT'S A BIT LIKE: Major League?<br /><br />SCORE: 8 / 10\",\"Diane Keaton gave an outstanding performance in this rather sad but funny story which involved quite a few young people and their deep dark secrets. Diane Keaton,(Natalie),\"The Family Stone\",'05, who had an only daughter and loved her beyond words can describe. She always called her and told her, \"Surrender Dorothy\", which was an expression used in the 'Wizard of Oz',1939. A sudden car accident occurs and Natalie gets herself deeply involved with her daughter's friends and lovers. As Natalie investigates, the more truths she finds out about herself and her real relationship with her daughter. Great film to view and enjoy, especially all the good acting from all the supporting actors.\",...,\"Otto Preminger's \"The Man with the Golden Arm\" is a reference to heroin addiction - something that must have been rather risky to film back in 1955, fifty years ago (the censors today STILL have a problem with drug content in films!).<br /><br />The lead role was originally offered to Marlon Brando, then snatched by Frank Sinatra before Brando could respond. Sinatra convincingly portrays a pro card dealer and ex-heroin addict who returns home to the city only to find himself battling the demons of temptation.<br /><br />Preminger is one of my favorite directors (his \"Anatomy of a Murder\" starring James Stewart is a brilliant and revolutionary courtroom drama). Preminger pretty much helped change the face of cinema back in the '50s - \"Anatomy of a Murder\" was extremely controversial when it came out due to both its plot and content (references to rape, women's \"panties,\" seduction, etc.) and \"The Man with the Golden Arm\" deals with a topic that is equally volatile.<br /><br />However, Preminger pulls it off without becoming exploitative. This is like a forerunner to \"The Panic in Needle Park\" (1971) and bears more than a few similarities in terms of general motifs to the classic Billy Wilder movie \"Lost Weekend,\" starring Ray Milland. These three films in particular are probably the best movies about alcoholism predating the 1980s and still remain relevant today.\",\"Cleopatra (the delicious Monica Bellucci) is challenged by Cesar (Alain Chabat): in order to prove that the Egyptians are better than the Romans, she promises to build a fancy castle for Cesar in a period of three months, without any delay. She calls the one-arm architect Numerobis (Jamel Debbuzi) and gives him two options: to be covered by gold if he accomplishes his mission, or become crocodile food if he fails. Numerobis will ask for help to Panoramix (Claude Rich), Asterix (Christian Clavier) and Obelix (Geraard Depardieu) (with Ideiafix). This movie is very funny, specially the parts where Obelix and the Pirates leaded by Red Beard participate. However, the screenwriter and the director should have noted that French is not an universal language as English is. Therefore, the jokes with words (like in Austin Powers movies, for example) does not work well for people strange to French language. French people and persons fluent in French language will certainly like these jokes, but they do not make any sense for me, that do not speak French. My vote is seven.\",\"A squashy slapstick mess posing as a comedy. Elvis Presley plays an Indian bull-riding champ who leaves the rodeo for a stay at home on his folks' desert-spread in Arizona, where government suits have just invested in the family's herd of cattle (which is in dire need of a stud). What director Peter Tewksbury is in dire need of is some narrative skills, though what he lacks in assessment he makes up for in sloppy comedic montages (his social commentary isn't exactly pointed, but Tewksbury does have a satiric bend to his outlandishness and there are some funny scenes). Despite colorful supporting turns by Katy Jurado and Joan Blondell, the general wackiness gets way out of hand, and there's too much hoopin' and hollerin' to sustain much interest. As for Elvis, he's loose and frisky throughout--and while it's nice to see him having fun on-screen, one has to wonder if he had just given up on movies at this point. This shambles of a picture has a distinct what-the-hell feel to it, and though spirits are high, the returns are mostly low. *1/2 from ****\",\"I first saw \"Breaking Glass\" in 1980, and thought that it would be one of the \"Movie Classics\". This film is a great look into the music industry with a great cast of performers. This is one film that should be in the collection of everyone and any one that wants to get into the music industry. I can't wait for it to be available on DVD.\",\"I think that it's great how Chiller picked up this series and showing it for this generation. Film making has come such a long way especially with the special effects and for one to be able to watch archived shows that they never knew existed, they will certainly be able to see the progress compared to now. MONSTERS is neither lame nor spectacular but it is entertaining. It takes creativity for the types of story lines they came up with and each generation seems to have it's own horror series. This particular series was not as horrifying as the Friday The 13th, The Series, nor as adult oriented as the Freddy's Nightmares..it was something that an entire family could watch and still get a laugh and a fright at the same time. I am happy the Chiller Channel shows it in their line-up, I am just about caught up on the episodes I missed when I was growing up.\"]]\n",
       " label: [[1,1,0,0,0,...,0,1,0,0,1],[1,1,1,0,1,...,0,0,0,0,0],...,[1,0,1,0,0,...,0,1,0,1,0],[1,1,1,1,1,...,1,1,0,1,1]]\n",
       " input_ids: [[[101,2023,2003,2028,1997,...,2032,2153,999,2002,102],[101,2028,1997,2026,5440,...,0,0,0,0,0],...,[101,2023,2143,1999,27942,...,0,0,0,0,0],[101,2096,1996,2329,2550,...,0,0,0,0,0]],[[101,1045,3866,1996,2613,...,0,0,0,0,0],[101,2023,2143,2038,1037,...,0,0,0,0,0],...,[101,2004,1037,2307,19837,...,0,0,0,0,0],[101,1999,2054,2071,2031,...,0,0,0,0,0]],...,[[101,1045,1005,2310,2464,...,0,0,0,0,0],[101,2023,2143,2428,5363,...,0,0,0,0,0],...,[101,2023,2001,10468,2019,...,10606,1005,1055,11084,102],[101,1000,9915,3642,18442,...,0,0,0,0,0]],[[101,2761,4011,2000,2022,...,10580,2037,7385,2007,102],[101,24674,15180,18377,2003,...,0,0,0,0,0],...,[101,1045,2034,2387,1000,...,0,0,0,0,0],[101,1045,2228,2008,2009,...,0,0,0,0,0]]]\n",
       " attention_mask: [[[1,1,1,1,1,...,1,1,1,1,1],[1,1,1,1,1,...,0,0,0,0,0],...,[1,1,1,1,1,...,0,0,0,0,0],[1,1,1,1,1,...,0,0,0,0,0]],[[1,1,1,1,1,...,0,0,0,0,0],[1,1,1,1,1,...,0,0,0,0,0],...,[1,1,1,1,1,...,0,0,0,0,0],[1,1,1,1,1,...,0,0,0,0,0]],...,[[1,1,1,1,1,...,0,0,0,0,0],[1,1,1,1,1,...,0,0,0,0,0],...,[1,1,1,1,1,...,1,1,1,1,1],[1,1,1,1,1,...,0,0,0,0,0]],[[1,1,1,1,1,...,1,1,1,1,1],[1,1,1,1,1,...,0,0,0,0,0],...,[1,1,1,1,1,...,0,0,0,0,0],[1,1,1,1,1,...,0,0,0,0,0]]]}"
      ]
     },
     "execution_count": 26,
     "metadata": {},
     "output_type": "execute_result"
    }
   ],
   "source": [
    "imdb_tokens.data"
   ]
  },
  {
   "cell_type": "code",
   "execution_count": 27,
   "id": "c36b5bd9-8b81-49f8-86a4-eb671f1221d4",
   "metadata": {},
   "outputs": [],
   "source": [
    "test_data = imdb_tokens['test'].data"
   ]
  },
  {
   "cell_type": "code",
   "execution_count": 28,
   "id": "3ee25eb7-07b7-47c9-831f-aa7c7c3d99b2",
   "metadata": {},
   "outputs": [
    {
     "data": {
      "text/plain": [
       "['text', 'label', 'input_ids', 'attention_mask']"
      ]
     },
     "execution_count": 28,
     "metadata": {},
     "output_type": "execute_result"
    }
   ],
   "source": [
    "test_data.column_names"
   ]
  },
  {
   "cell_type": "code",
   "execution_count": 29,
   "id": "f7c0622f-eb42-44fe-9f9f-c79f41bfe9be",
   "metadata": {},
   "outputs": [
    {
     "data": {
      "text/plain": [
       "37.308979988098145"
      ]
     },
     "execution_count": 29,
     "metadata": {},
     "output_type": "execute_result"
    }
   ],
   "source": [
    "test_data.nbytes/(1024*1024)"
   ]
  },
  {
   "cell_type": "code",
   "execution_count": 30,
   "id": "396f6221-de39-4464-90ac-ef0e28284045",
   "metadata": {},
   "outputs": [
    {
     "data": {
      "text/plain": [
       "10000"
      ]
     },
     "execution_count": 30,
     "metadata": {},
     "output_type": "execute_result"
    }
   ],
   "source": [
    "test_data.num_rows"
   ]
  },
  {
   "cell_type": "code",
   "execution_count": 31,
   "id": "7ae3c1b6-7555-449d-b90e-74212ca6f6d5",
   "metadata": {},
   "outputs": [
    {
     "data": {
      "text/plain": [
       "'/home/skesava/.cache/huggingface/datasets/processed_data/default-afc46ccbcdb7d983/0.0.0/316f5994c628c49b/cache-3dad57f397a21204.arrow'"
      ]
     },
     "execution_count": 31,
     "metadata": {},
     "output_type": "execute_result"
    }
   ],
   "source": [
    "test_data.path"
   ]
  },
  {
   "cell_type": "code",
   "execution_count": 32,
   "id": "ba93be5d-1a99-47f4-a090-543fd8a4838a",
   "metadata": {},
   "outputs": [
    {
     "data": {
      "text/plain": [
       "pyarrow.Table\n",
       "text: string\n",
       "label: int64\n",
       "input_ids: list<item: int32>\n",
       "  child 0, item: int32\n",
       "attention_mask: list<item: int8>\n",
       "  child 0, item: int8\n",
       "----\n",
       "text: [[\"I have to say, when \"Pushing Daisies\" came out I was immediately won out by the fairy-tale like setting of such grimness. The narrator made a cake out of the whole ordeal by making death seem as routine as, well, Ned (Lee Pace) baking pies. And that bringing them back to life was just as routine.<br /><br />The trio of Ned, Emerson Cod (Chi McBride) and Charlotte \"Chuck\" Charles (Anna Friel), plus sometimes-sidekick Olive Snook (Kristin Chenoweth, who made the musical Wicked such a delight) made for some fantastic dialogue and silliness. It definitely deserves the title of a (romantic) comedy/drama.<br /><br />Ned and Chuck made for a shy and not-quite-ready-for-love couple who are still exploring their feelings even though they cannot touch - an obstacle that seems to be truly no obstacle with aids such as gloves, cellophane, and quirky schedules around the apartment. But despite the awkwardness presented as they work their feelings around a strange secret which only a few know, they still manage to show their on screen chemistry in touching scenes like when Ned gives Chuck the beehives. The presence of Olive, though, makes for some break-out-in-song moments in the pie shop and unforeseen complications for the couple.<br /><br />Second season sharply declined, putting a damper on a show that had real potential. On some of the episodes, the plot line was rushed and awkward, making you ask \"what just happened?\" in both the overall dead-person-of-the-week plot and in the overriding plot line. The addition of Chuck's father plus two half-brothers for Ned didn't help, and at least one of the plot lines felt almost recycled (didn't the episode \"Comfort Food\" feel like the episode \"Bitter Sweets\" in the fact that the dead-person-of-the-week died in food?). A few touching moments (the beehives) happened to help advance the relationship between Chuck and Ned, but every time they got close, the writers decided to throw in another monkey wrench rather than let the relation develop (Oliver comes back from the monastery, Chuck's dead father comes back to life and doesn't go back, you get the picture).<br /><br />Shame it didn't work out, but the concept was good and seemed surreal in a good way, just enough Pleasantvillesque color/happy-smiley going on and implausible scenarios to remind you that it's not \"Dead Like Me.\" Then again, it's in \"Pushing Daisies time,\" according to Creator Bryan Fuller, so it makes it plausible again.<br /><br />It should have lasted longer, but it's merely wistful thinking at this point. Kudos to whatever new show attempts to replace this short-lived gem.\"]]\n",
       "label: [[1]]\n",
       "input_ids: [[[101,1045,2031,2000,2360,...,7987,1013,1028,9467,102]]]\n",
       "attention_mask: [[[1,1,1,1,1,...,1,1,1,1,1]]]"
      ]
     },
     "execution_count": 32,
     "metadata": {},
     "output_type": "execute_result"
    }
   ],
   "source": [
    "test_data.fast_gather([0])"
   ]
  },
  {
   "cell_type": "code",
   "execution_count": 33,
   "id": "eb0661b2-4dc1-454e-873a-9396afade513",
   "metadata": {
    "scrolled": true
   },
   "outputs": [
    {
     "data": {
      "text/plain": [
       "pyarrow.Table\n",
       "text: string\n",
       "label: int64\n",
       "input_ids: list<item: int32>\n",
       "  child 0, item: int32\n",
       "attention_mask: list<item: int8>\n",
       "  child 0, item: int8\n",
       "----\n",
       "text: [[\"The story for Hare Rama Hare Krishna actually came to Dev Anand's mind when he saw hippies and their fallen values in Kathmandu where he was on a visit after the protests against his previous Prem Pujari in Calcutta. He was low in spirits because his film had been opposed and some had burnt Prem Pujari's posters. But the life of hippies re ignited a story in Dev's mind to be made into a film.<br /><br />This was Dev Anand's perhaps best directorial effort. The film was a blockbuster super hit at the box office and Zeenat Aman as Dev's sister made a tremendous impact.<br /><br />This film was Dev Anand's call to the nation to keep up their moral values.<br /><br />It is about a Montereal based Indian family and the brother's role is a very affectionate one for his sister. But the parents quarrel and separate leaving Prashant(Dev) with mother and Jasbir(Zeenat) with father. She is repeatedly told that her mother and brother are dead and she eventually believes that she will never see Prashant again.<br /><br />She is ill treated by her step mother and she runs away from home. Dev grows up to be a pilot and he learns that Jasbir is in Kathmandu with certain hippies.<br /><br />To reunite with his sister, Dev travels to Kathmandu and meets Shanti(Mumtaz) who was to later marry him and also Janice who in reality is Jasbir with a new name and new identity. She has forgotten her childhood and Dev too.<br /><br />Dev has to get his sister back amongst all other happenings which include his being suspected as a thief in Kathmandu and the people are after his life.<br /><br />This was a story well directed and acted-both by Dev Anand. We see more of Zeenat Aman than of Mumtaz. But the music by Rahul Dev Burman was well composed. Dev had first offered the music to be composed by Sachin Dev Burman but Burman Da did not want Dev to do the film. He was very close to Dev and his earlier film Prem Pujari, though was good, but had been opposed in Calcutta. Burman Da wanted Dev to try a lighter subject as he thought hippie cultist film might reignite people's anger against Dev. But Dev continued with the film reassuring Burman Da and the film was indeed a success.<br /><br />R D Burman had Asha Bhosle sing the award winning Dum Maro Dum. Kanchi re Kanchi re was another good number.<br /><br />Overall it is a good film.\"]]\n",
       "label: [[1]]\n",
       "input_ids: [[[101,1996,2466,2005,14263,...,8754,2923,2143,2453,102]]]\n",
       "attention_mask: [[[1,1,1,1,1,...,1,1,1,1,1]]]"
      ]
     },
     "execution_count": 33,
     "metadata": {},
     "output_type": "execute_result"
    }
   ],
   "source": [
    "sample = test_data.fast_gather([9999])\n",
    "sample"
   ]
  },
  {
   "cell_type": "code",
   "execution_count": 34,
   "id": "2dd5058e-efa2-478f-85bd-7364673311a0",
   "metadata": {},
   "outputs": [
    {
     "data": {
      "text/plain": [
       "3.7312192916870117"
      ]
     },
     "execution_count": 34,
     "metadata": {},
     "output_type": "execute_result"
    }
   ],
   "source": [
    "sample.get_total_buffer_size()/(1024*1024)"
   ]
  },
  {
   "cell_type": "code",
   "execution_count": 35,
   "id": "368519ff-61c2-47cb-9048-71bd348ed269",
   "metadata": {
    "scrolled": true
   },
   "outputs": [
    {
     "data": {
      "text/plain": [
       "<pyarrow.lib.ChunkedArray object at 0x79a036be90c0>\n",
       "[\n",
       "  [\n",
       "    [\n",
       "      101,\n",
       "      1996,\n",
       "      2466,\n",
       "      2005,\n",
       "      14263,\n",
       "      ...\n",
       "      8754,\n",
       "      2923,\n",
       "      2143,\n",
       "      2453,\n",
       "      102\n",
       "    ]\n",
       "  ]\n",
       "]"
      ]
     },
     "execution_count": 35,
     "metadata": {},
     "output_type": "execute_result"
    }
   ],
   "source": [
    "sample.column('input_ids')"
   ]
  },
  {
   "cell_type": "code",
   "execution_count": 36,
   "id": "55ab26c7-59c2-448e-bfb6-9bfddf04bf35",
   "metadata": {
    "scrolled": true
   },
   "outputs": [
    {
     "data": {
      "text/plain": [
       "<pyarrow.lib.ChunkedArray object at 0x79a036be9480>\n",
       "[\n",
       "  [\n",
       "    [\n",
       "      1,\n",
       "      1,\n",
       "      1,\n",
       "      1,\n",
       "      1,\n",
       "      ...\n",
       "      1,\n",
       "      1,\n",
       "      1,\n",
       "      1,\n",
       "      1\n",
       "    ]\n",
       "  ]\n",
       "]"
      ]
     },
     "execution_count": 36,
     "metadata": {},
     "output_type": "execute_result"
    }
   ],
   "source": [
    "sample_column = sample.column('attention_mask')\n",
    "sample_column"
   ]
  },
  {
   "cell_type": "code",
   "execution_count": 37,
   "id": "9d3b67ca-37d1-4b32-9eee-bf639b4f2254",
   "metadata": {
    "scrolled": true
   },
   "outputs": [
    {
     "data": {
      "text/plain": [
       "array([array([1, 1, 1, 1, 1, 1, 1, 1, 1, 1, 1, 1, 1, 1, 1, 1, 1, 1, 1, 1, 1, 1,\n",
       "              1, 1, 1, 1, 1, 1, 1, 1, 1, 1, 1, 1, 1, 1, 1, 1, 1, 1, 1, 1, 1, 1,\n",
       "              1, 1, 1, 1, 1, 1, 1, 1, 1, 1, 1, 1, 1, 1, 1, 1, 1, 1, 1, 1, 1, 1,\n",
       "              1, 1, 1, 1, 1, 1, 1, 1, 1, 1, 1, 1, 1, 1, 1, 1, 1, 1, 1, 1, 1, 1,\n",
       "              1, 1, 1, 1, 1, 1, 1, 1, 1, 1, 1, 1, 1, 1, 1, 1, 1, 1, 1, 1, 1, 1,\n",
       "              1, 1, 1, 1, 1, 1, 1, 1, 1, 1, 1, 1, 1, 1, 1, 1, 1, 1, 1, 1, 1, 1,\n",
       "              1, 1, 1, 1, 1, 1, 1, 1, 1, 1, 1, 1, 1, 1, 1, 1, 1, 1, 1, 1, 1, 1,\n",
       "              1, 1, 1, 1, 1, 1, 1, 1, 1, 1, 1, 1, 1, 1, 1, 1, 1, 1, 1, 1, 1, 1,\n",
       "              1, 1, 1, 1, 1, 1, 1, 1, 1, 1, 1, 1, 1, 1, 1, 1, 1, 1, 1, 1, 1, 1,\n",
       "              1, 1, 1, 1, 1, 1, 1, 1, 1, 1, 1, 1, 1, 1, 1, 1, 1, 1, 1, 1, 1, 1,\n",
       "              1, 1, 1, 1, 1, 1, 1, 1, 1, 1, 1, 1, 1, 1, 1, 1, 1, 1, 1, 1, 1, 1,\n",
       "              1, 1, 1, 1, 1, 1, 1, 1, 1, 1, 1, 1, 1, 1, 1, 1, 1, 1, 1, 1, 1, 1,\n",
       "              1, 1, 1, 1, 1, 1, 1, 1, 1, 1, 1, 1, 1, 1, 1, 1, 1, 1, 1, 1, 1, 1,\n",
       "              1, 1, 1, 1, 1, 1, 1, 1, 1, 1, 1, 1, 1, 1, 1, 1, 1, 1, 1, 1, 1, 1,\n",
       "              1, 1, 1, 1, 1, 1, 1, 1, 1, 1, 1, 1, 1, 1, 1, 1, 1, 1, 1, 1, 1, 1,\n",
       "              1, 1, 1, 1, 1, 1, 1, 1, 1, 1, 1, 1, 1, 1, 1, 1, 1, 1, 1, 1, 1, 1,\n",
       "              1, 1, 1, 1, 1, 1, 1, 1, 1, 1, 1, 1, 1, 1, 1, 1, 1, 1, 1, 1, 1, 1,\n",
       "              1, 1, 1, 1, 1, 1, 1, 1, 1, 1, 1, 1, 1, 1, 1, 1, 1, 1, 1, 1, 1, 1,\n",
       "              1, 1, 1, 1, 1, 1, 1, 1, 1, 1, 1, 1, 1, 1, 1, 1, 1, 1, 1, 1, 1, 1,\n",
       "              1, 1, 1, 1, 1, 1, 1, 1, 1, 1, 1, 1, 1, 1, 1, 1, 1, 1, 1, 1, 1, 1,\n",
       "              1, 1, 1, 1, 1, 1, 1, 1, 1, 1, 1, 1, 1, 1, 1, 1, 1, 1, 1, 1, 1, 1,\n",
       "              1, 1, 1, 1, 1, 1, 1, 1, 1, 1, 1, 1, 1, 1, 1, 1, 1, 1, 1, 1, 1, 1,\n",
       "              1, 1, 1, 1, 1, 1, 1, 1, 1, 1, 1, 1, 1, 1, 1, 1, 1, 1, 1, 1, 1, 1,\n",
       "              1, 1, 1, 1, 1, 1], dtype=int8)                                   ],\n",
       "      dtype=object)"
      ]
     },
     "execution_count": 37,
     "metadata": {},
     "output_type": "execute_result"
    }
   ],
   "source": [
    "sample_column.to_numpy()"
   ]
  },
  {
   "cell_type": "code",
   "execution_count": 38,
   "id": "e5ddb511-79d2-4511-b2d5-e85d6464c888",
   "metadata": {},
   "outputs": [
    {
     "data": {
      "text/plain": [
       "(512,)"
      ]
     },
     "execution_count": 38,
     "metadata": {},
     "output_type": "execute_result"
    }
   ],
   "source": [
    "sample_column.to_numpy()[0].shape"
   ]
  },
  {
   "cell_type": "code",
   "execution_count": 39,
   "id": "a61500ee-49b6-459d-80c1-1bfa9b448c95",
   "metadata": {},
   "outputs": [
    {
     "data": {
      "text/plain": [
       "pyarrow.Table\n",
       "text: string\n",
       "label: int64\n",
       "input_ids: list<item: int32>\n",
       "  child 0, item: int32\n",
       "attention_mask: list<item: int8>\n",
       "  child 0, item: int8\n",
       "----\n",
       "text: [[\"I was hoping to like this movie, to settle in for an evening of goofy fun. I like Judy Davis and Juliette Lewis, and the premise seemed off the wall enough to be entertaining.<br /><br />Unfortunately, I found myself dozing over and over again. Judy Davis gave a fine performance, but had very little to work with. Juliette Lewis was fabulous as expected, but had very little to do. The plot was full of \"twists\" that were just plain silly, and as so often happens in movies of this type, nobody acted the way a real human being would act. And, personally, I thought Marcia Gay Harden was totally miscast.<br /><br />The movie also seemed to shift about midway from a black comedy with touches of farce to a total farce with touches of black comedy. One reviewer here notes that other reviews seem to want this movie to be something different, and therefore decried it. All I can say is that I would have settled for the movie being *something* and sticking with it. This one feels like the director had some grandiose ideas but wasn't able to pull them all off. I give it a 4 out of 10.\"]]\n",
       "label: [[0]]\n",
       "input_ids: [[[101,1045,2001,5327,2000,...,0,0,0,0,0]]]\n",
       "attention_mask: [[[1,1,1,1,1,...,0,0,0,0,0]]]"
      ]
     },
     "execution_count": 39,
     "metadata": {},
     "output_type": "execute_result"
    }
   ],
   "source": [
    "sample2 = test_data.fast_gather([100])\n",
    "sample2"
   ]
  },
  {
   "cell_type": "code",
   "execution_count": 40,
   "id": "f7601542-8095-4bbb-9cbd-33baa8405432",
   "metadata": {},
   "outputs": [],
   "source": [
    "sample2_column1 = sample2.column('input_ids').to_numpy()[0]\n",
    "sample2_column2 = sample2.column('attention_mask').to_numpy()[0]"
   ]
  },
  {
   "cell_type": "code",
   "execution_count": 41,
   "id": "7467f8e7-f676-44bc-8d59-b2c1f6b49636",
   "metadata": {
    "scrolled": true
   },
   "outputs": [
    {
     "data": {
      "text/plain": [
       "array([  101,  1045,  2001,  5327,  2000,  2066,  2023,  3185,  1010,\n",
       "        2000,  7392,  1999,  2005,  2019,  3944,  1997, 27243,  4569,\n",
       "        1012,  1045,  2066, 12120,  4482,  1998, 24696,  4572,  1010,\n",
       "        1998,  1996, 18458,  2790,  2125,  1996,  2813,  2438,  2000,\n",
       "        2022, 14036,  1012,  1026,  7987,  1013,  1028,  1026,  7987,\n",
       "        1013,  1028,  6854,  1010,  1045,  2179,  2870,  2079,  6774,\n",
       "        2058,  1998,  2058,  2153,  1012, 12120,  4482,  2435,  1037,\n",
       "        2986,  2836,  1010,  2021,  2018,  2200,  2210,  2000,  2147,\n",
       "        2007,  1012, 24696,  4572,  2001, 18783,  2004,  3517,  1010,\n",
       "        2021,  2018,  2200,  2210,  2000,  2079,  1012,  1996,  5436,\n",
       "        2001,  2440,  1997,  1000, 21438,  1000,  2008,  2020,  2074,\n",
       "        5810, 10021,  1010,  1998,  2004,  2061,  2411,  6433,  1999,\n",
       "        5691,  1997,  2023,  2828,  1010,  6343,  6051,  1996,  2126,\n",
       "        1037,  2613,  2529,  2108,  2052,  2552,  1012,  1998,  1010,\n",
       "        7714,  1010,  1045,  2245, 22548,  5637, 28751,  2001,  6135,\n",
       "       28616, 10526,  1012,  1026,  7987,  1013,  1028,  1026,  7987,\n",
       "        1013,  1028,  1996,  3185,  2036,  2790,  2000,  5670,  2055,\n",
       "       12213,  2013,  1037,  2304,  4038,  2007, 12817,  1997,  2521,\n",
       "        3401,  2000,  1037,  2561,  2521,  3401,  2007, 12817,  1997,\n",
       "        2304,  4038,  1012,  2028, 12027,  2182,  3964,  2008,  2060,\n",
       "        4391,  4025,  2000,  2215,  2023,  3185,  2000,  2022,  2242,\n",
       "        2367,  1010,  1998,  3568, 11703, 11998,  2009,  1012,  2035,\n",
       "        1045,  2064,  2360,  2003,  2008,  1045,  2052,  2031,  3876,\n",
       "        2005,  1996,  3185,  2108,  1008,  2242,  1008,  1998, 13423,\n",
       "        2007,  2009,  1012,  2023,  2028,  5683,  2066,  1996,  2472,\n",
       "        2018,  2070,  2882, 10735,  2063,  4784,  2021,  2347,  1005,\n",
       "        1056,  2583,  2000,  4139,  2068,  2035,  2125,  1012,  1045,\n",
       "        2507,  2009,  1037,  1018,  2041,  1997,  2184,  1012,   102,\n",
       "           0,     0,     0,     0,     0,     0,     0,     0,     0,\n",
       "           0,     0,     0,     0,     0,     0,     0,     0,     0,\n",
       "           0,     0,     0,     0,     0,     0,     0,     0,     0,\n",
       "           0,     0,     0,     0,     0,     0,     0,     0,     0,\n",
       "           0,     0,     0,     0,     0,     0,     0,     0,     0,\n",
       "           0,     0,     0,     0,     0,     0,     0,     0,     0,\n",
       "           0,     0,     0,     0,     0,     0,     0,     0,     0,\n",
       "           0,     0,     0,     0,     0,     0,     0,     0,     0,\n",
       "           0,     0,     0,     0,     0,     0,     0,     0,     0,\n",
       "           0,     0,     0,     0,     0,     0,     0,     0,     0,\n",
       "           0,     0,     0,     0,     0,     0,     0,     0,     0,\n",
       "           0,     0,     0,     0,     0,     0,     0,     0,     0,\n",
       "           0,     0,     0,     0,     0,     0,     0,     0,     0,\n",
       "           0,     0,     0,     0,     0,     0,     0,     0,     0,\n",
       "           0,     0,     0,     0,     0,     0,     0,     0,     0,\n",
       "           0,     0,     0,     0,     0,     0,     0,     0,     0,\n",
       "           0,     0,     0,     0,     0,     0,     0,     0,     0,\n",
       "           0,     0,     0,     0,     0,     0,     0,     0,     0,\n",
       "           0,     0,     0,     0,     0,     0,     0,     0,     0,\n",
       "           0,     0,     0,     0,     0,     0,     0,     0,     0,\n",
       "           0,     0,     0,     0,     0,     0,     0,     0,     0,\n",
       "           0,     0,     0,     0,     0,     0,     0,     0,     0,\n",
       "           0,     0,     0,     0,     0,     0,     0,     0,     0,\n",
       "           0,     0,     0,     0,     0,     0,     0,     0,     0,\n",
       "           0,     0,     0,     0,     0,     0,     0,     0,     0,\n",
       "           0,     0,     0,     0,     0,     0,     0,     0,     0,\n",
       "           0,     0,     0,     0,     0,     0,     0,     0,     0,\n",
       "           0,     0,     0,     0,     0,     0,     0,     0,     0,\n",
       "           0,     0,     0,     0,     0,     0,     0,     0],\n",
       "      dtype=int32)"
      ]
     },
     "execution_count": 41,
     "metadata": {},
     "output_type": "execute_result"
    }
   ],
   "source": [
    "sample2_column1"
   ]
  },
  {
   "cell_type": "code",
   "execution_count": 42,
   "id": "53fd3458-4278-4a78-9b36-125a4223b0d7",
   "metadata": {
    "scrolled": true
   },
   "outputs": [
    {
     "data": {
      "text/plain": [
       "array([1, 1, 1, 1, 1, 1, 1, 1, 1, 1, 1, 1, 1, 1, 1, 1, 1, 1, 1, 1, 1, 1,\n",
       "       1, 1, 1, 1, 1, 1, 1, 1, 1, 1, 1, 1, 1, 1, 1, 1, 1, 1, 1, 1, 1, 1,\n",
       "       1, 1, 1, 1, 1, 1, 1, 1, 1, 1, 1, 1, 1, 1, 1, 1, 1, 1, 1, 1, 1, 1,\n",
       "       1, 1, 1, 1, 1, 1, 1, 1, 1, 1, 1, 1, 1, 1, 1, 1, 1, 1, 1, 1, 1, 1,\n",
       "       1, 1, 1, 1, 1, 1, 1, 1, 1, 1, 1, 1, 1, 1, 1, 1, 1, 1, 1, 1, 1, 1,\n",
       "       1, 1, 1, 1, 1, 1, 1, 1, 1, 1, 1, 1, 1, 1, 1, 1, 1, 1, 1, 1, 1, 1,\n",
       "       1, 1, 1, 1, 1, 1, 1, 1, 1, 1, 1, 1, 1, 1, 1, 1, 1, 1, 1, 1, 1, 1,\n",
       "       1, 1, 1, 1, 1, 1, 1, 1, 1, 1, 1, 1, 1, 1, 1, 1, 1, 1, 1, 1, 1, 1,\n",
       "       1, 1, 1, 1, 1, 1, 1, 1, 1, 1, 1, 1, 1, 1, 1, 1, 1, 1, 1, 1, 1, 1,\n",
       "       1, 1, 1, 1, 1, 1, 1, 1, 1, 1, 1, 1, 1, 1, 1, 1, 1, 1, 1, 1, 1, 1,\n",
       "       1, 1, 1, 1, 1, 1, 1, 1, 1, 1, 1, 1, 1, 1, 1, 1, 1, 1, 1, 1, 1, 1,\n",
       "       1, 1, 1, 1, 1, 1, 1, 1, 1, 1, 0, 0, 0, 0, 0, 0, 0, 0, 0, 0, 0, 0,\n",
       "       0, 0, 0, 0, 0, 0, 0, 0, 0, 0, 0, 0, 0, 0, 0, 0, 0, 0, 0, 0, 0, 0,\n",
       "       0, 0, 0, 0, 0, 0, 0, 0, 0, 0, 0, 0, 0, 0, 0, 0, 0, 0, 0, 0, 0, 0,\n",
       "       0, 0, 0, 0, 0, 0, 0, 0, 0, 0, 0, 0, 0, 0, 0, 0, 0, 0, 0, 0, 0, 0,\n",
       "       0, 0, 0, 0, 0, 0, 0, 0, 0, 0, 0, 0, 0, 0, 0, 0, 0, 0, 0, 0, 0, 0,\n",
       "       0, 0, 0, 0, 0, 0, 0, 0, 0, 0, 0, 0, 0, 0, 0, 0, 0, 0, 0, 0, 0, 0,\n",
       "       0, 0, 0, 0, 0, 0, 0, 0, 0, 0, 0, 0, 0, 0, 0, 0, 0, 0, 0, 0, 0, 0,\n",
       "       0, 0, 0, 0, 0, 0, 0, 0, 0, 0, 0, 0, 0, 0, 0, 0, 0, 0, 0, 0, 0, 0,\n",
       "       0, 0, 0, 0, 0, 0, 0, 0, 0, 0, 0, 0, 0, 0, 0, 0, 0, 0, 0, 0, 0, 0,\n",
       "       0, 0, 0, 0, 0, 0, 0, 0, 0, 0, 0, 0, 0, 0, 0, 0, 0, 0, 0, 0, 0, 0,\n",
       "       0, 0, 0, 0, 0, 0, 0, 0, 0, 0, 0, 0, 0, 0, 0, 0, 0, 0, 0, 0, 0, 0,\n",
       "       0, 0, 0, 0, 0, 0, 0, 0, 0, 0, 0, 0, 0, 0, 0, 0, 0, 0, 0, 0, 0, 0,\n",
       "       0, 0, 0, 0, 0, 0], dtype=int8)"
      ]
     },
     "execution_count": 42,
     "metadata": {},
     "output_type": "execute_result"
    }
   ],
   "source": [
    "sample2_column2"
   ]
  },
  {
   "cell_type": "code",
   "execution_count": 43,
   "id": "54587b39-baa4-4c5b-82d5-8576f3c9268d",
   "metadata": {},
   "outputs": [
    {
     "data": {
      "text/plain": [
       "252"
      ]
     },
     "execution_count": 43,
     "metadata": {},
     "output_type": "execute_result"
    }
   ],
   "source": [
    "sample2_column1[sample2_column1 != 0].size"
   ]
  },
  {
   "cell_type": "code",
   "execution_count": 44,
   "id": "b0d8a602-281b-46d3-b8ab-e8c27c6d5542",
   "metadata": {},
   "outputs": [
    {
     "data": {
      "text/plain": [
       "252"
      ]
     },
     "execution_count": 44,
     "metadata": {},
     "output_type": "execute_result"
    }
   ],
   "source": [
    "sample2_column2[sample2_column2 != 0].size"
   ]
  },
  {
   "cell_type": "code",
   "execution_count": 45,
   "id": "87664f78-f931-46c5-bd7e-5cbebaf2fb29",
   "metadata": {},
   "outputs": [
    {
     "data": {
      "text/plain": [
       "array([  101,  1045,  2001,  5327,  2000,  2066,  2023,  3185,  1010,\n",
       "        2000,  7392,  1999,  2005,  2019,  3944,  1997, 27243,  4569,\n",
       "        1012,  1045,  2066, 12120,  4482,  1998, 24696,  4572,  1010,\n",
       "        1998,  1996, 18458,  2790,  2125,  1996,  2813,  2438,  2000,\n",
       "        2022, 14036,  1012,  1026,  7987,  1013,  1028,  1026,  7987,\n",
       "        1013,  1028,  6854,  1010,  1045,  2179,  2870,  2079,  6774,\n",
       "        2058,  1998,  2058,  2153,  1012, 12120,  4482,  2435,  1037,\n",
       "        2986,  2836,  1010,  2021,  2018,  2200,  2210,  2000,  2147,\n",
       "        2007,  1012, 24696,  4572,  2001, 18783,  2004,  3517,  1010,\n",
       "        2021,  2018,  2200,  2210,  2000,  2079,  1012,  1996,  5436,\n",
       "        2001,  2440,  1997,  1000, 21438,  1000,  2008,  2020,  2074,\n",
       "        5810, 10021,  1010,  1998,  2004,  2061,  2411,  6433,  1999,\n",
       "        5691,  1997,  2023,  2828,  1010,  6343,  6051,  1996,  2126,\n",
       "        1037,  2613,  2529,  2108,  2052,  2552,  1012,  1998,  1010,\n",
       "        7714,  1010,  1045,  2245, 22548,  5637, 28751,  2001,  6135,\n",
       "       28616, 10526,  1012,  1026,  7987,  1013,  1028,  1026,  7987,\n",
       "        1013,  1028,  1996,  3185,  2036,  2790,  2000,  5670,  2055,\n",
       "       12213,  2013,  1037,  2304,  4038,  2007, 12817,  1997,  2521,\n",
       "        3401,  2000,  1037,  2561,  2521,  3401,  2007, 12817,  1997,\n",
       "        2304,  4038,  1012,  2028, 12027,  2182,  3964,  2008,  2060,\n",
       "        4391,  4025,  2000,  2215,  2023,  3185,  2000,  2022,  2242,\n",
       "        2367,  1010,  1998,  3568, 11703, 11998,  2009,  1012,  2035,\n",
       "        1045,  2064,  2360,  2003,  2008,  1045,  2052,  2031,  3876,\n",
       "        2005,  1996,  3185,  2108,  1008,  2242,  1008,  1998, 13423,\n",
       "        2007,  2009,  1012,  2023,  2028,  5683,  2066,  1996,  2472,\n",
       "        2018,  2070,  2882, 10735,  2063,  4784,  2021,  2347,  1005,\n",
       "        1056,  2583,  2000,  4139,  2068,  2035,  2125,  1012,  1045,\n",
       "        2507,  2009,  1037,  1018,  2041,  1997,  2184,  1012,   102],\n",
       "      dtype=int32)"
      ]
     },
     "execution_count": 45,
     "metadata": {},
     "output_type": "execute_result"
    }
   ],
   "source": [
    "sample2_column1[sample2_column2 != 0]"
   ]
  },
  {
   "cell_type": "markdown",
   "id": "9a2cd5cd-610a-4467-b075-4594dc742e80",
   "metadata": {},
   "source": [
    "#### NOTE\n",
    "\n",
    "* Each token is given an attention value of 1 in the tokenized data\n",
    "* The padded values are given 0\n",
    "* The tokenized data is stored in pyarrow format"
   ]
  },
  {
   "cell_type": "code",
   "execution_count": 46,
   "id": "58297e44-74cf-4858-b51d-ccd466ed1503",
   "metadata": {},
   "outputs": [
    {
     "data": {
      "text/plain": [
       "datasets.dataset_dict.DatasetDict"
      ]
     },
     "execution_count": 46,
     "metadata": {},
     "output_type": "execute_result"
    }
   ],
   "source": [
    "type(imdb_tokens)"
   ]
  },
  {
   "cell_type": "code",
   "execution_count": 47,
   "id": "b669e54e-e62b-428f-b9fa-697f203dc9f3",
   "metadata": {},
   "outputs": [],
   "source": [
    "os.environ[\"TOKENIZERS_PARALLELISM\"] = \"false\"\n",
    "# not sure what this is for"
   ]
  },
  {
   "cell_type": "markdown",
   "id": "0230a1ba-1284-4f56-af00-012506ed6baf",
   "metadata": {},
   "source": [
    "# DataLoader for training"
   ]
  },
  {
   "cell_type": "code",
   "execution_count": 48,
   "id": "118a9035-a25e-486c-8ef0-9c357480218c",
   "metadata": {},
   "outputs": [],
   "source": [
    "from torch.utils.data import DataLoader, Dataset"
   ]
  },
  {
   "cell_type": "markdown",
   "id": "c804a761-ec18-4f96-b21e-148533183faa",
   "metadata": {},
   "source": [
    "## First: Dataset creation"
   ]
  },
  {
   "cell_type": "code",
   "execution_count": 49,
   "id": "afb48dd0-bd47-43e5-8d7d-66bf59280c10",
   "metadata": {},
   "outputs": [],
   "source": [
    "from datasets.dataset_dict import DatasetDict"
   ]
  },
  {
   "cell_type": "code",
   "execution_count": 50,
   "id": "f36d674a-33b2-4f57-9c7c-58645a9dd716",
   "metadata": {},
   "outputs": [],
   "source": [
    "class IMDBDataset(Dataset):\n",
    "\n",
    "    def __init__(self, huggingface_dataset_dict: DatasetDict, partition: str):\n",
    "\n",
    "        super().__init__()        \n",
    "        self.partition = huggingface_dataset_dict[partition]\n",
    "\n",
    "    def __getitem__(self, index):\n",
    "        \n",
    "        return self.partition[index]\n",
    "\n",
    "    def __len__(self):\n",
    "        \n",
    "        return self.partition.num_rows"
   ]
  },
  {
   "cell_type": "code",
   "execution_count": 51,
   "id": "a19da2e0-e38d-4d6a-8d67-b631d5ff5918",
   "metadata": {},
   "outputs": [
    {
     "data": {
      "text/plain": [
       "dict_keys(['train', 'test', 'val'])"
      ]
     },
     "execution_count": 51,
     "metadata": {},
     "output_type": "execute_result"
    }
   ],
   "source": [
    "imdb_tokens.keys()"
   ]
  },
  {
   "cell_type": "code",
   "execution_count": 52,
   "id": "73d14f71-2f39-48fd-88fa-07169e6dbc71",
   "metadata": {},
   "outputs": [],
   "source": [
    "train_dataset = IMDBDataset(imdb_tokens, \"train\")\n",
    "val_dataset = IMDBDataset(imdb_tokens, \"val\")\n",
    "test_dataset = IMDBDataset(imdb_tokens, \"test\")"
   ]
  },
  {
   "cell_type": "code",
   "execution_count": 53,
   "id": "50f97b8e-aedb-4815-8390-017684d4a5bf",
   "metadata": {},
   "outputs": [],
   "source": [
    "import sys"
   ]
  },
  {
   "cell_type": "code",
   "execution_count": 54,
   "id": "d0ff356e-bafb-417c-838d-97ca58a7faf3",
   "metadata": {},
   "outputs": [
    {
     "data": {
      "text/plain": [
       "56"
      ]
     },
     "execution_count": 54,
     "metadata": {},
     "output_type": "execute_result"
    }
   ],
   "source": [
    "sys.getsizeof(train_dataset)"
   ]
  },
  {
   "cell_type": "code",
   "execution_count": 55,
   "id": "9d37d77e-51c8-4482-96fd-90d9621ea989",
   "metadata": {},
   "outputs": [
    {
     "data": {
      "text/plain": [
       "208"
      ]
     },
     "execution_count": 55,
     "metadata": {},
     "output_type": "execute_result"
    }
   ],
   "source": [
    "sys.getsizeof(imdb_tokens)"
   ]
  },
  {
   "cell_type": "markdown",
   "id": "ed70c85a-3887-4d02-a40c-2d0fdc470389",
   "metadata": {},
   "source": [
    "#### NOTE\n",
    "* Clearing, the torch Datasets and hc Datasets are stored in the disk and not in memory"
   ]
  },
  {
   "cell_type": "markdown",
   "id": "85d8ae6b-15d7-4aa5-92ac-5339ea92fc2d",
   "metadata": {},
   "source": [
    "## Second: Dataloaders"
   ]
  },
  {
   "cell_type": "code",
   "execution_count": 56,
   "id": "bb71b3eb-5619-4699-877a-bb14d999c67f",
   "metadata": {},
   "outputs": [],
   "source": [
    "batch_size = 16"
   ]
  },
  {
   "cell_type": "markdown",
   "id": "c088049c-adef-457f-868d-d0d7970ac542",
   "metadata": {},
   "source": [
    "#### Question\n",
    "* Why 12?"
   ]
  },
  {
   "cell_type": "code",
   "execution_count": 57,
   "id": "caa9c56d-873d-40d5-8ba2-4b06244693bd",
   "metadata": {},
   "outputs": [],
   "source": [
    "train_dataloader = DataLoader(train_dataset, \n",
    "                              shuffle=True, \n",
    "                              batch_size=batch_size, \n",
    "                              num_workers=4\n",
    "                             )"
   ]
  },
  {
   "cell_type": "code",
   "execution_count": 58,
   "id": "7de5a2a4-fa49-42aa-9ea3-3c13e73fba03",
   "metadata": {},
   "outputs": [],
   "source": [
    "val_dataloader = DataLoader(val_dataset, \n",
    "                            batch_size=batch_size, \n",
    "                            num_workers=4\n",
    "                           )"
   ]
  },
  {
   "cell_type": "code",
   "execution_count": 59,
   "id": "1bdfd3bd-d58e-49de-8e88-91b410c60af0",
   "metadata": {},
   "outputs": [],
   "source": [
    "test_dataloader = DataLoader(test_dataset, \n",
    "                             batch_size=batch_size, \n",
    "                             num_workers=4\n",
    "                            )"
   ]
  },
  {
   "cell_type": "code",
   "execution_count": null,
   "id": "8d8073fb-5ba1-463c-97ea-3094e1624523",
   "metadata": {},
   "outputs": [],
   "source": []
  },
  {
   "cell_type": "markdown",
   "id": "fa92be31-284a-4a51-94ba-811b78fd7cfe",
   "metadata": {},
   "source": [
    "# Initialising DistilBERT"
   ]
  },
  {
   "cell_type": "code",
   "execution_count": 60,
   "id": "07b79a9e-1ddf-4674-86c2-659486c82c56",
   "metadata": {},
   "outputs": [],
   "source": [
    "from transformers import AutoModelForSequenceClassification"
   ]
  },
  {
   "cell_type": "code",
   "execution_count": 61,
   "id": "33bd7a7e-8fef-487a-b173-be681b40d255",
   "metadata": {},
   "outputs": [
    {
     "data": {
      "text/plain": [
       "PosixPath('/media/skesava/D/Training/MachineLearning/ML datasets/IMDB_SentimentAnalysis_TextData/aclImdb/processed_data')"
      ]
     },
     "execution_count": 61,
     "metadata": {},
     "output_type": "execute_result"
    }
   ],
   "source": [
    "data_directory"
   ]
  },
  {
   "cell_type": "code",
   "execution_count": 62,
   "id": "6d8b68c4-0e17-4b92-b38f-35590ab88f1b",
   "metadata": {},
   "outputs": [],
   "source": [
    "model_directory = data_directory.parent.parent.parent.parent.joinpath(\"LLM_models\")\n",
    "if not model_directory.exists():\n",
    "    Path.mkdir(model_directory)"
   ]
  },
  {
   "cell_type": "code",
   "execution_count": 63,
   "id": "cc1e8c57-e264-48d2-a734-b7c196ed6357",
   "metadata": {},
   "outputs": [
    {
     "name": "stderr",
     "output_type": "stream",
     "text": [
      "Some weights of DistilBertForSequenceClassification were not initialized from the model checkpoint at distilbert-base-uncased and are newly initialized: ['classifier.bias', 'classifier.weight', 'pre_classifier.bias', 'pre_classifier.weight']\n",
      "You should probably TRAIN this model on a down-stream task to be able to use it for predictions and inference.\n"
     ]
    }
   ],
   "source": [
    "model = AutoModelForSequenceClassification.from_pretrained(\n",
    "    \"distilbert-base-uncased\", \n",
    "    cache_dir=model_directory,\n",
    "    num_labels=2\n",
    ")"
   ]
  },
  {
   "cell_type": "markdown",
   "id": "61be27e7-9570-46e0-be68-c1516944cf5c",
   "metadata": {},
   "source": [
    "## *Exploring the initialised model*"
   ]
  },
  {
   "cell_type": "code",
   "execution_count": 64,
   "id": "d2e28fea-1396-4611-97fc-65e7b5011fbd",
   "metadata": {},
   "outputs": [
    {
     "data": {
      "text/plain": [
       "DistilBertForSequenceClassification(\n",
       "  (distilbert): DistilBertModel(\n",
       "    (embeddings): Embeddings(\n",
       "      (word_embeddings): Embedding(30522, 768, padding_idx=0)\n",
       "      (position_embeddings): Embedding(512, 768)\n",
       "      (LayerNorm): LayerNorm((768,), eps=1e-12, elementwise_affine=True)\n",
       "      (dropout): Dropout(p=0.1, inplace=False)\n",
       "    )\n",
       "    (transformer): Transformer(\n",
       "      (layer): ModuleList(\n",
       "        (0-5): 6 x TransformerBlock(\n",
       "          (attention): DistilBertSdpaAttention(\n",
       "            (dropout): Dropout(p=0.1, inplace=False)\n",
       "            (q_lin): Linear(in_features=768, out_features=768, bias=True)\n",
       "            (k_lin): Linear(in_features=768, out_features=768, bias=True)\n",
       "            (v_lin): Linear(in_features=768, out_features=768, bias=True)\n",
       "            (out_lin): Linear(in_features=768, out_features=768, bias=True)\n",
       "          )\n",
       "          (sa_layer_norm): LayerNorm((768,), eps=1e-12, elementwise_affine=True)\n",
       "          (ffn): FFN(\n",
       "            (dropout): Dropout(p=0.1, inplace=False)\n",
       "            (lin1): Linear(in_features=768, out_features=3072, bias=True)\n",
       "            (lin2): Linear(in_features=3072, out_features=768, bias=True)\n",
       "            (activation): GELUActivation()\n",
       "          )\n",
       "          (output_layer_norm): LayerNorm((768,), eps=1e-12, elementwise_affine=True)\n",
       "        )\n",
       "      )\n",
       "    )\n",
       "  )\n",
       "  (pre_classifier): Linear(in_features=768, out_features=768, bias=True)\n",
       "  (classifier): Linear(in_features=768, out_features=2, bias=True)\n",
       "  (dropout): Dropout(p=0.2, inplace=False)\n",
       ")"
      ]
     },
     "execution_count": 64,
     "metadata": {},
     "output_type": "execute_result"
    }
   ],
   "source": [
    "model"
   ]
  },
  {
   "cell_type": "code",
   "execution_count": 79,
   "id": "798eb445-2c33-41ba-bd0a-e92f370e7ef3",
   "metadata": {},
   "outputs": [
    {
     "data": {
      "text/plain": [
       "transformers.models.distilbert.modeling_distilbert.DistilBertForSequenceClassification"
      ]
     },
     "execution_count": 79,
     "metadata": {},
     "output_type": "execute_result"
    }
   ],
   "source": [
    "type(model)"
   ]
  },
  {
   "cell_type": "code",
   "execution_count": 65,
   "id": "3b4475f7-ff7a-493a-bf44-59198dabf705",
   "metadata": {},
   "outputs": [
    {
     "data": {
      "text/plain": [
       "66955010"
      ]
     },
     "execution_count": 65,
     "metadata": {},
     "output_type": "execute_result"
    }
   ],
   "source": [
    "model.num_parameters()"
   ]
  },
  {
   "cell_type": "code",
   "execution_count": 66,
   "id": "df6a82cf-b702-47ab-a197-0fed1e46d9af",
   "metadata": {},
   "outputs": [
    {
     "data": {
      "text/plain": [
       "DistilBertModel(\n",
       "  (embeddings): Embeddings(\n",
       "    (word_embeddings): Embedding(30522, 768, padding_idx=0)\n",
       "    (position_embeddings): Embedding(512, 768)\n",
       "    (LayerNorm): LayerNorm((768,), eps=1e-12, elementwise_affine=True)\n",
       "    (dropout): Dropout(p=0.1, inplace=False)\n",
       "  )\n",
       "  (transformer): Transformer(\n",
       "    (layer): ModuleList(\n",
       "      (0-5): 6 x TransformerBlock(\n",
       "        (attention): DistilBertSdpaAttention(\n",
       "          (dropout): Dropout(p=0.1, inplace=False)\n",
       "          (q_lin): Linear(in_features=768, out_features=768, bias=True)\n",
       "          (k_lin): Linear(in_features=768, out_features=768, bias=True)\n",
       "          (v_lin): Linear(in_features=768, out_features=768, bias=True)\n",
       "          (out_lin): Linear(in_features=768, out_features=768, bias=True)\n",
       "        )\n",
       "        (sa_layer_norm): LayerNorm((768,), eps=1e-12, elementwise_affine=True)\n",
       "        (ffn): FFN(\n",
       "          (dropout): Dropout(p=0.1, inplace=False)\n",
       "          (lin1): Linear(in_features=768, out_features=3072, bias=True)\n",
       "          (lin2): Linear(in_features=3072, out_features=768, bias=True)\n",
       "          (activation): GELUActivation()\n",
       "        )\n",
       "        (output_layer_norm): LayerNorm((768,), eps=1e-12, elementwise_affine=True)\n",
       "      )\n",
       "    )\n",
       "  )\n",
       ")"
      ]
     },
     "execution_count": 66,
     "metadata": {},
     "output_type": "execute_result"
    }
   ],
   "source": [
    "model.base_model"
   ]
  },
  {
   "cell_type": "code",
   "execution_count": 67,
   "id": "9ab27e3d-489a-4879-a40f-2304f05fc272",
   "metadata": {},
   "outputs": [
    {
     "data": {
      "text/plain": [
       "'distilbert'"
      ]
     },
     "execution_count": 67,
     "metadata": {},
     "output_type": "execute_result"
    }
   ],
   "source": [
    "model.base_model_prefix"
   ]
  },
  {
   "cell_type": "code",
   "execution_count": 68,
   "id": "29364fb1-1f77-44e9-ab0e-f4472a4afd04",
   "metadata": {},
   "outputs": [
    {
     "data": {
      "text/plain": [
       "Linear(in_features=768, out_features=2, bias=True)"
      ]
     },
     "execution_count": 68,
     "metadata": {},
     "output_type": "execute_result"
    }
   ],
   "source": [
    "model.classifier"
   ]
  },
  {
   "cell_type": "code",
   "execution_count": 69,
   "id": "357006b4-c6b6-47d0-9e35-7f26b546f392",
   "metadata": {},
   "outputs": [
    {
     "data": {
      "text/plain": [
       "'distilbert-base-uncased'"
      ]
     },
     "execution_count": 69,
     "metadata": {},
     "output_type": "execute_result"
    }
   ],
   "source": [
    "model.name_or_path"
   ]
  },
  {
   "cell_type": "code",
   "execution_count": 70,
   "id": "423ba125-0e6e-4aaf-9201-df146be5639b",
   "metadata": {},
   "outputs": [
    {
     "data": {
      "text/plain": [
       "Linear(in_features=768, out_features=768, bias=True)"
      ]
     },
     "execution_count": 70,
     "metadata": {},
     "output_type": "execute_result"
    }
   ],
   "source": [
    "model.pre_classifier"
   ]
  },
  {
   "cell_type": "code",
   "execution_count": 71,
   "id": "b4ac2fb6-732a-42e8-8659-b7a99feb7b43",
   "metadata": {},
   "outputs": [
    {
     "data": {
      "text/plain": [
       "2"
      ]
     },
     "execution_count": 71,
     "metadata": {},
     "output_type": "execute_result"
    }
   ],
   "source": [
    "model.num_labels"
   ]
  },
  {
   "cell_type": "code",
   "execution_count": 72,
   "id": "5445d5c6-aa87-4800-8610-76196cebac8d",
   "metadata": {},
   "outputs": [
    {
     "data": {
      "text/plain": [
       "False"
      ]
     },
     "execution_count": 72,
     "metadata": {},
     "output_type": "execute_result"
    }
   ],
   "source": [
    "model.is_parallelizable"
   ]
  },
  {
   "cell_type": "code",
   "execution_count": 73,
   "id": "69f80944-d2d3-445c-89a6-6b1a2e79e9f2",
   "metadata": {},
   "outputs": [],
   "source": [
    "model.model_tags"
   ]
  },
  {
   "cell_type": "code",
   "execution_count": 74,
   "id": "1798a270-8436-4f66-b4ce-41fa3e776df9",
   "metadata": {},
   "outputs": [
    {
     "data": {
      "text/plain": [
       "'pt'"
      ]
     },
     "execution_count": 74,
     "metadata": {},
     "output_type": "execute_result"
    }
   ],
   "source": [
    "model.framework"
   ]
  },
  {
   "cell_type": "markdown",
   "id": "66b296cc-8d0c-408c-9dfe-132bd534e5a6",
   "metadata": {},
   "source": [
    "### Accessing Transformer layer"
   ]
  },
  {
   "cell_type": "code",
   "execution_count": 75,
   "id": "9290ad86-0810-4e8d-8966-e6e05c1a7424",
   "metadata": {},
   "outputs": [
    {
     "data": {
      "text/plain": [
       "ModuleList(\n",
       "  (0-5): 6 x TransformerBlock(\n",
       "    (attention): DistilBertSdpaAttention(\n",
       "      (dropout): Dropout(p=0.1, inplace=False)\n",
       "      (q_lin): Linear(in_features=768, out_features=768, bias=True)\n",
       "      (k_lin): Linear(in_features=768, out_features=768, bias=True)\n",
       "      (v_lin): Linear(in_features=768, out_features=768, bias=True)\n",
       "      (out_lin): Linear(in_features=768, out_features=768, bias=True)\n",
       "    )\n",
       "    (sa_layer_norm): LayerNorm((768,), eps=1e-12, elementwise_affine=True)\n",
       "    (ffn): FFN(\n",
       "      (dropout): Dropout(p=0.1, inplace=False)\n",
       "      (lin1): Linear(in_features=768, out_features=3072, bias=True)\n",
       "      (lin2): Linear(in_features=3072, out_features=768, bias=True)\n",
       "      (activation): GELUActivation()\n",
       "    )\n",
       "    (output_layer_norm): LayerNorm((768,), eps=1e-12, elementwise_affine=True)\n",
       "  )\n",
       ")"
      ]
     },
     "execution_count": 75,
     "metadata": {},
     "output_type": "execute_result"
    }
   ],
   "source": [
    "model.distilbert.transformer.layer"
   ]
  },
  {
   "cell_type": "code",
   "execution_count": 76,
   "id": "1bd50b83-d9f6-4ecf-91e9-9f682cd294a9",
   "metadata": {},
   "outputs": [
    {
     "data": {
      "text/plain": [
       "TransformerBlock(\n",
       "  (attention): DistilBertSdpaAttention(\n",
       "    (dropout): Dropout(p=0.1, inplace=False)\n",
       "    (q_lin): Linear(in_features=768, out_features=768, bias=True)\n",
       "    (k_lin): Linear(in_features=768, out_features=768, bias=True)\n",
       "    (v_lin): Linear(in_features=768, out_features=768, bias=True)\n",
       "    (out_lin): Linear(in_features=768, out_features=768, bias=True)\n",
       "  )\n",
       "  (sa_layer_norm): LayerNorm((768,), eps=1e-12, elementwise_affine=True)\n",
       "  (ffn): FFN(\n",
       "    (dropout): Dropout(p=0.1, inplace=False)\n",
       "    (lin1): Linear(in_features=768, out_features=3072, bias=True)\n",
       "    (lin2): Linear(in_features=3072, out_features=768, bias=True)\n",
       "    (activation): GELUActivation()\n",
       "  )\n",
       "  (output_layer_norm): LayerNorm((768,), eps=1e-12, elementwise_affine=True)\n",
       ")"
      ]
     },
     "execution_count": 76,
     "metadata": {},
     "output_type": "execute_result"
    }
   ],
   "source": [
    "model.distilbert.transformer.layer[0]"
   ]
  },
  {
   "cell_type": "markdown",
   "id": "09ae2cd3-13a4-41c0-930a-29b23c59c824",
   "metadata": {},
   "source": [
    "## Customise"
   ]
  },
  {
   "cell_type": "code",
   "execution_count": 77,
   "id": "34fccbe8-28c8-4c01-90b1-75bf94ddf071",
   "metadata": {},
   "outputs": [],
   "source": [
    "# freeze all layers\n",
    "for param in model.parameters():\n",
    "    param.requires_grad = False"
   ]
  },
  {
   "cell_type": "code",
   "execution_count": 78,
   "id": "13952484-9adf-445d-be75-3cb294a933f5",
   "metadata": {},
   "outputs": [],
   "source": [
    "# unfreeze last layer for finetuning\n",
    "for param in model.pre_classifier.parameters():\n",
    "    param.requires_grad = True\n",
    "\n",
    "for param in model.classifier.parameters():\n",
    "    param.requires_grad = True"
   ]
  },
  {
   "cell_type": "code",
   "execution_count": null,
   "id": "29b52e02-6584-4a2c-8d0d-7a9536b677b2",
   "metadata": {},
   "outputs": [],
   "source": []
  }
 ],
 "metadata": {
  "kernelspec": {
   "display_name": "nlp-llm",
   "language": "python",
   "name": "nlp-llm"
  },
  "language_info": {
   "codemirror_mode": {
    "name": "ipython",
    "version": 3
   },
   "file_extension": ".py",
   "mimetype": "text/x-python",
   "name": "python",
   "nbconvert_exporter": "python",
   "pygments_lexer": "ipython3",
   "version": "3.11.9"
  }
 },
 "nbformat": 4,
 "nbformat_minor": 5
}
