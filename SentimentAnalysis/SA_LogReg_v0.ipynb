{
 "cells": [
  {
   "cell_type": "markdown",
   "id": "7585c010-0e75-4f83-b1b2-aef6128f45e9",
   "metadata": {},
   "source": [
    "* Sentiment analysis\n",
    "* Baseline: Logistic Regression\n",
    "* IMDB dataset"
   ]
  },
  {
   "cell_type": "code",
   "execution_count": null,
   "id": "8ec9f8de-ce18-4ebb-8bd9-7364a45c0a19",
   "metadata": {},
   "outputs": [],
   "source": []
  },
  {
   "cell_type": "code",
   "execution_count": 1,
   "id": "d31f93b2-4e1e-47b7-bb9b-6bdda7428182",
   "metadata": {},
   "outputs": [],
   "source": [
    "# for reloading any changed module\n",
    "%load_ext autoreload\n",
    "%autoreload 2"
   ]
  },
  {
   "cell_type": "code",
   "execution_count": 2,
   "id": "aca2b891-8a15-41c5-927a-e947a6dc0af7",
   "metadata": {},
   "outputs": [],
   "source": [
    "import numpy as np\n",
    "import pandas as pd\n",
    "from pathlib import Path"
   ]
  },
  {
   "cell_type": "code",
   "execution_count": 3,
   "id": "68328933-880c-4d20-8ba6-571c7918dcf4",
   "metadata": {},
   "outputs": [],
   "source": [
    "import os"
   ]
  },
  {
   "cell_type": "code",
   "execution_count": 4,
   "id": "3fe32fdc-eb96-4f14-bfcf-e8ae63589fd1",
   "metadata": {},
   "outputs": [
    {
     "data": {
      "text/plain": [
       "'.'"
      ]
     },
     "execution_count": 4,
     "metadata": {},
     "output_type": "execute_result"
    }
   ],
   "source": [
    "os.path.curdir"
   ]
  },
  {
   "cell_type": "code",
   "execution_count": 5,
   "id": "86134709-0988-4d44-b95b-695afc6853e4",
   "metadata": {},
   "outputs": [
    {
     "data": {
      "text/plain": [
       "PosixPath('/media/skesava/D/Training/MachineLearning')"
      ]
     },
     "execution_count": 5,
     "metadata": {},
     "output_type": "execute_result"
    }
   ],
   "source": [
    "Path.cwd().parent.parent.parent"
   ]
  },
  {
   "cell_type": "code",
   "execution_count": null,
   "id": "033f4a1e-4690-4fa3-bc87-7dbee1e182c2",
   "metadata": {},
   "outputs": [],
   "source": []
  },
  {
   "cell_type": "markdown",
   "id": "65fbc9b6-25f8-4156-b61e-8584b4c38d3d",
   "metadata": {},
   "source": [
    "# Download IMDB dataset"
   ]
  },
  {
   "cell_type": "code",
   "execution_count": 6,
   "id": "45f0a3ff-9551-41b5-9fc9-79286c1d158e",
   "metadata": {},
   "outputs": [],
   "source": [
    "from local_dataset_utilities import download_dataset"
   ]
  },
  {
   "cell_type": "code",
   "execution_count": 7,
   "id": "54ae210f-9121-4b8d-828d-c9680c899987",
   "metadata": {},
   "outputs": [],
   "source": [
    "download_dataset(download_location=Path.cwd().parent.parent.parent.joinpath(\"ML datasets/IMDB_SentimentAnalysis_TextData\"))"
   ]
  },
  {
   "cell_type": "code",
   "execution_count": 8,
   "id": "627633b2-9e4f-414c-b514-a9004ab6b0d8",
   "metadata": {},
   "outputs": [],
   "source": [
    "data_directory = Path.cwd().parent.parent.parent.joinpath(\"ML datasets/IMDB_SentimentAnalysis_TextData/aclImdb\")"
   ]
  },
  {
   "cell_type": "code",
   "execution_count": 9,
   "id": "aad23aba-4f48-4e1b-b06f-9ec8facb2338",
   "metadata": {},
   "outputs": [],
   "source": [
    "if not data_directory.exists():\n",
    "    raise FileNotFoundError()"
   ]
  },
  {
   "cell_type": "code",
   "execution_count": null,
   "id": "3a6e97dc-4d7f-4e59-a37e-4498d380ecd4",
   "metadata": {},
   "outputs": [],
   "source": []
  },
  {
   "cell_type": "markdown",
   "id": "011151bb-5c08-426b-97ff-590265a1b5e3",
   "metadata": {},
   "source": [
    "# Process Data"
   ]
  },
  {
   "cell_type": "code",
   "execution_count": 10,
   "id": "09072c65-31d5-4626-9815-a65753d2aa03",
   "metadata": {},
   "outputs": [
    {
     "name": "stdout",
     "output_type": "stream",
     "text": [
      "/media/skesava/D/Training/MachineLearning/ML datasets/IMDB_SentimentAnalysis_TextData/aclImdb/train\n",
      "/media/skesava/D/Training/MachineLearning/ML datasets/IMDB_SentimentAnalysis_TextData/aclImdb/README\n",
      "/media/skesava/D/Training/MachineLearning/ML datasets/IMDB_SentimentAnalysis_TextData/aclImdb/test\n",
      "/media/skesava/D/Training/MachineLearning/ML datasets/IMDB_SentimentAnalysis_TextData/aclImdb/imdb.vocab\n",
      "/media/skesava/D/Training/MachineLearning/ML datasets/IMDB_SentimentAnalysis_TextData/aclImdb/imdbEr.txt\n"
     ]
    }
   ],
   "source": [
    "for item in data_directory.glob(pattern='*'):\n",
    "    print(item)"
   ]
  },
  {
   "cell_type": "code",
   "execution_count": 11,
   "id": "aa26f1a7-f107-441b-ae5f-d5e0f1bd2a76",
   "metadata": {},
   "outputs": [],
   "source": [
    "train_dir = data_directory.joinpath('train')\n",
    "test_dir = data_directory.joinpath('test')"
   ]
  },
  {
   "cell_type": "code",
   "execution_count": null,
   "id": "0e9b3885-b112-4bad-905c-7dfcd8d7ba2b",
   "metadata": {},
   "outputs": [],
   "source": []
  },
  {
   "cell_type": "markdown",
   "id": "5eaae1ef-3bc3-49c3-aaac-151c02dc9516",
   "metadata": {},
   "source": [
    "### README information\n",
    "\n",
    "* There is also a dataset of 50000 reviews for unsupervised learning"
   ]
  },
  {
   "cell_type": "code",
   "execution_count": 12,
   "id": "ca2651e3-1097-4f69-bc09-c69888ab8020",
   "metadata": {},
   "outputs": [],
   "source": [
    "from local_dataset_utilities import load_dataset_into_to_dataframe"
   ]
  },
  {
   "cell_type": "code",
   "execution_count": 13,
   "id": "015d635f-1511-4706-9935-9be82b49291c",
   "metadata": {},
   "outputs": [],
   "source": [
    "# from importlib import reload\n",
    "# only works if the module is in sys.modules"
   ]
  },
  {
   "cell_type": "code",
   "execution_count": 14,
   "id": "3130fd02-4126-41c5-b09c-0d7963a5d9e7",
   "metadata": {},
   "outputs": [],
   "source": [
    "np.random.seed(0)"
   ]
  },
  {
   "cell_type": "code",
   "execution_count": 15,
   "id": "4a371db1-fc67-4011-b412-4e37dfa7d131",
   "metadata": {},
   "outputs": [
    {
     "name": "stderr",
     "output_type": "stream",
     "text": [
      "100%|█████████████████████████████████████████████| 50000/50000 [00:50<00:00, 991.12it/s]"
     ]
    },
    {
     "name": "stdout",
     "output_type": "stream",
     "text": [
      "Class distribution: [25000 25000]\n"
     ]
    },
    {
     "name": "stderr",
     "output_type": "stream",
     "text": [
      "\n"
     ]
    }
   ],
   "source": [
    "df = load_dataset_into_to_dataframe(data_directory)"
   ]
  },
  {
   "cell_type": "code",
   "execution_count": 16,
   "id": "21267594-c928-4424-9dc1-464d35d1364e",
   "metadata": {},
   "outputs": [],
   "source": [
    "df = df.reindex(np.random.permutation(df.index))"
   ]
  },
  {
   "cell_type": "code",
   "execution_count": 17,
   "id": "166e4661-0a68-4cf5-84ab-a4dee6547a49",
   "metadata": {},
   "outputs": [
    {
     "data": {
      "text/html": [
       "<div>\n",
       "<style scoped>\n",
       "    .dataframe tbody tr th:only-of-type {\n",
       "        vertical-align: middle;\n",
       "    }\n",
       "\n",
       "    .dataframe tbody tr th {\n",
       "        vertical-align: top;\n",
       "    }\n",
       "\n",
       "    .dataframe thead th {\n",
       "        text-align: right;\n",
       "    }\n",
       "</style>\n",
       "<table border=\"1\" class=\"dataframe\">\n",
       "  <thead>\n",
       "    <tr style=\"text-align: right;\">\n",
       "      <th></th>\n",
       "      <th>text</th>\n",
       "      <th>label</th>\n",
       "    </tr>\n",
       "  </thead>\n",
       "  <tbody>\n",
       "    <tr>\n",
       "      <th>0</th>\n",
       "      <td>I went and saw this movie last night after bei...</td>\n",
       "      <td>1</td>\n",
       "    </tr>\n",
       "    <tr>\n",
       "      <th>0</th>\n",
       "      <td>Actor turned director Bill Paxton follows up h...</td>\n",
       "      <td>1</td>\n",
       "    </tr>\n",
       "    <tr>\n",
       "      <th>0</th>\n",
       "      <td>As a recreational golfer with some knowledge o...</td>\n",
       "      <td>1</td>\n",
       "    </tr>\n",
       "    <tr>\n",
       "      <th>0</th>\n",
       "      <td>I saw this film in a sneak preview, and it is ...</td>\n",
       "      <td>1</td>\n",
       "    </tr>\n",
       "    <tr>\n",
       "      <th>0</th>\n",
       "      <td>Bill Paxton has taken the true story of the 19...</td>\n",
       "      <td>1</td>\n",
       "    </tr>\n",
       "    <tr>\n",
       "      <th>0</th>\n",
       "      <td>I saw this film on September 1st, 2005 in Indi...</td>\n",
       "      <td>1</td>\n",
       "    </tr>\n",
       "    <tr>\n",
       "      <th>0</th>\n",
       "      <td>Maybe I'm reading into this too much, but I wo...</td>\n",
       "      <td>1</td>\n",
       "    </tr>\n",
       "    <tr>\n",
       "      <th>0</th>\n",
       "      <td>I felt this film did have many good qualities....</td>\n",
       "      <td>1</td>\n",
       "    </tr>\n",
       "    <tr>\n",
       "      <th>0</th>\n",
       "      <td>This movie is amazing because the fact that th...</td>\n",
       "      <td>1</td>\n",
       "    </tr>\n",
       "    <tr>\n",
       "      <th>0</th>\n",
       "      <td>\"Quitting\" may be as much about exiting a pre-...</td>\n",
       "      <td>1</td>\n",
       "    </tr>\n",
       "  </tbody>\n",
       "</table>\n",
       "</div>"
      ],
      "text/plain": [
       "                                                text  label\n",
       "0  I went and saw this movie last night after bei...      1\n",
       "0  Actor turned director Bill Paxton follows up h...      1\n",
       "0  As a recreational golfer with some knowledge o...      1\n",
       "0  I saw this film in a sneak preview, and it is ...      1\n",
       "0  Bill Paxton has taken the true story of the 19...      1\n",
       "0  I saw this film on September 1st, 2005 in Indi...      1\n",
       "0  Maybe I'm reading into this too much, but I wo...      1\n",
       "0  I felt this film did have many good qualities....      1\n",
       "0  This movie is amazing because the fact that th...      1\n",
       "0  \"Quitting\" may be as much about exiting a pre-...      1"
      ]
     },
     "execution_count": 17,
     "metadata": {},
     "output_type": "execute_result"
    }
   ],
   "source": [
    "df.head(10)"
   ]
  },
  {
   "cell_type": "code",
   "execution_count": 19,
   "id": "2db312e8-34a5-4763-a23f-735b35d32a24",
   "metadata": {},
   "outputs": [
    {
     "data": {
      "text/html": [
       "<div>\n",
       "<style scoped>\n",
       "    .dataframe tbody tr th:only-of-type {\n",
       "        vertical-align: middle;\n",
       "    }\n",
       "\n",
       "    .dataframe tbody tr th {\n",
       "        vertical-align: top;\n",
       "    }\n",
       "\n",
       "    .dataframe thead th {\n",
       "        text-align: right;\n",
       "    }\n",
       "</style>\n",
       "<table border=\"1\" class=\"dataframe\">\n",
       "  <thead>\n",
       "    <tr style=\"text-align: right;\">\n",
       "      <th></th>\n",
       "      <th>text</th>\n",
       "      <th>label</th>\n",
       "    </tr>\n",
       "  </thead>\n",
       "  <tbody>\n",
       "    <tr>\n",
       "      <th>0</th>\n",
       "      <td>Yeti: Curse of the Snow Demon starts aboard a ...</td>\n",
       "      <td>0</td>\n",
       "    </tr>\n",
       "    <tr>\n",
       "      <th>0</th>\n",
       "      <td>Hmmm, a sports team is in a plane crash, gets ...</td>\n",
       "      <td>0</td>\n",
       "    </tr>\n",
       "    <tr>\n",
       "      <th>0</th>\n",
       "      <td>I saw this piece of garbage on AMC last night,...</td>\n",
       "      <td>0</td>\n",
       "    </tr>\n",
       "    <tr>\n",
       "      <th>0</th>\n",
       "      <td>Although the production and Jerry Jameson's di...</td>\n",
       "      <td>0</td>\n",
       "    </tr>\n",
       "    <tr>\n",
       "      <th>0</th>\n",
       "      <td>Capt. Gallagher (Lemmon) and flight attendant ...</td>\n",
       "      <td>0</td>\n",
       "    </tr>\n",
       "    <tr>\n",
       "      <th>0</th>\n",
       "      <td>Towards the end of the movie, I felt it was to...</td>\n",
       "      <td>0</td>\n",
       "    </tr>\n",
       "    <tr>\n",
       "      <th>0</th>\n",
       "      <td>This is the kind of movie that my enemies cont...</td>\n",
       "      <td>0</td>\n",
       "    </tr>\n",
       "    <tr>\n",
       "      <th>0</th>\n",
       "      <td>I saw 'Descent' last night at the Stockholm Fi...</td>\n",
       "      <td>0</td>\n",
       "    </tr>\n",
       "    <tr>\n",
       "      <th>0</th>\n",
       "      <td>Some films that you pick up for a pound turn o...</td>\n",
       "      <td>0</td>\n",
       "    </tr>\n",
       "    <tr>\n",
       "      <th>0</th>\n",
       "      <td>This is one of the dumbest films, I've ever se...</td>\n",
       "      <td>0</td>\n",
       "    </tr>\n",
       "  </tbody>\n",
       "</table>\n",
       "</div>"
      ],
      "text/plain": [
       "                                                text  label\n",
       "0  Yeti: Curse of the Snow Demon starts aboard a ...      0\n",
       "0  Hmmm, a sports team is in a plane crash, gets ...      0\n",
       "0  I saw this piece of garbage on AMC last night,...      0\n",
       "0  Although the production and Jerry Jameson's di...      0\n",
       "0  Capt. Gallagher (Lemmon) and flight attendant ...      0\n",
       "0  Towards the end of the movie, I felt it was to...      0\n",
       "0  This is the kind of movie that my enemies cont...      0\n",
       "0  I saw 'Descent' last night at the Stockholm Fi...      0\n",
       "0  Some films that you pick up for a pound turn o...      0\n",
       "0  This is one of the dumbest films, I've ever se...      0"
      ]
     },
     "execution_count": 19,
     "metadata": {},
     "output_type": "execute_result"
    }
   ],
   "source": [
    "df.tail(10)"
   ]
  },
  {
   "cell_type": "code",
   "execution_count": 18,
   "id": "b1521768-3726-418d-8fa4-9f400fd5c5c3",
   "metadata": {},
   "outputs": [
    {
     "name": "stdout",
     "output_type": "stream",
     "text": [
      "<class 'pandas.core.frame.DataFrame'>\n",
      "Index: 50000 entries, 0 to 0\n",
      "Data columns (total 2 columns):\n",
      " #   Column  Non-Null Count  Dtype \n",
      "---  ------  --------------  ----- \n",
      " 0   text    50000 non-null  object\n",
      " 1   label   50000 non-null  int64 \n",
      "dtypes: int64(1), object(1)\n",
      "memory usage: 1.1+ MB\n"
     ]
    }
   ],
   "source": [
    "df.info()"
   ]
  },
  {
   "cell_type": "code",
   "execution_count": null,
   "id": "2e627275-92ec-4f54-bc21-232c15219b07",
   "metadata": {},
   "outputs": [],
   "source": []
  },
  {
   "cell_type": "markdown",
   "id": "a62954bf-21ef-4c06-86bd-cfd2b5096286",
   "metadata": {},
   "source": [
    "# Examine data"
   ]
  },
  {
   "cell_type": "code",
   "execution_count": 20,
   "id": "a3690172-b205-486c-949a-1cc028a5adc3",
   "metadata": {},
   "outputs": [
    {
     "data": {
      "text/plain": [
       "array([25000, 25000])"
      ]
     },
     "execution_count": 20,
     "metadata": {},
     "output_type": "execute_result"
    }
   ],
   "source": [
    "np.bincount(df.label)"
   ]
  },
  {
   "cell_type": "code",
   "execution_count": 21,
   "id": "ae1f811f-9f47-48fb-8b99-76fe80e9c1a2",
   "metadata": {},
   "outputs": [
    {
     "data": {
      "text/plain": [
       "(array([0, 1]), array([25000, 25000]))"
      ]
     },
     "execution_count": 21,
     "metadata": {},
     "output_type": "execute_result"
    }
   ],
   "source": [
    "np.unique(df.label, return_counts=True)"
   ]
  },
  {
   "cell_type": "markdown",
   "id": "3656e4a1-8812-49f2-8956-9342eae5fa7f",
   "metadata": {},
   "source": [
    "#### Note\n",
    "* Equal number of 0 and 1 labels"
   ]
  },
  {
   "cell_type": "code",
   "execution_count": null,
   "id": "6a94326a-1b31-4a4d-b4c1-4a515927e95e",
   "metadata": {},
   "outputs": [],
   "source": []
  },
  {
   "cell_type": "markdown",
   "id": "beecd060-c5ca-4dd0-8ceb-7bc1eac58942",
   "metadata": {},
   "source": [
    "# Partition data and save"
   ]
  },
  {
   "cell_type": "code",
   "execution_count": 22,
   "id": "ad48e6fc-00f0-46cd-aa4b-b9398194abf6",
   "metadata": {},
   "outputs": [
    {
     "data": {
      "text/html": [
       "<div>\n",
       "<style scoped>\n",
       "    .dataframe tbody tr th:only-of-type {\n",
       "        vertical-align: middle;\n",
       "    }\n",
       "\n",
       "    .dataframe tbody tr th {\n",
       "        vertical-align: top;\n",
       "    }\n",
       "\n",
       "    .dataframe thead th {\n",
       "        text-align: right;\n",
       "    }\n",
       "</style>\n",
       "<table border=\"1\" class=\"dataframe\">\n",
       "  <thead>\n",
       "    <tr style=\"text-align: right;\">\n",
       "      <th></th>\n",
       "      <th>text</th>\n",
       "      <th>label</th>\n",
       "    </tr>\n",
       "  </thead>\n",
       "  <tbody>\n",
       "    <tr>\n",
       "      <th>0</th>\n",
       "      <td>Robert Duvall is a direct descendent of Confed...</td>\n",
       "      <td>1</td>\n",
       "    </tr>\n",
       "    <tr>\n",
       "      <th>0</th>\n",
       "      <td>The Railway Children, at least this 1970 movie...</td>\n",
       "      <td>1</td>\n",
       "    </tr>\n",
       "    <tr>\n",
       "      <th>0</th>\n",
       "      <td>Anatomie was a German made Movie and subtitled...</td>\n",
       "      <td>0</td>\n",
       "    </tr>\n",
       "    <tr>\n",
       "      <th>0</th>\n",
       "      <td>This film makes Clooney. All his films combine...</td>\n",
       "      <td>1</td>\n",
       "    </tr>\n",
       "    <tr>\n",
       "      <th>0</th>\n",
       "      <td>This is easily the best cinematic version of W...</td>\n",
       "      <td>1</td>\n",
       "    </tr>\n",
       "    <tr>\n",
       "      <th>0</th>\n",
       "      <td>We taped this when it aired on TV back in 1995...</td>\n",
       "      <td>1</td>\n",
       "    </tr>\n",
       "    <tr>\n",
       "      <th>0</th>\n",
       "      <td>This movie got extremely silly when things sta...</td>\n",
       "      <td>0</td>\n",
       "    </tr>\n",
       "    <tr>\n",
       "      <th>0</th>\n",
       "      <td>Its No wonder this was free with the Mail on S...</td>\n",
       "      <td>0</td>\n",
       "    </tr>\n",
       "    <tr>\n",
       "      <th>0</th>\n",
       "      <td>Seriously, I don´t really get why people here ...</td>\n",
       "      <td>1</td>\n",
       "    </tr>\n",
       "    <tr>\n",
       "      <th>0</th>\n",
       "      <td>A great suspense movie with terrific slow came...</td>\n",
       "      <td>1</td>\n",
       "    </tr>\n",
       "  </tbody>\n",
       "</table>\n",
       "</div>"
      ],
      "text/plain": [
       "                                                text  label\n",
       "0  Robert Duvall is a direct descendent of Confed...      1\n",
       "0  The Railway Children, at least this 1970 movie...      1\n",
       "0  Anatomie was a German made Movie and subtitled...      0\n",
       "0  This film makes Clooney. All his films combine...      1\n",
       "0  This is easily the best cinematic version of W...      1\n",
       "0  We taped this when it aired on TV back in 1995...      1\n",
       "0  This movie got extremely silly when things sta...      0\n",
       "0  Its No wonder this was free with the Mail on S...      0\n",
       "0  Seriously, I don´t really get why people here ...      1\n",
       "0  A great suspense movie with terrific slow came...      1"
      ]
     },
     "execution_count": 22,
     "metadata": {},
     "output_type": "execute_result"
    }
   ],
   "source": [
    "df = df.sample(frac=1)\n",
    "df.head(10)"
   ]
  },
  {
   "cell_type": "code",
   "execution_count": 23,
   "id": "ae642193-c998-4746-9b5c-79949c6aba03",
   "metadata": {},
   "outputs": [
    {
     "data": {
      "text/html": [
       "<div>\n",
       "<style scoped>\n",
       "    .dataframe tbody tr th:only-of-type {\n",
       "        vertical-align: middle;\n",
       "    }\n",
       "\n",
       "    .dataframe tbody tr th {\n",
       "        vertical-align: top;\n",
       "    }\n",
       "\n",
       "    .dataframe thead th {\n",
       "        text-align: right;\n",
       "    }\n",
       "</style>\n",
       "<table border=\"1\" class=\"dataframe\">\n",
       "  <thead>\n",
       "    <tr style=\"text-align: right;\">\n",
       "      <th></th>\n",
       "      <th>index</th>\n",
       "      <th>text</th>\n",
       "      <th>label</th>\n",
       "    </tr>\n",
       "  </thead>\n",
       "  <tbody>\n",
       "    <tr>\n",
       "      <th>0</th>\n",
       "      <td>0</td>\n",
       "      <td>Robert Duvall is a direct descendent of Confed...</td>\n",
       "      <td>1</td>\n",
       "    </tr>\n",
       "    <tr>\n",
       "      <th>1</th>\n",
       "      <td>0</td>\n",
       "      <td>The Railway Children, at least this 1970 movie...</td>\n",
       "      <td>1</td>\n",
       "    </tr>\n",
       "    <tr>\n",
       "      <th>2</th>\n",
       "      <td>0</td>\n",
       "      <td>Anatomie was a German made Movie and subtitled...</td>\n",
       "      <td>0</td>\n",
       "    </tr>\n",
       "    <tr>\n",
       "      <th>3</th>\n",
       "      <td>0</td>\n",
       "      <td>This film makes Clooney. All his films combine...</td>\n",
       "      <td>1</td>\n",
       "    </tr>\n",
       "    <tr>\n",
       "      <th>4</th>\n",
       "      <td>0</td>\n",
       "      <td>This is easily the best cinematic version of W...</td>\n",
       "      <td>1</td>\n",
       "    </tr>\n",
       "    <tr>\n",
       "      <th>5</th>\n",
       "      <td>0</td>\n",
       "      <td>We taped this when it aired on TV back in 1995...</td>\n",
       "      <td>1</td>\n",
       "    </tr>\n",
       "    <tr>\n",
       "      <th>6</th>\n",
       "      <td>0</td>\n",
       "      <td>This movie got extremely silly when things sta...</td>\n",
       "      <td>0</td>\n",
       "    </tr>\n",
       "    <tr>\n",
       "      <th>7</th>\n",
       "      <td>0</td>\n",
       "      <td>Its No wonder this was free with the Mail on S...</td>\n",
       "      <td>0</td>\n",
       "    </tr>\n",
       "    <tr>\n",
       "      <th>8</th>\n",
       "      <td>0</td>\n",
       "      <td>Seriously, I don´t really get why people here ...</td>\n",
       "      <td>1</td>\n",
       "    </tr>\n",
       "    <tr>\n",
       "      <th>9</th>\n",
       "      <td>0</td>\n",
       "      <td>A great suspense movie with terrific slow came...</td>\n",
       "      <td>1</td>\n",
       "    </tr>\n",
       "  </tbody>\n",
       "</table>\n",
       "</div>"
      ],
      "text/plain": [
       "   index                                               text  label\n",
       "0      0  Robert Duvall is a direct descendent of Confed...      1\n",
       "1      0  The Railway Children, at least this 1970 movie...      1\n",
       "2      0  Anatomie was a German made Movie and subtitled...      0\n",
       "3      0  This film makes Clooney. All his films combine...      1\n",
       "4      0  This is easily the best cinematic version of W...      1\n",
       "5      0  We taped this when it aired on TV back in 1995...      1\n",
       "6      0  This movie got extremely silly when things sta...      0\n",
       "7      0  Its No wonder this was free with the Mail on S...      0\n",
       "8      0  Seriously, I don´t really get why people here ...      1\n",
       "9      0  A great suspense movie with terrific slow came...      1"
      ]
     },
     "execution_count": 23,
     "metadata": {},
     "output_type": "execute_result"
    }
   ],
   "source": [
    "df.reset_index(inplace=True)\n",
    "df.head(10)"
   ]
  },
  {
   "cell_type": "code",
   "execution_count": 25,
   "id": "44addd22-fd12-452b-8fe4-384bf5238f75",
   "metadata": {},
   "outputs": [
    {
     "data": {
      "text/html": [
       "<div>\n",
       "<style scoped>\n",
       "    .dataframe tbody tr th:only-of-type {\n",
       "        vertical-align: middle;\n",
       "    }\n",
       "\n",
       "    .dataframe tbody tr th {\n",
       "        vertical-align: top;\n",
       "    }\n",
       "\n",
       "    .dataframe thead th {\n",
       "        text-align: right;\n",
       "    }\n",
       "</style>\n",
       "<table border=\"1\" class=\"dataframe\">\n",
       "  <thead>\n",
       "    <tr style=\"text-align: right;\">\n",
       "      <th></th>\n",
       "      <th>text</th>\n",
       "      <th>label</th>\n",
       "    </tr>\n",
       "  </thead>\n",
       "  <tbody>\n",
       "    <tr>\n",
       "      <th>0</th>\n",
       "      <td>Robert Duvall is a direct descendent of Confed...</td>\n",
       "      <td>1</td>\n",
       "    </tr>\n",
       "    <tr>\n",
       "      <th>1</th>\n",
       "      <td>The Railway Children, at least this 1970 movie...</td>\n",
       "      <td>1</td>\n",
       "    </tr>\n",
       "    <tr>\n",
       "      <th>2</th>\n",
       "      <td>Anatomie was a German made Movie and subtitled...</td>\n",
       "      <td>0</td>\n",
       "    </tr>\n",
       "    <tr>\n",
       "      <th>3</th>\n",
       "      <td>This film makes Clooney. All his films combine...</td>\n",
       "      <td>1</td>\n",
       "    </tr>\n",
       "    <tr>\n",
       "      <th>4</th>\n",
       "      <td>This is easily the best cinematic version of W...</td>\n",
       "      <td>1</td>\n",
       "    </tr>\n",
       "  </tbody>\n",
       "</table>\n",
       "</div>"
      ],
      "text/plain": [
       "                                                text  label\n",
       "0  Robert Duvall is a direct descendent of Confed...      1\n",
       "1  The Railway Children, at least this 1970 movie...      1\n",
       "2  Anatomie was a German made Movie and subtitled...      0\n",
       "3  This film makes Clooney. All his films combine...      1\n",
       "4  This is easily the best cinematic version of W...      1"
      ]
     },
     "execution_count": 25,
     "metadata": {},
     "output_type": "execute_result"
    }
   ],
   "source": [
    "df.drop(columns = ['index'], inplace=True)\n",
    "df.head(5)"
   ]
  },
  {
   "cell_type": "code",
   "execution_count": 27,
   "id": "7c016589-a39e-4fe4-833f-31151fb3d091",
   "metadata": {},
   "outputs": [
    {
     "data": {
      "text/html": [
       "<div>\n",
       "<style scoped>\n",
       "    .dataframe tbody tr th:only-of-type {\n",
       "        vertical-align: middle;\n",
       "    }\n",
       "\n",
       "    .dataframe tbody tr th {\n",
       "        vertical-align: top;\n",
       "    }\n",
       "\n",
       "    .dataframe thead th {\n",
       "        text-align: right;\n",
       "    }\n",
       "</style>\n",
       "<table border=\"1\" class=\"dataframe\">\n",
       "  <thead>\n",
       "    <tr style=\"text-align: right;\">\n",
       "      <th></th>\n",
       "      <th>text</th>\n",
       "      <th>label</th>\n",
       "    </tr>\n",
       "  </thead>\n",
       "  <tbody>\n",
       "    <tr>\n",
       "      <th>49995</th>\n",
       "      <td>This film, for what it was set out to be, succ...</td>\n",
       "      <td>1</td>\n",
       "    </tr>\n",
       "    <tr>\n",
       "      <th>49996</th>\n",
       "      <td>I love this movie so much. It always makes me ...</td>\n",
       "      <td>1</td>\n",
       "    </tr>\n",
       "    <tr>\n",
       "      <th>49997</th>\n",
       "      <td>I was on a mission to watch Uwe Boll movies to...</td>\n",
       "      <td>0</td>\n",
       "    </tr>\n",
       "    <tr>\n",
       "      <th>49998</th>\n",
       "      <td>I haven't laughed so much in a theater in year...</td>\n",
       "      <td>0</td>\n",
       "    </tr>\n",
       "    <tr>\n",
       "      <th>49999</th>\n",
       "      <td>The story for Hare Rama Hare Krishna actually ...</td>\n",
       "      <td>1</td>\n",
       "    </tr>\n",
       "  </tbody>\n",
       "</table>\n",
       "</div>"
      ],
      "text/plain": [
       "                                                    text  label\n",
       "49995  This film, for what it was set out to be, succ...      1\n",
       "49996  I love this movie so much. It always makes me ...      1\n",
       "49997  I was on a mission to watch Uwe Boll movies to...      0\n",
       "49998  I haven't laughed so much in a theater in year...      0\n",
       "49999  The story for Hare Rama Hare Krishna actually ...      1"
      ]
     },
     "execution_count": 27,
     "metadata": {},
     "output_type": "execute_result"
    }
   ],
   "source": [
    "df.tail(5)"
   ]
  },
  {
   "cell_type": "code",
   "execution_count": 28,
   "id": "7e466f15-79d3-4766-9d84-96bd4733e021",
   "metadata": {},
   "outputs": [
    {
     "data": {
      "text/plain": [
       "PosixPath('/media/skesava/D/Training/MachineLearning/ML datasets/IMDB_SentimentAnalysis_TextData/aclImdb')"
      ]
     },
     "execution_count": 28,
     "metadata": {},
     "output_type": "execute_result"
    }
   ],
   "source": [
    "data_directory"
   ]
  },
  {
   "cell_type": "code",
   "execution_count": 29,
   "id": "8fb6b145-5cad-4413-a3d3-29685d8c9161",
   "metadata": {},
   "outputs": [],
   "source": [
    "processed_data_directory = data_directory.joinpath(\"processed_data\")"
   ]
  },
  {
   "cell_type": "code",
   "execution_count": 30,
   "id": "33ce5606-29ab-4b4e-b721-9cef7ccb76d2",
   "metadata": {},
   "outputs": [
    {
     "data": {
      "text/plain": [
       "False"
      ]
     },
     "execution_count": 30,
     "metadata": {},
     "output_type": "execute_result"
    }
   ],
   "source": [
    "processed_data_directory.exists()"
   ]
  },
  {
   "cell_type": "code",
   "execution_count": 31,
   "id": "aae1821d-9bed-45a2-90ff-643c25a5d15a",
   "metadata": {},
   "outputs": [],
   "source": [
    "if not processed_data_directory.exists():\n",
    "    Path.mkdir(processed_data_directory)"
   ]
  },
  {
   "cell_type": "code",
   "execution_count": 32,
   "id": "a91dec71-df6e-45e7-bf7f-3fea8dc4b12b",
   "metadata": {},
   "outputs": [],
   "source": [
    "df.iloc[:35000].to_csv(processed_data_directory.joinpath(\"train.csv\"), index=False, encoding=\"utf-8\")\n",
    "df.iloc[35000:40000].to_csv(processed_data_directory.joinpath(\"val.csv\"), index=False, encoding=\"utf-8\")\n",
    "df.iloc[40000:].to_csv(processed_data_directory.joinpath(\"test.csv\"), index=False, encoding=\"utf-8\")"
   ]
  },
  {
   "cell_type": "code",
   "execution_count": null,
   "id": "4c184094-667c-4e70-bef4-2ff3154df73e",
   "metadata": {},
   "outputs": [],
   "source": []
  },
  {
   "cell_type": "markdown",
   "id": "c7aead40-6a77-4075-b210-457f62ee72a6",
   "metadata": {},
   "source": [
    "# torch Dataset and Dataloader"
   ]
  },
  {
   "cell_type": "code",
   "execution_count": 33,
   "id": "80bfafaf-a032-43ad-913f-048cae3e3c9e",
   "metadata": {},
   "outputs": [],
   "source": [
    "from local_dataset_utilities import IMDBDataset"
   ]
  },
  {
   "cell_type": "markdown",
   "id": "9d5a19fc-2b9a-4dae-a3fe-ee3a463ca05d",
   "metadata": {},
   "source": [
    "# TODO: create datasets"
   ]
  },
  {
   "cell_type": "code",
   "execution_count": 34,
   "id": "d122ad5a-3d25-4a1f-96e3-4ca1168e3390",
   "metadata": {},
   "outputs": [
    {
     "ename": "TypeError",
     "evalue": "can't convert np.ndarray of type numpy.object_. The only supported types are: float64, float32, float16, complex64, complex128, int64, int32, int16, int8, uint64, uint32, uint16, uint8, and bool.",
     "output_type": "error",
     "traceback": [
      "\u001b[0;31m---------------------------------------------------------------------------\u001b[0m",
      "\u001b[0;31mTypeError\u001b[0m                                 Traceback (most recent call last)",
      "Cell \u001b[0;32mIn[34], line 1\u001b[0m\n\u001b[0;32m----> 1\u001b[0m train_dataset \u001b[38;5;241m=\u001b[39m \u001b[43mIMDBDataset\u001b[49m\u001b[43m(\u001b[49m\u001b[43mprocessed_data_directory\u001b[49m\u001b[38;5;241;43m.\u001b[39;49m\u001b[43mjoinpath\u001b[49m\u001b[43m(\u001b[49m\u001b[38;5;124;43m\"\u001b[39;49m\u001b[38;5;124;43mtrain.csv\u001b[39;49m\u001b[38;5;124;43m\"\u001b[39;49m\u001b[43m)\u001b[49m\u001b[43m)\u001b[49m\n",
      "File \u001b[0;32m/media/skesava/D/Training/MachineLearning/Pytorch/NLP_using_LLMs/SentimentAnalysis/local_dataset_utilities.py:99\u001b[0m, in \u001b[0;36mIMDBDataset.__init__\u001b[0;34m(self, file_path)\u001b[0m\n\u001b[1;32m     96\u001b[0m df \u001b[38;5;241m=\u001b[39m pd\u001b[38;5;241m.\u001b[39mread_csv(file_path)\n\u001b[1;32m     97\u001b[0m \u001b[38;5;66;03m# import data into a dataframe\u001b[39;00m\n\u001b[0;32m---> 99\u001b[0m \u001b[38;5;28mself\u001b[39m\u001b[38;5;241m.\u001b[39mX \u001b[38;5;241m=\u001b[39m \u001b[43mtorch\u001b[49m\u001b[38;5;241;43m.\u001b[39;49m\u001b[43mtensor\u001b[49m\u001b[43m(\u001b[49m\u001b[43mdf\u001b[49m\u001b[43m[\u001b[49m\u001b[38;5;124;43m'\u001b[39;49m\u001b[38;5;124;43mtext\u001b[39;49m\u001b[38;5;124;43m'\u001b[39;49m\u001b[43m]\u001b[49m\u001b[38;5;241;43m.\u001b[39;49m\u001b[43mvalues\u001b[49m\u001b[43m)\u001b[49m\n\u001b[1;32m    100\u001b[0m \u001b[38;5;28mself\u001b[39m\u001b[38;5;241m.\u001b[39my \u001b[38;5;241m=\u001b[39m torch\u001b[38;5;241m.\u001b[39mtensor(df[\u001b[38;5;124m'\u001b[39m\u001b[38;5;124mlabel\u001b[39m\u001b[38;5;124m'\u001b[39m]\u001b[38;5;241m.\u001b[39mvalues)\n",
      "\u001b[0;31mTypeError\u001b[0m: can't convert np.ndarray of type numpy.object_. The only supported types are: float64, float32, float16, complex64, complex128, int64, int32, int16, int8, uint64, uint32, uint16, uint8, and bool."
     ]
    }
   ],
   "source": [
    "train_dataset = IMDBDataset(processed_data_directory.joinpath(\"train.csv\"))"
   ]
  },
  {
   "cell_type": "code",
   "execution_count": 38,
   "id": "5a7bdee3-301a-4b83-92aa-a9d3ac5b917d",
   "metadata": {},
   "outputs": [],
   "source": [
    "import torch"
   ]
  },
  {
   "cell_type": "code",
   "execution_count": 39,
   "id": "2ad45581-d77c-424a-bb04-dbc48bb32c85",
   "metadata": {},
   "outputs": [
    {
     "ename": "TypeError",
     "evalue": "can't convert np.ndarray of type numpy.object_. The only supported types are: float64, float32, float16, complex64, complex128, int64, int32, int16, int8, uint64, uint32, uint16, uint8, and bool.",
     "output_type": "error",
     "traceback": [
      "\u001b[0;31m---------------------------------------------------------------------------\u001b[0m",
      "\u001b[0;31mTypeError\u001b[0m                                 Traceback (most recent call last)",
      "Cell \u001b[0;32mIn[39], line 1\u001b[0m\n\u001b[0;32m----> 1\u001b[0m \u001b[43mtorch\u001b[49m\u001b[38;5;241;43m.\u001b[39;49m\u001b[43mtensor\u001b[49m\u001b[43m(\u001b[49m\u001b[43mdf\u001b[49m\u001b[43m[\u001b[49m\u001b[38;5;124;43m'\u001b[39;49m\u001b[38;5;124;43mtext\u001b[39;49m\u001b[38;5;124;43m'\u001b[39;49m\u001b[43m]\u001b[49m\u001b[38;5;241;43m.\u001b[39;49m\u001b[43mto_numpy\u001b[49m\u001b[43m(\u001b[49m\u001b[43m)\u001b[49m\u001b[43m)\u001b[49m\n",
      "\u001b[0;31mTypeError\u001b[0m: can't convert np.ndarray of type numpy.object_. The only supported types are: float64, float32, float16, complex64, complex128, int64, int32, int16, int8, uint64, uint32, uint16, uint8, and bool."
     ]
    }
   ],
   "source": [
    "torch.tensor(df['text'].to_numpy())"
   ]
  },
  {
   "cell_type": "code",
   "execution_count": null,
   "id": "d3ab5d82-8e57-4b30-bbc3-c8e26c2bf786",
   "metadata": {},
   "outputs": [],
   "source": []
  }
 ],
 "metadata": {
  "kernelspec": {
   "display_name": "nlp_llm",
   "language": "python",
   "name": "nlp_llm"
  },
  "language_info": {
   "codemirror_mode": {
    "name": "ipython",
    "version": 3
   },
   "file_extension": ".py",
   "mimetype": "text/x-python",
   "name": "python",
   "nbconvert_exporter": "python",
   "pygments_lexer": "ipython3",
   "version": "3.11.9"
  }
 },
 "nbformat": 4,
 "nbformat_minor": 5
}
